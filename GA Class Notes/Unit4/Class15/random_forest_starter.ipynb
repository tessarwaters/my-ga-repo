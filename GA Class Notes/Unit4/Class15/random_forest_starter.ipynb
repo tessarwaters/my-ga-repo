{
 "cells": [
  {
   "cell_type": "markdown",
   "metadata": {},
   "source": [
    "\n",
    "<img src=\"http://imgur.com/1ZcRyrc.png\" style=\"float: left; margin: 15px; height: 80px\">\n",
    "\n",
    "# Random Forests and ExtraTrees\n",
    "\n",
    "\n",
    "_Authors: Matt Brems (DC), Riley Dallas (AUS)_\n",
    "\n",
    "---"
   ]
  },
  {
   "cell_type": "markdown",
   "metadata": {},
   "source": [
    "## Random Forests\n",
    "---\n",
    "\n",
    "With bagged decision trees, we generate many different trees on pretty similar data. These trees are **strongly correlated** with one another. Because these trees are correlated with one another, they will have high variance. Looking at the variance of the average of two random variables $T_1$ and $T_2$:\n",
    "\n",
    "$$\n",
    "\\begin{eqnarray*}\n",
    "Var\\left(\\frac{T_1+T_2}{2}\\right) &=& \\frac{1}{4}\\left[Var(T_1) + Var(T_2) + 2Cov(T_1,T_2)\\right]\n",
    "\\end{eqnarray*}\n",
    "$$\n",
    "\n",
    "If $T_1$ and $T_2$ are highly correlated, then the variance will about as high as we'd see with individual decision trees. By \"de-correlating\" our trees from one another, we can drastically reduce the variance of our model.\n",
    "\n",
    "That's the difference between bagged decision trees and random forests! We're going to do the same thing as before, but we're going to de-correlate our trees. This will reduce our variance (at the expense of a small increase in bias) and thus should greatly improve the overall performance of the final model.\n",
    "\n",
    "So how do we \"de-correlate\" our trees?\n",
    "\n",
    "Random forests differ from bagging decision trees in only one way: they use a modified tree learning algorithm that selects, at each split in the learning process, a **random subset of the features**. This process is sometimes called the *random subspace method*.\n",
    "\n",
    "The reason for doing this is the correlation of the trees in an ordinary bootstrap sample: if one or a few features are very strong predictors for the response variable (target output), these features will be used in many/all of the bagged decision trees, causing them to become correlated. By selecting a random subset of features at each split, we counter this correlation between base trees, strengthening the overall model.\n",
    "\n",
    "For a problem with $p$ features, it is typical to use:\n",
    "\n",
    "- $\\sqrt{p}$ (rounded down) features in each split for a classification problem.\n",
    "- $p/3$ (rounded down) with a minimum node size of 5 as the default for a regression problem.\n",
    "\n",
    "While this is a guideline, Hastie and Tibshirani (authors of Introduction to Statistical Learning and Elements of Statistical Learning) have suggested this as a good rule in the absence of some rationale to do something different.\n",
    "\n",
    "Random forests, a step beyond bagged decision trees, are **very widely used** classifiers and regressors. They are relatively simple to use because they require very few parameters to set and they perform pretty well.\n",
    "- It is quite common for interviewers to ask how a random forest is constructed or how it is superior to a single decision tree.\n",
    "\n",
    "--- \n",
    "\n",
    "## Extremely Randomized Trees (ExtraTrees)\n",
    "Adding another step of randomization (and thus de-correlation) yields extremely randomized trees, or _ExtraTrees_. Like Random Forests, these are trained using the random subspace method (sampling of features). However, they are trained on the entire dataset instead of bootstrapped samples. A layer of randomness is introduced in the way the nodes are split. Instead of computing the locally optimal feature/split combination (based on, e.g., information gain or the Gini impurity) for each feature under consideration, a random value is selected for the split. This value is selected from the feature's empirical range.\n",
    "\n",
    "This further reduces the variance, but causes an increase in bias. If you're considering using ExtraTrees, you might consider this to be a hyperparameter you can tune. Build an ExtraTrees model and a Random Forest model, then compare their performance!\n",
    "\n",
    "That's exactly what we'll do below."
   ]
  },
  {
   "cell_type": "markdown",
   "metadata": {},
   "source": [
    "## Import libraries\n",
    "---\n",
    "\n",
    "We'll need the following libraries for today's lecture:\n",
    "- `pandas`\n",
    "- `numpy`\n",
    "- `GridSearchCV`, `train_test_split` and `cross_val_score` from `sklearn`'s `model_selection` module \n",
    "- `RandomForestClassifier` and `ExtraTreesClassifier` from `sklearn`'s `ensemble` module "
   ]
  },
  {
   "cell_type": "code",
   "execution_count": 43,
   "metadata": {},
   "outputs": [],
   "source": [
    "import pandas as pd\n",
    "import numpy as np\n",
    "from sklearn import set_config\n",
    "import matplotlib.pyplot as plt\n",
    "set_config(display='diagram') \n",
    "from sklearn.model_selection import GridSearchCV, train_test_split, cross_val_score\n",
    "from sklearn.ensemble import RandomForestClassifier, ExtraTreesClassifier\n",
    "\n",
    "from sklearn.pipeline import make_pipeline, Pipeline\n",
    "from sklearn.impute import SimpleImputer\n",
    "from sklearn.preprocessing import OneHotEncoder\n",
    "from sklearn.compose import ColumnTransformer\n",
    "\n",
    "\n",
    "import pandas as pd\n",
    "import numpy as np\n",
    "import matplotlib.pyplot as plt\n",
    "\n",
    "from sklearn.model_selection import train_test_split\n",
    "from sklearn.preprocessing import StandardScaler\n",
    "from sklearn.neighbors import KNeighborsRegressor, KNeighborsClassifier\n",
    "from sklearn.linear_model import LinearRegression, LogisticRegression\n",
    "from sklearn.metrics import ConfusionMatrixDisplay\n",
    "from sklearn.metrics import mean_squared_error"
   ]
  },
  {
   "cell_type": "markdown",
   "metadata": {
    "tags": []
   },
   "source": [
    "## Load Data\n",
    "---\n",
    "\n",
    "Our first dataset has to do with detecting sarcasm in news headlines. [Source](https://www.kaggle.com/rmisra/news-headlines-dataset-for-sarcasm-detection)"
   ]
  },
  {
   "cell_type": "code",
   "execution_count": 3,
   "metadata": {},
   "outputs": [],
   "source": [
    "sarcasm_df = pd.read_csv('data/sarcasm.csv')"
   ]
  },
  {
   "cell_type": "code",
   "execution_count": 5,
   "metadata": {},
   "outputs": [
    {
     "data": {
      "text/html": [
       "<div>\n",
       "<style scoped>\n",
       "    .dataframe tbody tr th:only-of-type {\n",
       "        vertical-align: middle;\n",
       "    }\n",
       "\n",
       "    .dataframe tbody tr th {\n",
       "        vertical-align: top;\n",
       "    }\n",
       "\n",
       "    .dataframe thead th {\n",
       "        text-align: right;\n",
       "    }\n",
       "</style>\n",
       "<table border=\"1\" class=\"dataframe\">\n",
       "  <thead>\n",
       "    <tr style=\"text-align: right;\">\n",
       "      <th></th>\n",
       "      <th>link</th>\n",
       "      <th>headline</th>\n",
       "      <th>sarcastic</th>\n",
       "    </tr>\n",
       "  </thead>\n",
       "  <tbody>\n",
       "    <tr>\n",
       "      <th>0</th>\n",
       "      <td>https://www.huffingtonpost.com/entry/versace-b...</td>\n",
       "      <td>former versace store clerk sues over secret 'b...</td>\n",
       "      <td>0</td>\n",
       "    </tr>\n",
       "    <tr>\n",
       "      <th>1</th>\n",
       "      <td>https://www.huffingtonpost.com/entry/roseanne-...</td>\n",
       "      <td>the 'roseanne' revival catches up to our thorn...</td>\n",
       "      <td>0</td>\n",
       "    </tr>\n",
       "    <tr>\n",
       "      <th>2</th>\n",
       "      <td>https://local.theonion.com/mom-starting-to-fea...</td>\n",
       "      <td>mom starting to fear son's web series closest ...</td>\n",
       "      <td>1</td>\n",
       "    </tr>\n",
       "    <tr>\n",
       "      <th>3</th>\n",
       "      <td>https://politics.theonion.com/boehner-just-wan...</td>\n",
       "      <td>boehner just wants wife to listen, not come up...</td>\n",
       "      <td>1</td>\n",
       "    </tr>\n",
       "    <tr>\n",
       "      <th>4</th>\n",
       "      <td>https://www.huffingtonpost.com/entry/jk-rowlin...</td>\n",
       "      <td>j.k. rowling wishes snape happy birthday in th...</td>\n",
       "      <td>0</td>\n",
       "    </tr>\n",
       "  </tbody>\n",
       "</table>\n",
       "</div>"
      ],
      "text/plain": [
       "                                                link  \\\n",
       "0  https://www.huffingtonpost.com/entry/versace-b...   \n",
       "1  https://www.huffingtonpost.com/entry/roseanne-...   \n",
       "2  https://local.theonion.com/mom-starting-to-fea...   \n",
       "3  https://politics.theonion.com/boehner-just-wan...   \n",
       "4  https://www.huffingtonpost.com/entry/jk-rowlin...   \n",
       "\n",
       "                                            headline  sarcastic  \n",
       "0  former versace store clerk sues over secret 'b...          0  \n",
       "1  the 'roseanne' revival catches up to our thorn...          0  \n",
       "2  mom starting to fear son's web series closest ...          1  \n",
       "3  boehner just wants wife to listen, not come up...          1  \n",
       "4  j.k. rowling wishes snape happy birthday in th...          0  "
      ]
     },
     "execution_count": 5,
     "metadata": {},
     "output_type": "execute_result"
    }
   ],
   "source": [
    "\n",
    "\n",
    "sarcasm_df.head()"
   ]
  },
  {
   "cell_type": "code",
   "execution_count": 6,
   "metadata": {},
   "outputs": [
    {
     "name": "stdout",
     "output_type": "stream",
     "text": [
      "boehner just wants wife to listen, not come up with alternative debt-reduction ideas\n"
     ]
    }
   ],
   "source": [
    "print(sarcasm_df.iloc[3, 1])"
   ]
  },
  {
   "cell_type": "markdown",
   "metadata": {},
   "source": [
    "## Challenge: What is our baseline accuracy?\n",
    "---\n",
    "\n",
    "The baseline accuracy is the percentage of the majority class, regardless of whether it is 1 or 0. It serves as the benchmark for our model to beat."
   ]
  },
  {
   "cell_type": "code",
   "execution_count": 10,
   "metadata": {},
   "outputs": [
    {
     "data": {
      "text/plain": [
       "0    0.561047\n",
       "1    0.438953\n",
       "Name: sarcastic, dtype: float64"
      ]
     },
     "execution_count": 10,
     "metadata": {},
     "output_type": "execute_result"
    }
   ],
   "source": [
    "sarcasm_df['sarcastic'].value_counts(normalize = True)"
   ]
  },
  {
   "cell_type": "markdown",
   "metadata": {},
   "source": [
    "## Train/Test Split\n",
    "---\n",
    "\n"
   ]
  },
  {
   "cell_type": "code",
   "execution_count": 11,
   "metadata": {},
   "outputs": [],
   "source": [
    "X_train, X_test, y_train, y_test = train_test_split(sarcasm_df['headline'],\n",
    "                                                    sarcasm_df['sarcastic'],\n",
    "                                                    stratify = sarcasm_df['sarcastic'],\n",
    "                                                    random_state = 42)"
   ]
  },
  {
   "cell_type": "markdown",
   "metadata": {},
   "source": [
    "## Model instantiation\n",
    "---\n",
    "\n",
    "Create an instance of `RandomForestClassifier` and `ExtraTreesClassifier`."
   ]
  },
  {
   "cell_type": "code",
   "execution_count": 12,
   "metadata": {},
   "outputs": [],
   "source": [
    "from sklearn.feature_extraction.text import CountVectorizer, TfidfVectorizer"
   ]
  },
  {
   "cell_type": "code",
   "execution_count": 18,
   "metadata": {},
   "outputs": [],
   "source": [
    "cvect = CountVectorizer(max_features = 1000) #using 1000 words that occur most frequently"
   ]
  },
  {
   "cell_type": "code",
   "execution_count": 19,
   "metadata": {},
   "outputs": [],
   "source": [
    "X_train_vect = cvect.fit_transform(X_train)\n",
    "X_test_vect = cvect.transform(X_test)"
   ]
  },
  {
   "cell_type": "code",
   "execution_count": 21,
   "metadata": {},
   "outputs": [],
   "source": [
    "forest = RandomForestClassifier()\n",
    "extra = ExtraTreesClassifier()"
   ]
  },
  {
   "cell_type": "code",
   "execution_count": 22,
   "metadata": {},
   "outputs": [
    {
     "data": {
      "text/html": [
       "<style>#sk-19f867b0-d8ff-4f38-993a-4e3881738de8 {color: black;background-color: white;}#sk-19f867b0-d8ff-4f38-993a-4e3881738de8 pre{padding: 0;}#sk-19f867b0-d8ff-4f38-993a-4e3881738de8 div.sk-toggleable {background-color: white;}#sk-19f867b0-d8ff-4f38-993a-4e3881738de8 label.sk-toggleable__label {cursor: pointer;display: block;width: 100%;margin-bottom: 0;padding: 0.2em 0.3em;box-sizing: border-box;text-align: center;}#sk-19f867b0-d8ff-4f38-993a-4e3881738de8 div.sk-toggleable__content {max-height: 0;max-width: 0;overflow: hidden;text-align: left;background-color: #f0f8ff;}#sk-19f867b0-d8ff-4f38-993a-4e3881738de8 div.sk-toggleable__content pre {margin: 0.2em;color: black;border-radius: 0.25em;background-color: #f0f8ff;}#sk-19f867b0-d8ff-4f38-993a-4e3881738de8 input.sk-toggleable__control:checked~div.sk-toggleable__content {max-height: 200px;max-width: 100%;overflow: auto;}#sk-19f867b0-d8ff-4f38-993a-4e3881738de8 div.sk-estimator input.sk-toggleable__control:checked~label.sk-toggleable__label {background-color: #d4ebff;}#sk-19f867b0-d8ff-4f38-993a-4e3881738de8 div.sk-label input.sk-toggleable__control:checked~label.sk-toggleable__label {background-color: #d4ebff;}#sk-19f867b0-d8ff-4f38-993a-4e3881738de8 input.sk-hidden--visually {border: 0;clip: rect(1px 1px 1px 1px);clip: rect(1px, 1px, 1px, 1px);height: 1px;margin: -1px;overflow: hidden;padding: 0;position: absolute;width: 1px;}#sk-19f867b0-d8ff-4f38-993a-4e3881738de8 div.sk-estimator {font-family: monospace;background-color: #f0f8ff;margin: 0.25em 0.25em;border: 1px dotted black;border-radius: 0.25em;box-sizing: border-box;}#sk-19f867b0-d8ff-4f38-993a-4e3881738de8 div.sk-estimator:hover {background-color: #d4ebff;}#sk-19f867b0-d8ff-4f38-993a-4e3881738de8 div.sk-parallel-item::after {content: \"\";width: 100%;border-bottom: 1px solid gray;flex-grow: 1;}#sk-19f867b0-d8ff-4f38-993a-4e3881738de8 div.sk-label:hover label.sk-toggleable__label {background-color: #d4ebff;}#sk-19f867b0-d8ff-4f38-993a-4e3881738de8 div.sk-serial::before {content: \"\";position: absolute;border-left: 1px solid gray;box-sizing: border-box;top: 2em;bottom: 0;left: 50%;}#sk-19f867b0-d8ff-4f38-993a-4e3881738de8 div.sk-serial {display: flex;flex-direction: column;align-items: center;background-color: white;}#sk-19f867b0-d8ff-4f38-993a-4e3881738de8 div.sk-item {z-index: 1;}#sk-19f867b0-d8ff-4f38-993a-4e3881738de8 div.sk-parallel {display: flex;align-items: stretch;justify-content: center;background-color: white;}#sk-19f867b0-d8ff-4f38-993a-4e3881738de8 div.sk-parallel-item {display: flex;flex-direction: column;position: relative;background-color: white;}#sk-19f867b0-d8ff-4f38-993a-4e3881738de8 div.sk-parallel-item:first-child::after {align-self: flex-end;width: 50%;}#sk-19f867b0-d8ff-4f38-993a-4e3881738de8 div.sk-parallel-item:last-child::after {align-self: flex-start;width: 50%;}#sk-19f867b0-d8ff-4f38-993a-4e3881738de8 div.sk-parallel-item:only-child::after {width: 0;}#sk-19f867b0-d8ff-4f38-993a-4e3881738de8 div.sk-dashed-wrapped {border: 1px dashed gray;margin: 0.2em;box-sizing: border-box;padding-bottom: 0.1em;background-color: white;position: relative;}#sk-19f867b0-d8ff-4f38-993a-4e3881738de8 div.sk-label label {font-family: monospace;font-weight: bold;background-color: white;display: inline-block;line-height: 1.2em;}#sk-19f867b0-d8ff-4f38-993a-4e3881738de8 div.sk-label-container {position: relative;z-index: 2;text-align: center;}#sk-19f867b0-d8ff-4f38-993a-4e3881738de8 div.sk-container {display: inline-block;position: relative;}</style><div id=\"sk-19f867b0-d8ff-4f38-993a-4e3881738de8\" class\"sk-top-container\"><div class=\"sk-container\"><div class=\"sk-item\"><div class=\"sk-estimator sk-toggleable\"><input class=\"sk-toggleable__control sk-hidden--visually\" id=\"68424e85-d09d-4209-a526-f941ec024e07\" type=\"checkbox\" checked><label class=\"sk-toggleable__label\" for=\"68424e85-d09d-4209-a526-f941ec024e07\">RandomForestClassifier</label><div class=\"sk-toggleable__content\"><pre>RandomForestClassifier()</pre></div></div></div></div></div>"
      ],
      "text/plain": [
       "RandomForestClassifier()"
      ]
     },
     "execution_count": 22,
     "metadata": {},
     "output_type": "execute_result"
    }
   ],
   "source": [
    "forest.fit(X_train_vect, y_train)"
   ]
  },
  {
   "cell_type": "code",
   "execution_count": 23,
   "metadata": {},
   "outputs": [
    {
     "data": {
      "text/html": [
       "<style>#sk-e325e543-c808-4911-a00b-d98f8bf37df3 {color: black;background-color: white;}#sk-e325e543-c808-4911-a00b-d98f8bf37df3 pre{padding: 0;}#sk-e325e543-c808-4911-a00b-d98f8bf37df3 div.sk-toggleable {background-color: white;}#sk-e325e543-c808-4911-a00b-d98f8bf37df3 label.sk-toggleable__label {cursor: pointer;display: block;width: 100%;margin-bottom: 0;padding: 0.2em 0.3em;box-sizing: border-box;text-align: center;}#sk-e325e543-c808-4911-a00b-d98f8bf37df3 div.sk-toggleable__content {max-height: 0;max-width: 0;overflow: hidden;text-align: left;background-color: #f0f8ff;}#sk-e325e543-c808-4911-a00b-d98f8bf37df3 div.sk-toggleable__content pre {margin: 0.2em;color: black;border-radius: 0.25em;background-color: #f0f8ff;}#sk-e325e543-c808-4911-a00b-d98f8bf37df3 input.sk-toggleable__control:checked~div.sk-toggleable__content {max-height: 200px;max-width: 100%;overflow: auto;}#sk-e325e543-c808-4911-a00b-d98f8bf37df3 div.sk-estimator input.sk-toggleable__control:checked~label.sk-toggleable__label {background-color: #d4ebff;}#sk-e325e543-c808-4911-a00b-d98f8bf37df3 div.sk-label input.sk-toggleable__control:checked~label.sk-toggleable__label {background-color: #d4ebff;}#sk-e325e543-c808-4911-a00b-d98f8bf37df3 input.sk-hidden--visually {border: 0;clip: rect(1px 1px 1px 1px);clip: rect(1px, 1px, 1px, 1px);height: 1px;margin: -1px;overflow: hidden;padding: 0;position: absolute;width: 1px;}#sk-e325e543-c808-4911-a00b-d98f8bf37df3 div.sk-estimator {font-family: monospace;background-color: #f0f8ff;margin: 0.25em 0.25em;border: 1px dotted black;border-radius: 0.25em;box-sizing: border-box;}#sk-e325e543-c808-4911-a00b-d98f8bf37df3 div.sk-estimator:hover {background-color: #d4ebff;}#sk-e325e543-c808-4911-a00b-d98f8bf37df3 div.sk-parallel-item::after {content: \"\";width: 100%;border-bottom: 1px solid gray;flex-grow: 1;}#sk-e325e543-c808-4911-a00b-d98f8bf37df3 div.sk-label:hover label.sk-toggleable__label {background-color: #d4ebff;}#sk-e325e543-c808-4911-a00b-d98f8bf37df3 div.sk-serial::before {content: \"\";position: absolute;border-left: 1px solid gray;box-sizing: border-box;top: 2em;bottom: 0;left: 50%;}#sk-e325e543-c808-4911-a00b-d98f8bf37df3 div.sk-serial {display: flex;flex-direction: column;align-items: center;background-color: white;}#sk-e325e543-c808-4911-a00b-d98f8bf37df3 div.sk-item {z-index: 1;}#sk-e325e543-c808-4911-a00b-d98f8bf37df3 div.sk-parallel {display: flex;align-items: stretch;justify-content: center;background-color: white;}#sk-e325e543-c808-4911-a00b-d98f8bf37df3 div.sk-parallel-item {display: flex;flex-direction: column;position: relative;background-color: white;}#sk-e325e543-c808-4911-a00b-d98f8bf37df3 div.sk-parallel-item:first-child::after {align-self: flex-end;width: 50%;}#sk-e325e543-c808-4911-a00b-d98f8bf37df3 div.sk-parallel-item:last-child::after {align-self: flex-start;width: 50%;}#sk-e325e543-c808-4911-a00b-d98f8bf37df3 div.sk-parallel-item:only-child::after {width: 0;}#sk-e325e543-c808-4911-a00b-d98f8bf37df3 div.sk-dashed-wrapped {border: 1px dashed gray;margin: 0.2em;box-sizing: border-box;padding-bottom: 0.1em;background-color: white;position: relative;}#sk-e325e543-c808-4911-a00b-d98f8bf37df3 div.sk-label label {font-family: monospace;font-weight: bold;background-color: white;display: inline-block;line-height: 1.2em;}#sk-e325e543-c808-4911-a00b-d98f8bf37df3 div.sk-label-container {position: relative;z-index: 2;text-align: center;}#sk-e325e543-c808-4911-a00b-d98f8bf37df3 div.sk-container {display: inline-block;position: relative;}</style><div id=\"sk-e325e543-c808-4911-a00b-d98f8bf37df3\" class\"sk-top-container\"><div class=\"sk-container\"><div class=\"sk-item\"><div class=\"sk-estimator sk-toggleable\"><input class=\"sk-toggleable__control sk-hidden--visually\" id=\"c2c795e8-173a-402e-88a6-02b1d9e0dfe2\" type=\"checkbox\" checked><label class=\"sk-toggleable__label\" for=\"c2c795e8-173a-402e-88a6-02b1d9e0dfe2\">ExtraTreesClassifier</label><div class=\"sk-toggleable__content\"><pre>ExtraTreesClassifier()</pre></div></div></div></div></div>"
      ],
      "text/plain": [
       "ExtraTreesClassifier()"
      ]
     },
     "execution_count": 23,
     "metadata": {},
     "output_type": "execute_result"
    }
   ],
   "source": [
    "extra.fit(X_train_vect, y_train)"
   ]
  },
  {
   "cell_type": "markdown",
   "metadata": {},
   "source": [
    "## Model Evaluation\n",
    "---\n",
    "\n",
    "Which one has a higher `cross_val_score`?"
   ]
  },
  {
   "cell_type": "code",
   "execution_count": 24,
   "metadata": {},
   "outputs": [
    {
     "data": {
      "text/plain": [
       "array([0.7873721 , 0.78781827, 0.78307539, 0.78282576, 0.7870694 ])"
      ]
     },
     "execution_count": 24,
     "metadata": {},
     "output_type": "execute_result"
    }
   ],
   "source": [
    "cross_val_score(forest, X_train_vect, y_train) #gives us accuracy "
   ]
  },
  {
   "cell_type": "code",
   "execution_count": 25,
   "metadata": {},
   "outputs": [
    {
     "data": {
      "text/plain": [
       "array([0.78762166, 0.78282576, 0.78107838, 0.78207688, 0.78482277])"
      ]
     },
     "execution_count": 25,
     "metadata": {},
     "output_type": "execute_result"
    }
   ],
   "source": [
    "cross_val_score(extra, X_train_vect, y_train)"
   ]
  },
  {
   "cell_type": "code",
   "execution_count": null,
   "metadata": {},
   "outputs": [],
   "source": []
  },
  {
   "cell_type": "code",
   "execution_count": null,
   "metadata": {},
   "outputs": [],
   "source": []
  },
  {
   "cell_type": "markdown",
   "metadata": {},
   "source": [
    "## Grid Search\n",
    "---\n",
    "\n"
   ]
  },
  {
   "cell_type": "code",
   "execution_count": null,
   "metadata": {},
   "outputs": [],
   "source": [
    "#n_estimators = [10, 100, 500, 1000]\n",
    "#max_depth = [1, 2, 3, 4]"
   ]
  },
  {
   "cell_type": "code",
   "execution_count": 26,
   "metadata": {},
   "outputs": [],
   "source": [
    "params = {\n",
    "    'n_estimators': [10, 100, 500],\n",
    "    'max_depth': [10, 20]\n",
    "}\n",
    "\n"
   ]
  },
  {
   "cell_type": "code",
   "execution_count": 27,
   "metadata": {},
   "outputs": [],
   "source": [
    "grid = GridSearchCV(forest, param_grid=params)"
   ]
  },
  {
   "cell_type": "code",
   "execution_count": 28,
   "metadata": {},
   "outputs": [
    {
     "data": {
      "text/html": [
       "<style>#sk-b6c7c7bf-9c1a-436b-94da-8b57e6d936e6 {color: black;background-color: white;}#sk-b6c7c7bf-9c1a-436b-94da-8b57e6d936e6 pre{padding: 0;}#sk-b6c7c7bf-9c1a-436b-94da-8b57e6d936e6 div.sk-toggleable {background-color: white;}#sk-b6c7c7bf-9c1a-436b-94da-8b57e6d936e6 label.sk-toggleable__label {cursor: pointer;display: block;width: 100%;margin-bottom: 0;padding: 0.2em 0.3em;box-sizing: border-box;text-align: center;}#sk-b6c7c7bf-9c1a-436b-94da-8b57e6d936e6 div.sk-toggleable__content {max-height: 0;max-width: 0;overflow: hidden;text-align: left;background-color: #f0f8ff;}#sk-b6c7c7bf-9c1a-436b-94da-8b57e6d936e6 div.sk-toggleable__content pre {margin: 0.2em;color: black;border-radius: 0.25em;background-color: #f0f8ff;}#sk-b6c7c7bf-9c1a-436b-94da-8b57e6d936e6 input.sk-toggleable__control:checked~div.sk-toggleable__content {max-height: 200px;max-width: 100%;overflow: auto;}#sk-b6c7c7bf-9c1a-436b-94da-8b57e6d936e6 div.sk-estimator input.sk-toggleable__control:checked~label.sk-toggleable__label {background-color: #d4ebff;}#sk-b6c7c7bf-9c1a-436b-94da-8b57e6d936e6 div.sk-label input.sk-toggleable__control:checked~label.sk-toggleable__label {background-color: #d4ebff;}#sk-b6c7c7bf-9c1a-436b-94da-8b57e6d936e6 input.sk-hidden--visually {border: 0;clip: rect(1px 1px 1px 1px);clip: rect(1px, 1px, 1px, 1px);height: 1px;margin: -1px;overflow: hidden;padding: 0;position: absolute;width: 1px;}#sk-b6c7c7bf-9c1a-436b-94da-8b57e6d936e6 div.sk-estimator {font-family: monospace;background-color: #f0f8ff;margin: 0.25em 0.25em;border: 1px dotted black;border-radius: 0.25em;box-sizing: border-box;}#sk-b6c7c7bf-9c1a-436b-94da-8b57e6d936e6 div.sk-estimator:hover {background-color: #d4ebff;}#sk-b6c7c7bf-9c1a-436b-94da-8b57e6d936e6 div.sk-parallel-item::after {content: \"\";width: 100%;border-bottom: 1px solid gray;flex-grow: 1;}#sk-b6c7c7bf-9c1a-436b-94da-8b57e6d936e6 div.sk-label:hover label.sk-toggleable__label {background-color: #d4ebff;}#sk-b6c7c7bf-9c1a-436b-94da-8b57e6d936e6 div.sk-serial::before {content: \"\";position: absolute;border-left: 1px solid gray;box-sizing: border-box;top: 2em;bottom: 0;left: 50%;}#sk-b6c7c7bf-9c1a-436b-94da-8b57e6d936e6 div.sk-serial {display: flex;flex-direction: column;align-items: center;background-color: white;}#sk-b6c7c7bf-9c1a-436b-94da-8b57e6d936e6 div.sk-item {z-index: 1;}#sk-b6c7c7bf-9c1a-436b-94da-8b57e6d936e6 div.sk-parallel {display: flex;align-items: stretch;justify-content: center;background-color: white;}#sk-b6c7c7bf-9c1a-436b-94da-8b57e6d936e6 div.sk-parallel-item {display: flex;flex-direction: column;position: relative;background-color: white;}#sk-b6c7c7bf-9c1a-436b-94da-8b57e6d936e6 div.sk-parallel-item:first-child::after {align-self: flex-end;width: 50%;}#sk-b6c7c7bf-9c1a-436b-94da-8b57e6d936e6 div.sk-parallel-item:last-child::after {align-self: flex-start;width: 50%;}#sk-b6c7c7bf-9c1a-436b-94da-8b57e6d936e6 div.sk-parallel-item:only-child::after {width: 0;}#sk-b6c7c7bf-9c1a-436b-94da-8b57e6d936e6 div.sk-dashed-wrapped {border: 1px dashed gray;margin: 0.2em;box-sizing: border-box;padding-bottom: 0.1em;background-color: white;position: relative;}#sk-b6c7c7bf-9c1a-436b-94da-8b57e6d936e6 div.sk-label label {font-family: monospace;font-weight: bold;background-color: white;display: inline-block;line-height: 1.2em;}#sk-b6c7c7bf-9c1a-436b-94da-8b57e6d936e6 div.sk-label-container {position: relative;z-index: 2;text-align: center;}#sk-b6c7c7bf-9c1a-436b-94da-8b57e6d936e6 div.sk-container {display: inline-block;position: relative;}</style><div id=\"sk-b6c7c7bf-9c1a-436b-94da-8b57e6d936e6\" class\"sk-top-container\"><div class=\"sk-container\"><div class=\"sk-item sk-dashed-wrapped\"><div class=\"sk-label-container\"><div class=\"sk-label sk-toggleable\"><input class=\"sk-toggleable__control sk-hidden--visually\" id=\"b4ceba0b-d511-4f80-9c66-5b217f68e427\" type=\"checkbox\" ><label class=\"sk-toggleable__label\" for=\"b4ceba0b-d511-4f80-9c66-5b217f68e427\">GridSearchCV</label><div class=\"sk-toggleable__content\"><pre>GridSearchCV(estimator=RandomForestClassifier(),\n",
       "             param_grid={'max_depth': [10, 20], 'n_estimators': [10, 100, 500]})</pre></div></div></div><div class=\"sk-parallel\"><div class=\"sk-parallel-item\"><div class=\"sk-item\"><div class=\"sk-serial\"><div class=\"sk-item\"><div class=\"sk-estimator sk-toggleable\"><input class=\"sk-toggleable__control sk-hidden--visually\" id=\"36f90fd8-6d8e-4e7c-8a0a-94da24d891e2\" type=\"checkbox\" ><label class=\"sk-toggleable__label\" for=\"36f90fd8-6d8e-4e7c-8a0a-94da24d891e2\">RandomForestClassifier</label><div class=\"sk-toggleable__content\"><pre>RandomForestClassifier()</pre></div></div></div></div></div></div></div></div></div></div>"
      ],
      "text/plain": [
       "GridSearchCV(estimator=RandomForestClassifier(),\n",
       "             param_grid={'max_depth': [10, 20], 'n_estimators': [10, 100, 500]})"
      ]
     },
     "execution_count": 28,
     "metadata": {},
     "output_type": "execute_result"
    }
   ],
   "source": [
    "grid.fit(X_train_vect, y_train)"
   ]
  },
  {
   "cell_type": "code",
   "execution_count": 29,
   "metadata": {},
   "outputs": [
    {
     "data": {
      "text/plain": [
       "0.7470799640610961"
      ]
     },
     "execution_count": 29,
     "metadata": {},
     "output_type": "execute_result"
    }
   ],
   "source": [
    "grid.score(X_test_vect, y_test)"
   ]
  },
  {
   "cell_type": "markdown",
   "metadata": {},
   "source": [
    "### Problem\n",
    "\n",
    "In small groups you are to build a simple classifier to predict customer churn.  Don't get hung up in too much preprocessing; your main goal is to compare a `KNeighborsClassifier`, `LogisticRegressor`, `DecisionTreeClassifier`, and `RandomForestClassifier`.  \n",
    "\n",
    "\n",
    "If you have time, investigate the feature importances of the decision tree and random forest.  What features do they suggest are the most important to predicting customer churn?"
   ]
  },
  {
   "cell_type": "code",
   "execution_count": 30,
   "metadata": {},
   "outputs": [
    {
     "data": {
      "text/html": [
       "<div>\n",
       "<style scoped>\n",
       "    .dataframe tbody tr th:only-of-type {\n",
       "        vertical-align: middle;\n",
       "    }\n",
       "\n",
       "    .dataframe tbody tr th {\n",
       "        vertical-align: top;\n",
       "    }\n",
       "\n",
       "    .dataframe thead th {\n",
       "        text-align: right;\n",
       "    }\n",
       "</style>\n",
       "<table border=\"1\" class=\"dataframe\">\n",
       "  <thead>\n",
       "    <tr style=\"text-align: right;\">\n",
       "      <th></th>\n",
       "      <th>state</th>\n",
       "      <th>account_length</th>\n",
       "      <th>area_code</th>\n",
       "      <th>intl_plan</th>\n",
       "      <th>vmail_plan</th>\n",
       "      <th>vmail_message</th>\n",
       "      <th>day_mins</th>\n",
       "      <th>day_calls</th>\n",
       "      <th>day_charge</th>\n",
       "      <th>eve_mins</th>\n",
       "      <th>eve_calls</th>\n",
       "      <th>eve_charge</th>\n",
       "      <th>night_mins</th>\n",
       "      <th>night_calls</th>\n",
       "      <th>night_charge</th>\n",
       "      <th>intl_mins</th>\n",
       "      <th>intl_calls</th>\n",
       "      <th>intl_charge</th>\n",
       "      <th>custserv_calls</th>\n",
       "      <th>churn</th>\n",
       "    </tr>\n",
       "  </thead>\n",
       "  <tbody>\n",
       "    <tr>\n",
       "      <th>0</th>\n",
       "      <td>KS</td>\n",
       "      <td>128</td>\n",
       "      <td>415</td>\n",
       "      <td>no</td>\n",
       "      <td>yes</td>\n",
       "      <td>25</td>\n",
       "      <td>265.1</td>\n",
       "      <td>110</td>\n",
       "      <td>45.07</td>\n",
       "      <td>197.4</td>\n",
       "      <td>99</td>\n",
       "      <td>16.78</td>\n",
       "      <td>244.7</td>\n",
       "      <td>91</td>\n",
       "      <td>11.01</td>\n",
       "      <td>10.0</td>\n",
       "      <td>3</td>\n",
       "      <td>2.7</td>\n",
       "      <td>1</td>\n",
       "      <td>False</td>\n",
       "    </tr>\n",
       "    <tr>\n",
       "      <th>1</th>\n",
       "      <td>OH</td>\n",
       "      <td>107</td>\n",
       "      <td>415</td>\n",
       "      <td>no</td>\n",
       "      <td>yes</td>\n",
       "      <td>26</td>\n",
       "      <td>161.6</td>\n",
       "      <td>123</td>\n",
       "      <td>27.47</td>\n",
       "      <td>195.5</td>\n",
       "      <td>103</td>\n",
       "      <td>16.62</td>\n",
       "      <td>254.4</td>\n",
       "      <td>103</td>\n",
       "      <td>11.45</td>\n",
       "      <td>13.7</td>\n",
       "      <td>3</td>\n",
       "      <td>3.7</td>\n",
       "      <td>1</td>\n",
       "      <td>False</td>\n",
       "    </tr>\n",
       "  </tbody>\n",
       "</table>\n",
       "</div>"
      ],
      "text/plain": [
       "  state  account_length  area_code intl_plan vmail_plan  vmail_message  \\\n",
       "0    KS             128        415        no        yes             25   \n",
       "1    OH             107        415        no        yes             26   \n",
       "\n",
       "   day_mins  day_calls  day_charge  eve_mins  eve_calls  eve_charge  \\\n",
       "0     265.1        110       45.07     197.4         99       16.78   \n",
       "1     161.6        123       27.47     195.5        103       16.62   \n",
       "\n",
       "   night_mins  night_calls  night_charge  intl_mins  intl_calls  intl_charge  \\\n",
       "0       244.7           91         11.01       10.0           3          2.7   \n",
       "1       254.4          103         11.45       13.7           3          3.7   \n",
       "\n",
       "   custserv_calls  churn  \n",
       "0               1  False  \n",
       "1               1  False  "
      ]
     },
     "execution_count": 30,
     "metadata": {},
     "output_type": "execute_result"
    }
   ],
   "source": [
    "churn_df = pd.read_csv('data/cell_phone_churn.csv')\n",
    "churn_df.head(2)"
   ]
  },
  {
   "cell_type": "code",
   "execution_count": 31,
   "metadata": {},
   "outputs": [],
   "source": [
    "from sklearn.pipeline import Pipeline\n",
    "from sklearn.tree import DecisionTreeClassifier\n",
    "from sklearn.neighbors import KNeighborsClassifier\n",
    "from sklearn.linear_model import LogisticRegression\n",
    "from sklearn.ensemble import RandomForestClassifier\n",
    "from sklearn.preprocessing import StandardScaler"
   ]
  },
  {
   "cell_type": "code",
   "execution_count": 33,
   "metadata": {},
   "outputs": [],
   "source": [
    "X = churn_df.drop(['vmail_plan', 'intl_plan', 'state', 'churn'], axis = 1)\n",
    "y = churn_df['churn']"
   ]
  },
  {
   "cell_type": "code",
   "execution_count": 34,
   "metadata": {},
   "outputs": [],
   "source": [
    "X_train, X_test, y_train, y_test = train_test_split(X, y, random_state=42)"
   ]
  },
  {
   "cell_type": "code",
   "execution_count": 35,
   "metadata": {},
   "outputs": [
    {
     "data": {
      "text/html": [
       "<div>\n",
       "<style scoped>\n",
       "    .dataframe tbody tr th:only-of-type {\n",
       "        vertical-align: middle;\n",
       "    }\n",
       "\n",
       "    .dataframe tbody tr th {\n",
       "        vertical-align: top;\n",
       "    }\n",
       "\n",
       "    .dataframe thead th {\n",
       "        text-align: right;\n",
       "    }\n",
       "</style>\n",
       "<table border=\"1\" class=\"dataframe\">\n",
       "  <thead>\n",
       "    <tr style=\"text-align: right;\">\n",
       "      <th></th>\n",
       "      <th>account_length</th>\n",
       "      <th>area_code</th>\n",
       "      <th>vmail_message</th>\n",
       "      <th>day_mins</th>\n",
       "      <th>day_calls</th>\n",
       "      <th>day_charge</th>\n",
       "      <th>eve_mins</th>\n",
       "      <th>eve_calls</th>\n",
       "      <th>eve_charge</th>\n",
       "      <th>night_mins</th>\n",
       "      <th>night_calls</th>\n",
       "      <th>night_charge</th>\n",
       "      <th>intl_mins</th>\n",
       "      <th>intl_calls</th>\n",
       "      <th>intl_charge</th>\n",
       "      <th>custserv_calls</th>\n",
       "    </tr>\n",
       "  </thead>\n",
       "  <tbody>\n",
       "    <tr>\n",
       "      <th>367</th>\n",
       "      <td>45</td>\n",
       "      <td>415</td>\n",
       "      <td>0</td>\n",
       "      <td>78.2</td>\n",
       "      <td>127</td>\n",
       "      <td>13.29</td>\n",
       "      <td>253.4</td>\n",
       "      <td>108</td>\n",
       "      <td>21.54</td>\n",
       "      <td>255.0</td>\n",
       "      <td>100</td>\n",
       "      <td>11.48</td>\n",
       "      <td>18.0</td>\n",
       "      <td>3</td>\n",
       "      <td>4.86</td>\n",
       "      <td>1</td>\n",
       "    </tr>\n",
       "    <tr>\n",
       "      <th>3103</th>\n",
       "      <td>115</td>\n",
       "      <td>415</td>\n",
       "      <td>0</td>\n",
       "      <td>195.9</td>\n",
       "      <td>111</td>\n",
       "      <td>33.30</td>\n",
       "      <td>227.0</td>\n",
       "      <td>108</td>\n",
       "      <td>19.30</td>\n",
       "      <td>313.2</td>\n",
       "      <td>113</td>\n",
       "      <td>14.09</td>\n",
       "      <td>13.2</td>\n",
       "      <td>1</td>\n",
       "      <td>3.56</td>\n",
       "      <td>2</td>\n",
       "    </tr>\n",
       "    <tr>\n",
       "      <th>549</th>\n",
       "      <td>121</td>\n",
       "      <td>408</td>\n",
       "      <td>31</td>\n",
       "      <td>237.1</td>\n",
       "      <td>63</td>\n",
       "      <td>40.31</td>\n",
       "      <td>205.6</td>\n",
       "      <td>117</td>\n",
       "      <td>17.48</td>\n",
       "      <td>196.7</td>\n",
       "      <td>85</td>\n",
       "      <td>8.85</td>\n",
       "      <td>10.1</td>\n",
       "      <td>5</td>\n",
       "      <td>2.73</td>\n",
       "      <td>4</td>\n",
       "    </tr>\n",
       "    <tr>\n",
       "      <th>2531</th>\n",
       "      <td>180</td>\n",
       "      <td>415</td>\n",
       "      <td>0</td>\n",
       "      <td>143.3</td>\n",
       "      <td>134</td>\n",
       "      <td>24.36</td>\n",
       "      <td>180.5</td>\n",
       "      <td>113</td>\n",
       "      <td>15.34</td>\n",
       "      <td>184.2</td>\n",
       "      <td>87</td>\n",
       "      <td>8.29</td>\n",
       "      <td>10.1</td>\n",
       "      <td>4</td>\n",
       "      <td>2.73</td>\n",
       "      <td>1</td>\n",
       "    </tr>\n",
       "    <tr>\n",
       "      <th>2378</th>\n",
       "      <td>112</td>\n",
       "      <td>510</td>\n",
       "      <td>0</td>\n",
       "      <td>206.2</td>\n",
       "      <td>122</td>\n",
       "      <td>35.05</td>\n",
       "      <td>164.5</td>\n",
       "      <td>94</td>\n",
       "      <td>13.98</td>\n",
       "      <td>140.3</td>\n",
       "      <td>101</td>\n",
       "      <td>6.31</td>\n",
       "      <td>12.6</td>\n",
       "      <td>7</td>\n",
       "      <td>3.40</td>\n",
       "      <td>3</td>\n",
       "    </tr>\n",
       "    <tr>\n",
       "      <th>...</th>\n",
       "      <td>...</td>\n",
       "      <td>...</td>\n",
       "      <td>...</td>\n",
       "      <td>...</td>\n",
       "      <td>...</td>\n",
       "      <td>...</td>\n",
       "      <td>...</td>\n",
       "      <td>...</td>\n",
       "      <td>...</td>\n",
       "      <td>...</td>\n",
       "      <td>...</td>\n",
       "      <td>...</td>\n",
       "      <td>...</td>\n",
       "      <td>...</td>\n",
       "      <td>...</td>\n",
       "      <td>...</td>\n",
       "    </tr>\n",
       "    <tr>\n",
       "      <th>1095</th>\n",
       "      <td>106</td>\n",
       "      <td>510</td>\n",
       "      <td>0</td>\n",
       "      <td>274.4</td>\n",
       "      <td>120</td>\n",
       "      <td>46.65</td>\n",
       "      <td>198.6</td>\n",
       "      <td>82</td>\n",
       "      <td>16.88</td>\n",
       "      <td>160.8</td>\n",
       "      <td>62</td>\n",
       "      <td>7.24</td>\n",
       "      <td>6.0</td>\n",
       "      <td>3</td>\n",
       "      <td>1.62</td>\n",
       "      <td>1</td>\n",
       "    </tr>\n",
       "    <tr>\n",
       "      <th>1130</th>\n",
       "      <td>122</td>\n",
       "      <td>415</td>\n",
       "      <td>0</td>\n",
       "      <td>35.1</td>\n",
       "      <td>62</td>\n",
       "      <td>5.97</td>\n",
       "      <td>180.8</td>\n",
       "      <td>89</td>\n",
       "      <td>15.37</td>\n",
       "      <td>251.6</td>\n",
       "      <td>58</td>\n",
       "      <td>11.32</td>\n",
       "      <td>12.7</td>\n",
       "      <td>2</td>\n",
       "      <td>3.43</td>\n",
       "      <td>1</td>\n",
       "    </tr>\n",
       "    <tr>\n",
       "      <th>1294</th>\n",
       "      <td>66</td>\n",
       "      <td>408</td>\n",
       "      <td>0</td>\n",
       "      <td>87.6</td>\n",
       "      <td>76</td>\n",
       "      <td>14.89</td>\n",
       "      <td>262.0</td>\n",
       "      <td>111</td>\n",
       "      <td>22.27</td>\n",
       "      <td>184.6</td>\n",
       "      <td>125</td>\n",
       "      <td>8.31</td>\n",
       "      <td>9.2</td>\n",
       "      <td>5</td>\n",
       "      <td>2.48</td>\n",
       "      <td>1</td>\n",
       "    </tr>\n",
       "    <tr>\n",
       "      <th>860</th>\n",
       "      <td>169</td>\n",
       "      <td>415</td>\n",
       "      <td>0</td>\n",
       "      <td>179.2</td>\n",
       "      <td>111</td>\n",
       "      <td>30.46</td>\n",
       "      <td>175.2</td>\n",
       "      <td>130</td>\n",
       "      <td>14.89</td>\n",
       "      <td>228.6</td>\n",
       "      <td>92</td>\n",
       "      <td>10.29</td>\n",
       "      <td>9.9</td>\n",
       "      <td>6</td>\n",
       "      <td>2.67</td>\n",
       "      <td>2</td>\n",
       "    </tr>\n",
       "    <tr>\n",
       "      <th>3174</th>\n",
       "      <td>36</td>\n",
       "      <td>408</td>\n",
       "      <td>43</td>\n",
       "      <td>29.9</td>\n",
       "      <td>123</td>\n",
       "      <td>5.08</td>\n",
       "      <td>129.1</td>\n",
       "      <td>117</td>\n",
       "      <td>10.97</td>\n",
       "      <td>325.9</td>\n",
       "      <td>105</td>\n",
       "      <td>14.67</td>\n",
       "      <td>8.6</td>\n",
       "      <td>6</td>\n",
       "      <td>2.32</td>\n",
       "      <td>2</td>\n",
       "    </tr>\n",
       "  </tbody>\n",
       "</table>\n",
       "<p>2499 rows × 16 columns</p>\n",
       "</div>"
      ],
      "text/plain": [
       "      account_length  area_code  vmail_message  day_mins  day_calls  \\\n",
       "367               45        415              0      78.2        127   \n",
       "3103             115        415              0     195.9        111   \n",
       "549              121        408             31     237.1         63   \n",
       "2531             180        415              0     143.3        134   \n",
       "2378             112        510              0     206.2        122   \n",
       "...              ...        ...            ...       ...        ...   \n",
       "1095             106        510              0     274.4        120   \n",
       "1130             122        415              0      35.1         62   \n",
       "1294              66        408              0      87.6         76   \n",
       "860              169        415              0     179.2        111   \n",
       "3174              36        408             43      29.9        123   \n",
       "\n",
       "      day_charge  eve_mins  eve_calls  eve_charge  night_mins  night_calls  \\\n",
       "367        13.29     253.4        108       21.54       255.0          100   \n",
       "3103       33.30     227.0        108       19.30       313.2          113   \n",
       "549        40.31     205.6        117       17.48       196.7           85   \n",
       "2531       24.36     180.5        113       15.34       184.2           87   \n",
       "2378       35.05     164.5         94       13.98       140.3          101   \n",
       "...          ...       ...        ...         ...         ...          ...   \n",
       "1095       46.65     198.6         82       16.88       160.8           62   \n",
       "1130        5.97     180.8         89       15.37       251.6           58   \n",
       "1294       14.89     262.0        111       22.27       184.6          125   \n",
       "860        30.46     175.2        130       14.89       228.6           92   \n",
       "3174        5.08     129.1        117       10.97       325.9          105   \n",
       "\n",
       "      night_charge  intl_mins  intl_calls  intl_charge  custserv_calls  \n",
       "367          11.48       18.0           3         4.86               1  \n",
       "3103         14.09       13.2           1         3.56               2  \n",
       "549           8.85       10.1           5         2.73               4  \n",
       "2531          8.29       10.1           4         2.73               1  \n",
       "2378          6.31       12.6           7         3.40               3  \n",
       "...            ...        ...         ...          ...             ...  \n",
       "1095          7.24        6.0           3         1.62               1  \n",
       "1130         11.32       12.7           2         3.43               1  \n",
       "1294          8.31        9.2           5         2.48               1  \n",
       "860          10.29        9.9           6         2.67               2  \n",
       "3174         14.67        8.6           6         2.32               2  \n",
       "\n",
       "[2499 rows x 16 columns]"
      ]
     },
     "execution_count": 35,
     "metadata": {},
     "output_type": "execute_result"
    }
   ],
   "source": [
    "X_train"
   ]
  },
  {
   "cell_type": "code",
   "execution_count": 37,
   "metadata": {
    "tags": []
   },
   "outputs": [],
   "source": [
    "#Baseline null model\n",
    "baseline_test_preds = np.ones(y_test.shape)*np.mean(y_train)\n"
   ]
  },
  {
   "cell_type": "code",
   "execution_count": 40,
   "metadata": {},
   "outputs": [
    {
     "data": {
      "text/plain": [
       "0.3570152856061543"
      ]
     },
     "execution_count": 40,
     "metadata": {},
     "output_type": "execute_result"
    }
   ],
   "source": [
    "#RMSE\n",
    "\n",
    "from sklearn.metrics import mean_squared_error\n",
    "mean_squared_error(y_test, baseline_test_preds, squared = False)"
   ]
  },
  {
   "cell_type": "code",
   "execution_count": 45,
   "metadata": {},
   "outputs": [],
   "source": [
    "#instantiate a standard scaler \n",
    "\n",
    "scaler = StandardScaler()\n",
    "\n",
    "#fit transform the train data \n",
    "\n",
    "X_train_scaled = scaler.fit_transform(X_train)\n",
    "\n",
    "#transform the test data \n",
    "\n",
    "X_test_scaled = scaler.transform(X_test)"
   ]
  },
  {
   "cell_type": "code",
   "execution_count": 46,
   "metadata": {
    "tags": []
   },
   "outputs": [
    {
     "data": {
      "text/html": [
       "<style>#sk-eadf506d-7420-46c8-9091-48b1287af189 {color: black;background-color: white;}#sk-eadf506d-7420-46c8-9091-48b1287af189 pre{padding: 0;}#sk-eadf506d-7420-46c8-9091-48b1287af189 div.sk-toggleable {background-color: white;}#sk-eadf506d-7420-46c8-9091-48b1287af189 label.sk-toggleable__label {cursor: pointer;display: block;width: 100%;margin-bottom: 0;padding: 0.2em 0.3em;box-sizing: border-box;text-align: center;}#sk-eadf506d-7420-46c8-9091-48b1287af189 div.sk-toggleable__content {max-height: 0;max-width: 0;overflow: hidden;text-align: left;background-color: #f0f8ff;}#sk-eadf506d-7420-46c8-9091-48b1287af189 div.sk-toggleable__content pre {margin: 0.2em;color: black;border-radius: 0.25em;background-color: #f0f8ff;}#sk-eadf506d-7420-46c8-9091-48b1287af189 input.sk-toggleable__control:checked~div.sk-toggleable__content {max-height: 200px;max-width: 100%;overflow: auto;}#sk-eadf506d-7420-46c8-9091-48b1287af189 div.sk-estimator input.sk-toggleable__control:checked~label.sk-toggleable__label {background-color: #d4ebff;}#sk-eadf506d-7420-46c8-9091-48b1287af189 div.sk-label input.sk-toggleable__control:checked~label.sk-toggleable__label {background-color: #d4ebff;}#sk-eadf506d-7420-46c8-9091-48b1287af189 input.sk-hidden--visually {border: 0;clip: rect(1px 1px 1px 1px);clip: rect(1px, 1px, 1px, 1px);height: 1px;margin: -1px;overflow: hidden;padding: 0;position: absolute;width: 1px;}#sk-eadf506d-7420-46c8-9091-48b1287af189 div.sk-estimator {font-family: monospace;background-color: #f0f8ff;margin: 0.25em 0.25em;border: 1px dotted black;border-radius: 0.25em;box-sizing: border-box;}#sk-eadf506d-7420-46c8-9091-48b1287af189 div.sk-estimator:hover {background-color: #d4ebff;}#sk-eadf506d-7420-46c8-9091-48b1287af189 div.sk-parallel-item::after {content: \"\";width: 100%;border-bottom: 1px solid gray;flex-grow: 1;}#sk-eadf506d-7420-46c8-9091-48b1287af189 div.sk-label:hover label.sk-toggleable__label {background-color: #d4ebff;}#sk-eadf506d-7420-46c8-9091-48b1287af189 div.sk-serial::before {content: \"\";position: absolute;border-left: 1px solid gray;box-sizing: border-box;top: 2em;bottom: 0;left: 50%;}#sk-eadf506d-7420-46c8-9091-48b1287af189 div.sk-serial {display: flex;flex-direction: column;align-items: center;background-color: white;}#sk-eadf506d-7420-46c8-9091-48b1287af189 div.sk-item {z-index: 1;}#sk-eadf506d-7420-46c8-9091-48b1287af189 div.sk-parallel {display: flex;align-items: stretch;justify-content: center;background-color: white;}#sk-eadf506d-7420-46c8-9091-48b1287af189 div.sk-parallel-item {display: flex;flex-direction: column;position: relative;background-color: white;}#sk-eadf506d-7420-46c8-9091-48b1287af189 div.sk-parallel-item:first-child::after {align-self: flex-end;width: 50%;}#sk-eadf506d-7420-46c8-9091-48b1287af189 div.sk-parallel-item:last-child::after {align-self: flex-start;width: 50%;}#sk-eadf506d-7420-46c8-9091-48b1287af189 div.sk-parallel-item:only-child::after {width: 0;}#sk-eadf506d-7420-46c8-9091-48b1287af189 div.sk-dashed-wrapped {border: 1px dashed gray;margin: 0.2em;box-sizing: border-box;padding-bottom: 0.1em;background-color: white;position: relative;}#sk-eadf506d-7420-46c8-9091-48b1287af189 div.sk-label label {font-family: monospace;font-weight: bold;background-color: white;display: inline-block;line-height: 1.2em;}#sk-eadf506d-7420-46c8-9091-48b1287af189 div.sk-label-container {position: relative;z-index: 2;text-align: center;}#sk-eadf506d-7420-46c8-9091-48b1287af189 div.sk-container {display: inline-block;position: relative;}</style><div id=\"sk-eadf506d-7420-46c8-9091-48b1287af189\" class\"sk-top-container\"><div class=\"sk-container\"><div class=\"sk-item\"><div class=\"sk-estimator sk-toggleable\"><input class=\"sk-toggleable__control sk-hidden--visually\" id=\"06771fd2-6228-4c25-a685-c27e90762998\" type=\"checkbox\" checked><label class=\"sk-toggleable__label\" for=\"06771fd2-6228-4c25-a685-c27e90762998\">LinearRegression</label><div class=\"sk-toggleable__content\"><pre>LinearRegression()</pre></div></div></div></div></div>"
      ],
      "text/plain": [
       "LinearRegression()"
      ]
     },
     "execution_count": 46,
     "metadata": {},
     "output_type": "execute_result"
    }
   ],
   "source": [
    "#Linear Regression Model RMSE \n",
    "lr = LinearRegression()\n",
    "lr.fit(X_train_scaled, y_train)\n"
   ]
  },
  {
   "cell_type": "code",
   "execution_count": 49,
   "metadata": {},
   "outputs": [],
   "source": [
    "#make predictions \n",
    "\n",
    "lr_preds = lr.predict(X_test_scaled)"
   ]
  },
  {
   "cell_type": "code",
   "execution_count": 50,
   "metadata": {},
   "outputs": [
    {
     "name": "stdout",
     "output_type": "stream",
     "text": [
      "0.33423295817696463\n"
     ]
    }
   ],
   "source": [
    "#RMSE \n",
    "\n",
    "lr_rmse = mean_squared_error(y_test, lr_preds, squared = False)\n",
    "print(lr_rmse) #better than baseline "
   ]
  },
  {
   "cell_type": "code",
   "execution_count": null,
   "metadata": {},
   "outputs": [],
   "source": [
    "#KNN Model RMSE "
   ]
  },
  {
   "cell_type": "code",
   "execution_count": 51,
   "metadata": {},
   "outputs": [],
   "source": [
    "#knn instantiate (leave at default - 8 neighbors) \n",
    "\n",
    "knn_reg = KNeighborsRegressor()\n",
    "\n",
    "#fit \n",
    "\n",
    "knn_reg.fit(X_train_scaled, y_train)\n",
    "\n",
    "#make predictions \n",
    "knn_preds = knn_reg.predict(X_test_scaled)"
   ]
  },
  {
   "cell_type": "code",
   "execution_count": 52,
   "metadata": {},
   "outputs": [
    {
     "data": {
      "text/plain": [
       "0.31195215767975565"
      ]
     },
     "execution_count": 52,
     "metadata": {},
     "output_type": "execute_result"
    }
   ],
   "source": [
    "#RMSE \n",
    "\n",
    "mean_squared_error(y_test, knn_preds, squared = False) #better than linear model"
   ]
  },
  {
   "cell_type": "code",
   "execution_count": null,
   "metadata": {},
   "outputs": [],
   "source": [
    "#Random Forest Model RMSE "
   ]
  },
  {
   "cell_type": "code",
   "execution_count": 53,
   "metadata": {},
   "outputs": [],
   "source": [
    "forest = RandomForestClassifier()\n",
    "extra = ExtraTreesClassifier()"
   ]
  },
  {
   "cell_type": "code",
   "execution_count": 55,
   "metadata": {},
   "outputs": [
    {
     "data": {
      "text/html": [
       "<style>#sk-2efb75c6-5695-455f-aff0-57980aa107c1 {color: black;background-color: white;}#sk-2efb75c6-5695-455f-aff0-57980aa107c1 pre{padding: 0;}#sk-2efb75c6-5695-455f-aff0-57980aa107c1 div.sk-toggleable {background-color: white;}#sk-2efb75c6-5695-455f-aff0-57980aa107c1 label.sk-toggleable__label {cursor: pointer;display: block;width: 100%;margin-bottom: 0;padding: 0.2em 0.3em;box-sizing: border-box;text-align: center;}#sk-2efb75c6-5695-455f-aff0-57980aa107c1 div.sk-toggleable__content {max-height: 0;max-width: 0;overflow: hidden;text-align: left;background-color: #f0f8ff;}#sk-2efb75c6-5695-455f-aff0-57980aa107c1 div.sk-toggleable__content pre {margin: 0.2em;color: black;border-radius: 0.25em;background-color: #f0f8ff;}#sk-2efb75c6-5695-455f-aff0-57980aa107c1 input.sk-toggleable__control:checked~div.sk-toggleable__content {max-height: 200px;max-width: 100%;overflow: auto;}#sk-2efb75c6-5695-455f-aff0-57980aa107c1 div.sk-estimator input.sk-toggleable__control:checked~label.sk-toggleable__label {background-color: #d4ebff;}#sk-2efb75c6-5695-455f-aff0-57980aa107c1 div.sk-label input.sk-toggleable__control:checked~label.sk-toggleable__label {background-color: #d4ebff;}#sk-2efb75c6-5695-455f-aff0-57980aa107c1 input.sk-hidden--visually {border: 0;clip: rect(1px 1px 1px 1px);clip: rect(1px, 1px, 1px, 1px);height: 1px;margin: -1px;overflow: hidden;padding: 0;position: absolute;width: 1px;}#sk-2efb75c6-5695-455f-aff0-57980aa107c1 div.sk-estimator {font-family: monospace;background-color: #f0f8ff;margin: 0.25em 0.25em;border: 1px dotted black;border-radius: 0.25em;box-sizing: border-box;}#sk-2efb75c6-5695-455f-aff0-57980aa107c1 div.sk-estimator:hover {background-color: #d4ebff;}#sk-2efb75c6-5695-455f-aff0-57980aa107c1 div.sk-parallel-item::after {content: \"\";width: 100%;border-bottom: 1px solid gray;flex-grow: 1;}#sk-2efb75c6-5695-455f-aff0-57980aa107c1 div.sk-label:hover label.sk-toggleable__label {background-color: #d4ebff;}#sk-2efb75c6-5695-455f-aff0-57980aa107c1 div.sk-serial::before {content: \"\";position: absolute;border-left: 1px solid gray;box-sizing: border-box;top: 2em;bottom: 0;left: 50%;}#sk-2efb75c6-5695-455f-aff0-57980aa107c1 div.sk-serial {display: flex;flex-direction: column;align-items: center;background-color: white;}#sk-2efb75c6-5695-455f-aff0-57980aa107c1 div.sk-item {z-index: 1;}#sk-2efb75c6-5695-455f-aff0-57980aa107c1 div.sk-parallel {display: flex;align-items: stretch;justify-content: center;background-color: white;}#sk-2efb75c6-5695-455f-aff0-57980aa107c1 div.sk-parallel-item {display: flex;flex-direction: column;position: relative;background-color: white;}#sk-2efb75c6-5695-455f-aff0-57980aa107c1 div.sk-parallel-item:first-child::after {align-self: flex-end;width: 50%;}#sk-2efb75c6-5695-455f-aff0-57980aa107c1 div.sk-parallel-item:last-child::after {align-self: flex-start;width: 50%;}#sk-2efb75c6-5695-455f-aff0-57980aa107c1 div.sk-parallel-item:only-child::after {width: 0;}#sk-2efb75c6-5695-455f-aff0-57980aa107c1 div.sk-dashed-wrapped {border: 1px dashed gray;margin: 0.2em;box-sizing: border-box;padding-bottom: 0.1em;background-color: white;position: relative;}#sk-2efb75c6-5695-455f-aff0-57980aa107c1 div.sk-label label {font-family: monospace;font-weight: bold;background-color: white;display: inline-block;line-height: 1.2em;}#sk-2efb75c6-5695-455f-aff0-57980aa107c1 div.sk-label-container {position: relative;z-index: 2;text-align: center;}#sk-2efb75c6-5695-455f-aff0-57980aa107c1 div.sk-container {display: inline-block;position: relative;}</style><div id=\"sk-2efb75c6-5695-455f-aff0-57980aa107c1\" class\"sk-top-container\"><div class=\"sk-container\"><div class=\"sk-item\"><div class=\"sk-estimator sk-toggleable\"><input class=\"sk-toggleable__control sk-hidden--visually\" id=\"d79949d9-fb5e-4205-95d7-e9850e5530f1\" type=\"checkbox\" checked><label class=\"sk-toggleable__label\" for=\"d79949d9-fb5e-4205-95d7-e9850e5530f1\">RandomForestClassifier</label><div class=\"sk-toggleable__content\"><pre>RandomForestClassifier()</pre></div></div></div></div></div>"
      ],
      "text/plain": [
       "RandomForestClassifier()"
      ]
     },
     "execution_count": 55,
     "metadata": {},
     "output_type": "execute_result"
    }
   ],
   "source": [
    "forest.fit(X_train_scaled, y_train)"
   ]
  },
  {
   "cell_type": "code",
   "execution_count": 60,
   "metadata": {},
   "outputs": [],
   "source": [
    "forest_preds = forest.predict(X_test_scaled)"
   ]
  },
  {
   "cell_type": "code",
   "execution_count": 57,
   "metadata": {},
   "outputs": [
    {
     "data": {
      "text/plain": [
       "array([0.914     , 0.918     , 0.932     , 0.918     , 0.92184369])"
      ]
     },
     "execution_count": 57,
     "metadata": {},
     "output_type": "execute_result"
    }
   ],
   "source": [
    "cross_val_score(forest, X_train_scaled, y_train)"
   ]
  },
  {
   "cell_type": "code",
   "execution_count": 58,
   "metadata": {},
   "outputs": [
    {
     "data": {
      "text/plain": [
       "array([0.914     , 0.91      , 0.93      , 0.9       , 0.91382766])"
      ]
     },
     "execution_count": 58,
     "metadata": {},
     "output_type": "execute_result"
    }
   ],
   "source": [
    "cross_val_score(extra, X_train_scaled, y_train)"
   ]
  },
  {
   "cell_type": "code",
   "execution_count": 64,
   "metadata": {},
   "outputs": [],
   "source": [
    "#Decision Tree \n",
    "from sklearn.tree import DecisionTreeRegressor\n",
    "\n"
   ]
  },
  {
   "cell_type": "code",
   "execution_count": 66,
   "metadata": {},
   "outputs": [],
   "source": [
    "dtr = DecisionTreeRegressor(max_depth=2)"
   ]
  },
  {
   "cell_type": "code",
   "execution_count": 67,
   "metadata": {},
   "outputs": [
    {
     "data": {
      "text/html": [
       "<style>#sk-20156cc4-b088-4264-b905-46a25934e7bd {color: black;background-color: white;}#sk-20156cc4-b088-4264-b905-46a25934e7bd pre{padding: 0;}#sk-20156cc4-b088-4264-b905-46a25934e7bd div.sk-toggleable {background-color: white;}#sk-20156cc4-b088-4264-b905-46a25934e7bd label.sk-toggleable__label {cursor: pointer;display: block;width: 100%;margin-bottom: 0;padding: 0.2em 0.3em;box-sizing: border-box;text-align: center;}#sk-20156cc4-b088-4264-b905-46a25934e7bd div.sk-toggleable__content {max-height: 0;max-width: 0;overflow: hidden;text-align: left;background-color: #f0f8ff;}#sk-20156cc4-b088-4264-b905-46a25934e7bd div.sk-toggleable__content pre {margin: 0.2em;color: black;border-radius: 0.25em;background-color: #f0f8ff;}#sk-20156cc4-b088-4264-b905-46a25934e7bd input.sk-toggleable__control:checked~div.sk-toggleable__content {max-height: 200px;max-width: 100%;overflow: auto;}#sk-20156cc4-b088-4264-b905-46a25934e7bd div.sk-estimator input.sk-toggleable__control:checked~label.sk-toggleable__label {background-color: #d4ebff;}#sk-20156cc4-b088-4264-b905-46a25934e7bd div.sk-label input.sk-toggleable__control:checked~label.sk-toggleable__label {background-color: #d4ebff;}#sk-20156cc4-b088-4264-b905-46a25934e7bd input.sk-hidden--visually {border: 0;clip: rect(1px 1px 1px 1px);clip: rect(1px, 1px, 1px, 1px);height: 1px;margin: -1px;overflow: hidden;padding: 0;position: absolute;width: 1px;}#sk-20156cc4-b088-4264-b905-46a25934e7bd div.sk-estimator {font-family: monospace;background-color: #f0f8ff;margin: 0.25em 0.25em;border: 1px dotted black;border-radius: 0.25em;box-sizing: border-box;}#sk-20156cc4-b088-4264-b905-46a25934e7bd div.sk-estimator:hover {background-color: #d4ebff;}#sk-20156cc4-b088-4264-b905-46a25934e7bd div.sk-parallel-item::after {content: \"\";width: 100%;border-bottom: 1px solid gray;flex-grow: 1;}#sk-20156cc4-b088-4264-b905-46a25934e7bd div.sk-label:hover label.sk-toggleable__label {background-color: #d4ebff;}#sk-20156cc4-b088-4264-b905-46a25934e7bd div.sk-serial::before {content: \"\";position: absolute;border-left: 1px solid gray;box-sizing: border-box;top: 2em;bottom: 0;left: 50%;}#sk-20156cc4-b088-4264-b905-46a25934e7bd div.sk-serial {display: flex;flex-direction: column;align-items: center;background-color: white;}#sk-20156cc4-b088-4264-b905-46a25934e7bd div.sk-item {z-index: 1;}#sk-20156cc4-b088-4264-b905-46a25934e7bd div.sk-parallel {display: flex;align-items: stretch;justify-content: center;background-color: white;}#sk-20156cc4-b088-4264-b905-46a25934e7bd div.sk-parallel-item {display: flex;flex-direction: column;position: relative;background-color: white;}#sk-20156cc4-b088-4264-b905-46a25934e7bd div.sk-parallel-item:first-child::after {align-self: flex-end;width: 50%;}#sk-20156cc4-b088-4264-b905-46a25934e7bd div.sk-parallel-item:last-child::after {align-self: flex-start;width: 50%;}#sk-20156cc4-b088-4264-b905-46a25934e7bd div.sk-parallel-item:only-child::after {width: 0;}#sk-20156cc4-b088-4264-b905-46a25934e7bd div.sk-dashed-wrapped {border: 1px dashed gray;margin: 0.2em;box-sizing: border-box;padding-bottom: 0.1em;background-color: white;position: relative;}#sk-20156cc4-b088-4264-b905-46a25934e7bd div.sk-label label {font-family: monospace;font-weight: bold;background-color: white;display: inline-block;line-height: 1.2em;}#sk-20156cc4-b088-4264-b905-46a25934e7bd div.sk-label-container {position: relative;z-index: 2;text-align: center;}#sk-20156cc4-b088-4264-b905-46a25934e7bd div.sk-container {display: inline-block;position: relative;}</style><div id=\"sk-20156cc4-b088-4264-b905-46a25934e7bd\" class\"sk-top-container\"><div class=\"sk-container\"><div class=\"sk-item\"><div class=\"sk-estimator sk-toggleable\"><input class=\"sk-toggleable__control sk-hidden--visually\" id=\"ab199e09-e66b-4ce3-b5b6-49b773c7c4b2\" type=\"checkbox\" checked><label class=\"sk-toggleable__label\" for=\"ab199e09-e66b-4ce3-b5b6-49b773c7c4b2\">DecisionTreeRegressor</label><div class=\"sk-toggleable__content\"><pre>DecisionTreeRegressor(max_depth=2)</pre></div></div></div></div></div>"
      ],
      "text/plain": [
       "DecisionTreeRegressor(max_depth=2)"
      ]
     },
     "execution_count": 67,
     "metadata": {},
     "output_type": "execute_result"
    }
   ],
   "source": [
    "dtr.fit(X_train_scaled, y_train)"
   ]
  },
  {
   "cell_type": "code",
   "execution_count": 69,
   "metadata": {},
   "outputs": [],
   "source": [
    "dtr_preds = dtr.predict(X_test_scaled)"
   ]
  },
  {
   "cell_type": "code",
   "execution_count": 70,
   "metadata": {},
   "outputs": [
    {
     "data": {
      "text/plain": [
       "0.3021439001298899"
      ]
     },
     "execution_count": 70,
     "metadata": {},
     "output_type": "execute_result"
    }
   ],
   "source": [
    "#RMSE \n",
    "\n",
    "mean_squared_error(y_test, dtr_preds, squared = False) #looks like the best model so far"
   ]
  },
  {
   "cell_type": "code",
   "execution_count": null,
   "metadata": {},
   "outputs": [],
   "source": []
  },
  {
   "cell_type": "code",
   "execution_count": null,
   "metadata": {},
   "outputs": [],
   "source": []
  },
  {
   "cell_type": "code",
   "execution_count": null,
   "metadata": {},
   "outputs": [],
   "source": []
  },
  {
   "cell_type": "markdown",
   "metadata": {},
   "source": [
    "## WHAT JACOB DID"
   ]
  },
  {
   "cell_type": "code",
   "execution_count": null,
   "metadata": {},
   "outputs": [],
   "source": []
  }
 ],
 "metadata": {
  "kernelspec": {
   "display_name": "Python 3 (ipykernel)",
   "language": "python",
   "name": "python3"
  },
  "language_info": {
   "codemirror_mode": {
    "name": "ipython",
    "version": 3
   },
   "file_extension": ".py",
   "mimetype": "text/x-python",
   "name": "python",
   "nbconvert_exporter": "python",
   "pygments_lexer": "ipython3",
   "version": "3.9.7"
  },
  "widgets": {
   "application/vnd.jupyter.widget-state+json": {
    "state": {},
    "version_major": 2,
    "version_minor": 0
   }
  }
 },
 "nbformat": 4,
 "nbformat_minor": 4
}
