{
 "cells": [
  {
   "cell_type": "markdown",
   "metadata": {},
   "source": [
    "<img src=\"http://imgur.com/1ZcRyrc.png\" style=\"float: left; margin: 20px; height: 55px\">\n",
    "\n",
    "# Neural Nets for Sequential Data\n",
    "\n",
    "-----\n",
    "**OBJECTIVES**\n",
    "\n",
    "- Explore Recurrent Architectures for sequential data\n",
    "- Explore Convolutional Architectures for sequential data\n",
    "- Use RNN's to model numeric time series data\n",
    "- Use RNN's and CNN's to model text data\n",
    "------"
   ]
  },
  {
   "cell_type": "markdown",
   "metadata": {},
   "source": [
    "## The Recurrent Node\n",
    "\n",
    "Compared to a convential neuron, our recurrent neuron will take in an output from the layer itself.  \n",
    "\n",
    "<center>\n",
    "   <img src = https://upload.wikimedia.org/wikipedia/commons/thumb/b/b5/Recurrent_neural_network_unfold.svg/440px-Recurrent_neural_network_unfold.svg.png />\n",
    "</center>\n",
    "\n"
   ]
  },
  {
   "cell_type": "markdown",
   "metadata": {},
   "source": [
    "### The Network Architecture\n",
    "\n",
    "```python\n",
    "state_t = 0\n",
    "for input_t in input_sequences:\n",
    "    output_t = tanh(W@input_t + U@state_t + b)\n",
    "    state_t = output_t\n",
    "```\n",
    "\n"
   ]
  },
  {
   "cell_type": "markdown",
   "metadata": {},
   "source": [
    "### A Basic Sequence of Stock Prices\n",
    "\n",
    "To begin, let's bring in stock data from yahoo using the `pandas_datareader`. "
   ]
  },
  {
   "cell_type": "code",
   "execution_count": 2,
   "metadata": {},
   "outputs": [],
   "source": [
    "import pandas_datareader as pdr\n",
    "from sklearn.model_selection import train_test_split\n",
    "import numpy as np\n",
    "import pandas as pd\n",
    "import matplotlib.pyplot as plt"
   ]
  },
  {
   "cell_type": "code",
   "execution_count": 1,
   "metadata": {},
   "outputs": [
    {
     "name": "stdout",
     "output_type": "stream",
     "text": [
      "Collecting pandas_datareader\n",
      "  Downloading pandas_datareader-0.10.0-py3-none-any.whl (109 kB)\n",
      "\u001b[K     |████████████████████████████████| 109 kB 1.7 MB/s eta 0:00:01\n",
      "\u001b[?25hRequirement already satisfied: lxml in /opt/anaconda3/lib/python3.9/site-packages (from pandas_datareader) (4.6.3)\n",
      "Requirement already satisfied: pandas>=0.23 in /opt/anaconda3/lib/python3.9/site-packages (from pandas_datareader) (1.3.4)\n",
      "Requirement already satisfied: requests>=2.19.0 in /opt/anaconda3/lib/python3.9/site-packages (from pandas_datareader) (2.26.0)\n",
      "Requirement already satisfied: python-dateutil>=2.7.3 in /opt/anaconda3/lib/python3.9/site-packages (from pandas>=0.23->pandas_datareader) (2.8.2)\n",
      "Requirement already satisfied: pytz>=2017.3 in /opt/anaconda3/lib/python3.9/site-packages (from pandas>=0.23->pandas_datareader) (2021.3)\n",
      "Requirement already satisfied: numpy>=1.17.3 in /opt/anaconda3/lib/python3.9/site-packages (from pandas>=0.23->pandas_datareader) (1.20.3)\n",
      "Requirement already satisfied: six>=1.5 in /opt/anaconda3/lib/python3.9/site-packages (from python-dateutil>=2.7.3->pandas>=0.23->pandas_datareader) (1.16.0)\n",
      "Requirement already satisfied: certifi>=2017.4.17 in /opt/anaconda3/lib/python3.9/site-packages (from requests>=2.19.0->pandas_datareader) (2021.10.8)\n",
      "Requirement already satisfied: urllib3<1.27,>=1.21.1 in /opt/anaconda3/lib/python3.9/site-packages (from requests>=2.19.0->pandas_datareader) (1.26.7)\n",
      "Requirement already satisfied: idna<4,>=2.5 in /opt/anaconda3/lib/python3.9/site-packages (from requests>=2.19.0->pandas_datareader) (3.2)\n",
      "Requirement already satisfied: charset-normalizer~=2.0.0 in /opt/anaconda3/lib/python3.9/site-packages (from requests>=2.19.0->pandas_datareader) (2.0.4)\n",
      "Installing collected packages: pandas-datareader\n",
      "Successfully installed pandas-datareader-0.10.0\n"
     ]
    }
   ],
   "source": [
    "!pip install -U pandas_datareader"
   ]
  },
  {
   "cell_type": "code",
   "execution_count": 3,
   "metadata": {},
   "outputs": [],
   "source": [
    "#get apple stock\n",
    "apple = pdr.get_data_yahoo(\"AAPL\")\n",
    "#apple2 = pd.read_csv('appl.csv', index_col = 0)"
   ]
  },
  {
   "cell_type": "code",
   "execution_count": 4,
   "metadata": {},
   "outputs": [
    {
     "data": {
      "text/html": [
       "<div>\n",
       "<style scoped>\n",
       "    .dataframe tbody tr th:only-of-type {\n",
       "        vertical-align: middle;\n",
       "    }\n",
       "\n",
       "    .dataframe tbody tr th {\n",
       "        vertical-align: top;\n",
       "    }\n",
       "\n",
       "    .dataframe thead th {\n",
       "        text-align: right;\n",
       "    }\n",
       "</style>\n",
       "<table border=\"1\" class=\"dataframe\">\n",
       "  <thead>\n",
       "    <tr style=\"text-align: right;\">\n",
       "      <th></th>\n",
       "      <th>High</th>\n",
       "      <th>Low</th>\n",
       "      <th>Open</th>\n",
       "      <th>Close</th>\n",
       "      <th>Volume</th>\n",
       "      <th>Adj Close</th>\n",
       "    </tr>\n",
       "    <tr>\n",
       "      <th>Date</th>\n",
       "      <th></th>\n",
       "      <th></th>\n",
       "      <th></th>\n",
       "      <th></th>\n",
       "      <th></th>\n",
       "      <th></th>\n",
       "    </tr>\n",
       "  </thead>\n",
       "  <tbody>\n",
       "    <tr>\n",
       "      <th>2017-04-12</th>\n",
       "      <td>35.537498</td>\n",
       "      <td>35.252499</td>\n",
       "      <td>35.400002</td>\n",
       "      <td>35.450001</td>\n",
       "      <td>81400000.0</td>\n",
       "      <td>33.470474</td>\n",
       "    </tr>\n",
       "    <tr>\n",
       "      <th>2017-04-13</th>\n",
       "      <td>35.595001</td>\n",
       "      <td>35.262501</td>\n",
       "      <td>35.477501</td>\n",
       "      <td>35.262501</td>\n",
       "      <td>71291600.0</td>\n",
       "      <td>33.293438</td>\n",
       "    </tr>\n",
       "    <tr>\n",
       "      <th>2017-04-17</th>\n",
       "      <td>35.470001</td>\n",
       "      <td>35.217499</td>\n",
       "      <td>35.369999</td>\n",
       "      <td>35.457500</td>\n",
       "      <td>66328400.0</td>\n",
       "      <td>33.477551</td>\n",
       "    </tr>\n",
       "    <tr>\n",
       "      <th>2017-04-18</th>\n",
       "      <td>35.509998</td>\n",
       "      <td>35.277500</td>\n",
       "      <td>35.352501</td>\n",
       "      <td>35.299999</td>\n",
       "      <td>58790000.0</td>\n",
       "      <td>33.328842</td>\n",
       "    </tr>\n",
       "    <tr>\n",
       "      <th>2017-04-19</th>\n",
       "      <td>35.500000</td>\n",
       "      <td>35.112499</td>\n",
       "      <td>35.470001</td>\n",
       "      <td>35.169998</td>\n",
       "      <td>69313600.0</td>\n",
       "      <td>33.206108</td>\n",
       "    </tr>\n",
       "  </tbody>\n",
       "</table>\n",
       "</div>"
      ],
      "text/plain": [
       "                 High        Low       Open      Close      Volume  Adj Close\n",
       "Date                                                                         \n",
       "2017-04-12  35.537498  35.252499  35.400002  35.450001  81400000.0  33.470474\n",
       "2017-04-13  35.595001  35.262501  35.477501  35.262501  71291600.0  33.293438\n",
       "2017-04-17  35.470001  35.217499  35.369999  35.457500  66328400.0  33.477551\n",
       "2017-04-18  35.509998  35.277500  35.352501  35.299999  58790000.0  33.328842\n",
       "2017-04-19  35.500000  35.112499  35.470001  35.169998  69313600.0  33.206108"
      ]
     },
     "execution_count": 4,
     "metadata": {},
     "output_type": "execute_result"
    }
   ],
   "source": [
    "#take a peek\n",
    "apple.head()"
   ]
  },
  {
   "cell_type": "code",
   "execution_count": null,
   "metadata": {},
   "outputs": [],
   "source": [
    "# apple.to_csv('appl.csv')"
   ]
  },
  {
   "cell_type": "code",
   "execution_count": 5,
   "metadata": {},
   "outputs": [
    {
     "data": {
      "text/plain": [
       "<AxesSubplot:xlabel='Date'>"
      ]
     },
     "execution_count": 5,
     "metadata": {},
     "output_type": "execute_result"
    },
    {
     "data": {
      "image/png": "[encoded data removed]",
      "text/plain": [
       "<Figure size 432x288 with 1 Axes>"
      ]
     },
     "metadata": {
      "needs_background": "light"
     },
     "output_type": "display_data"
    }
   ],
   "source": [
    "#plot the adjusted close\n",
    "apple['Adj Close'].plot()"
   ]
  },
  {
   "cell_type": "code",
   "execution_count": 6,
   "metadata": {},
   "outputs": [
    {
     "data": {
      "text/plain": [
       "<AxesSubplot:xlabel='Date'>"
      ]
     },
     "execution_count": 6,
     "metadata": {},
     "output_type": "execute_result"
    },
    {
     "data": {
      "image/png": "[encoded data removed]",
      "text/plain": [
       "<Figure size 432x288 with 1 Axes>"
      ]
     },
     "metadata": {
      "needs_background": "light"
     },
     "output_type": "display_data"
    }
   ],
   "source": [
    "#look at the percent change\n",
    "apple['Adj Close'].pct_change().plot()\n",
    "\n",
    "#not perfectly stationary, but roughly "
   ]
  },
  {
   "cell_type": "code",
   "execution_count": null,
   "metadata": {},
   "outputs": [],
   "source": [
    "from sklearn.model_selection import train_test_split"
   ]
  },
  {
   "cell_type": "code",
   "execution_count": 7,
   "metadata": {},
   "outputs": [],
   "source": [
    "#determine X and y\n",
    "apple_pchange = apple.pct_change().dropna()\n",
    "X = apple_pchange[['High', 'Low', 'Open', 'Volume']]\n",
    "y2 = apple_pchange['Adj Close'] #percent change "
   ]
  },
  {
   "cell_type": "code",
   "execution_count": 23,
   "metadata": {},
   "outputs": [],
   "source": [
    "#train test split: no shuffle!\n",
    "\n",
    "y2 = np.where(y2 > 0, 1, 0)\n",
    "X_train, X_test, y_train, y_test = train_test_split(X, y2, shuffle = False)\n",
    "\n",
    " #make a classification problem"
   ]
  },
  {
   "cell_type": "code",
   "execution_count": 15,
   "metadata": {},
   "outputs": [
    {
     "data": {
      "text/html": [
       "<div>\n",
       "<style scoped>\n",
       "    .dataframe tbody tr th:only-of-type {\n",
       "        vertical-align: middle;\n",
       "    }\n",
       "\n",
       "    .dataframe tbody tr th {\n",
       "        vertical-align: top;\n",
       "    }\n",
       "\n",
       "    .dataframe thead th {\n",
       "        text-align: right;\n",
       "    }\n",
       "</style>\n",
       "<table border=\"1\" class=\"dataframe\">\n",
       "  <thead>\n",
       "    <tr style=\"text-align: right;\">\n",
       "      <th></th>\n",
       "      <th>High</th>\n",
       "      <th>Low</th>\n",
       "      <th>Open</th>\n",
       "      <th>Volume</th>\n",
       "    </tr>\n",
       "    <tr>\n",
       "      <th>Date</th>\n",
       "      <th></th>\n",
       "      <th></th>\n",
       "      <th></th>\n",
       "      <th></th>\n",
       "    </tr>\n",
       "  </thead>\n",
       "  <tbody>\n",
       "    <tr>\n",
       "      <th>2017-04-13</th>\n",
       "      <td>0.001618</td>\n",
       "      <td>0.000284</td>\n",
       "      <td>0.002189</td>\n",
       "      <td>-0.124182</td>\n",
       "    </tr>\n",
       "    <tr>\n",
       "      <th>2017-04-17</th>\n",
       "      <td>-0.003512</td>\n",
       "      <td>-0.001276</td>\n",
       "      <td>-0.003030</td>\n",
       "      <td>-0.069618</td>\n",
       "    </tr>\n",
       "    <tr>\n",
       "      <th>2017-04-18</th>\n",
       "      <td>0.001128</td>\n",
       "      <td>0.001704</td>\n",
       "      <td>-0.000495</td>\n",
       "      <td>-0.113653</td>\n",
       "    </tr>\n",
       "    <tr>\n",
       "      <th>2017-04-19</th>\n",
       "      <td>-0.000282</td>\n",
       "      <td>-0.004677</td>\n",
       "      <td>0.003324</td>\n",
       "      <td>0.179003</td>\n",
       "    </tr>\n",
       "    <tr>\n",
       "      <th>2017-04-20</th>\n",
       "      <td>0.006479</td>\n",
       "      <td>0.005055</td>\n",
       "      <td>-0.004652</td>\n",
       "      <td>0.345745</td>\n",
       "    </tr>\n",
       "  </tbody>\n",
       "</table>\n",
       "</div>"
      ],
      "text/plain": [
       "                High       Low      Open    Volume\n",
       "Date                                              \n",
       "2017-04-13  0.001618  0.000284  0.002189 -0.124182\n",
       "2017-04-17 -0.003512 -0.001276 -0.003030 -0.069618\n",
       "2017-04-18  0.001128  0.001704 -0.000495 -0.113653\n",
       "2017-04-19 -0.000282 -0.004677  0.003324  0.179003\n",
       "2017-04-20  0.006479  0.005055 -0.004652  0.345745"
      ]
     },
     "execution_count": 15,
     "metadata": {},
     "output_type": "execute_result"
    }
   ],
   "source": [
    "X_train.head() #predict whether a positive or not percet change "
   ]
  },
  {
   "cell_type": "code",
   "execution_count": null,
   "metadata": {},
   "outputs": [],
   "source": []
  },
  {
   "cell_type": "code",
   "execution_count": null,
   "metadata": {},
   "outputs": [],
   "source": []
  },
  {
   "cell_type": "markdown",
   "metadata": {},
   "source": [
    "### Scaling\n",
    "------\n",
    "\n",
    "Per usual we need to scale our data for the network."
   ]
  },
  {
   "cell_type": "code",
   "execution_count": 10,
   "metadata": {},
   "outputs": [],
   "source": [
    "from sklearn.preprocessing import StandardScaler"
   ]
  },
  {
   "cell_type": "code",
   "execution_count": 16,
   "metadata": {},
   "outputs": [],
   "source": [
    "#instantiate\n",
    "\n",
    "scaler = StandardScaler()"
   ]
  },
  {
   "cell_type": "code",
   "execution_count": 17,
   "metadata": {},
   "outputs": [],
   "source": [
    "#fit and transform\n",
    "\n",
    "x_train = scaler.fit_transform(X_train)\n",
    "x_test = scaler.transform(X_test)"
   ]
  },
  {
   "cell_type": "markdown",
   "metadata": {
    "tags": []
   },
   "source": [
    "### `TimeSeriesGenerator`\n",
    "-------\n",
    "This creates stacks of sequenced data of which we specify the length of the sequences desired."
   ]
  },
  {
   "cell_type": "code",
   "execution_count": 18,
   "metadata": {},
   "outputs": [
    {
     "name": "stdout",
     "output_type": "stream",
     "text": [
      "Collecting tensorflow\n",
      "  Downloading tensorflow-2.8.0-cp39-cp39-macosx_10_14_x86_64.whl (217.5 MB)\n",
      "\u001b[K     |████████████████████████████████| 217.5 MB 47 kB/s  eta 0:00:013  |                                | 307 kB 3.9 MB/s eta 0:00:56     |██▌                             | 17.3 MB 5.1 MB/s eta 0:00:40     |███▌                            | 23.6 MB 11.2 MB/s eta 0:00:18     |████                            | 27.2 MB 3.0 MB/s eta 0:01:05     |█████▍                          | 36.4 MB 8.2 MB/s eta 0:00:23     |█████▊                          | 38.6 MB 5.6 MB/s eta 0:00:32     |███████▋                        | 51.7 MB 1.7 MB/s eta 0:01:38     |███████▊                        | 52.3 MB 1.7 MB/s eta 0:01:38     |█████████▏                      | 62.3 MB 8.0 MB/s eta 0:00:20     |██████████▉                     | 73.3 MB 7.5 MB/s eta 0:00:20     |████████████▊                   | 86.6 MB 3.6 MB/s eta 0:00:37               | 114.2 MB 8.5 MB/s eta 0:00:13     |█████████████████▋              | 119.4 MB 7.6 MB/s eta 0:00:13     |███████████████████▏            | 130.4 MB 8.7 MB/s eta 0:00:11     |███████████████████▍            | 131.6 MB 8.7 MB/s eta 0:00:10     |███████████████████▋            | 133.3 MB 4.9 MB/s eta 0:00:18     |████████████████████▋           | 140.1 MB 9.0 MB/s eta 0:00:09█████████████████▌         | 153.2 MB 2.5 MB/s eta 0:00:26��███████▍        | 158.7 MB 3.7 MB/s eta 0:00:16     |███████████████████████▉        | 161.9 MB 3.7 MB/s eta 0:00:16     |████████████████████████▎       | 164.9 MB 4.9 MB/s eta 0:00:11     |████████████████████████▍       | 165.9 MB 4.9 MB/s eta 0:00:11     |███████████████████████████▍    | 186.1 MB 224 kB/s eta 0:02:20\n",
      "\u001b[?25hCollecting grpcio<2.0,>=1.24.3\n",
      "  Downloading grpcio-1.44.0-cp39-cp39-macosx_10_10_x86_64.whl (4.3 MB)\n",
      "\u001b[K     |████████████████████████████████| 4.3 MB 5.7 MB/s eta 0:00:01     |████████▋                       | 1.1 MB 5.7 MB/s eta 0:00:01\n",
      "\u001b[?25hCollecting libclang>=9.0.1\n",
      "  Downloading libclang-13.0.0-py2.py3-none-macosx_10_9_x86_64.whl (13.0 MB)\n",
      "\u001b[K     |████████████████████████████████| 13.0 MB 6.7 MB/s eta 0:00:01     |████████▎                       | 3.4 MB 11.0 MB/s eta 0:00:01     |█████████████████▌              | 7.1 MB 11.0 MB/s eta 0:00:01�█████████████▍            | 7.8 MB 6.7 MB/s eta 0:00:01\n",
      "\u001b[?25hCollecting opt-einsum>=2.3.2\n",
      "  Downloading opt_einsum-3.3.0-py3-none-any.whl (65 kB)\n",
      "\u001b[K     |████████████████████████████████| 65 kB 3.7 MB/s eta 0:00:011\n",
      "\u001b[?25hRequirement already satisfied: six>=1.12.0 in /opt/anaconda3/lib/python3.9/site-packages (from tensorflow) (1.16.0)\n",
      "Collecting termcolor>=1.1.0\n",
      "  Downloading termcolor-1.1.0.tar.gz (3.9 kB)\n",
      "Requirement already satisfied: wrapt>=1.11.0 in /opt/anaconda3/lib/python3.9/site-packages (from tensorflow) (1.12.1)\n",
      "Collecting tensorflow-io-gcs-filesystem>=0.23.1\n",
      "  Downloading tensorflow_io_gcs_filesystem-0.24.0-cp39-cp39-macosx_10_14_x86_64.whl (1.6 MB)\n",
      "\u001b[K     |████████████████████████████████| 1.6 MB 10.1 MB/s eta 0:00:01\n",
      "\u001b[?25hCollecting absl-py>=0.4.0\n",
      "  Downloading absl_py-1.0.0-py3-none-any.whl (126 kB)\n",
      "\u001b[K     |████████████████████████████████| 126 kB 10.3 MB/s eta 0:00:01\n",
      "\u001b[?25hRequirement already satisfied: setuptools in /opt/anaconda3/lib/python3.9/site-packages (from tensorflow) (58.0.4)\n",
      "Collecting tf-estimator-nightly==2.8.0.dev2021122109\n",
      "  Downloading tf_estimator_nightly-2.8.0.dev2021122109-py2.py3-none-any.whl (462 kB)\n",
      "\u001b[K     |████████████████████████████████| 462 kB 9.3 MB/s eta 0:00:01     |████████████                    | 174 kB 9.3 MB/s eta 0:00:01\n",
      "\u001b[?25hCollecting keras-preprocessing>=1.1.1\n",
      "  Downloading Keras_Preprocessing-1.1.2-py2.py3-none-any.whl (42 kB)\n",
      "\u001b[K     |████████████████████████████████| 42 kB 1.4 MB/s eta 0:00:011\n",
      "\u001b[?25hCollecting gast>=0.2.1\n",
      "  Downloading gast-0.5.3-py3-none-any.whl (19 kB)\n",
      "Requirement already satisfied: numpy>=1.20 in /opt/anaconda3/lib/python3.9/site-packages (from tensorflow) (1.20.3)\n",
      "Collecting keras<2.9,>=2.8.0rc0\n",
      "  Downloading keras-2.8.0-py2.py3-none-any.whl (1.4 MB)\n",
      "\u001b[K     |████████████████████████████████| 1.4 MB 5.6 MB/s eta 0:00:01\n",
      "\u001b[?25hCollecting flatbuffers>=1.12\n",
      "  Downloading flatbuffers-2.0-py2.py3-none-any.whl (26 kB)\n",
      "Collecting google-pasta>=0.1.1\n",
      "  Downloading google_pasta-0.2.0-py3-none-any.whl (57 kB)\n",
      "\u001b[K     |████████████████████████████████| 57 kB 7.3 MB/s  eta 0:00:01\n",
      "\u001b[?25hRequirement already satisfied: typing-extensions>=3.6.6 in /opt/anaconda3/lib/python3.9/site-packages (from tensorflow) (3.10.0.2)\n",
      "Collecting astunparse>=1.6.0\n",
      "  Downloading astunparse-1.6.3-py2.py3-none-any.whl (12 kB)\n",
      "Collecting tensorboard<2.9,>=2.8\n",
      "  Downloading tensorboard-2.8.0-py3-none-any.whl (5.8 MB)\n",
      "\u001b[K     |████████████████████████████████| 5.8 MB 6.2 MB/s eta 0:00:01     |█▎                              | 235 kB 6.2 MB/s eta 0:00:01     |████                            | 727 kB 6.2 MB/s eta 0:00:01\n",
      "\u001b[?25hRequirement already satisfied: h5py>=2.9.0 in /opt/anaconda3/lib/python3.9/site-packages (from tensorflow) (3.2.1)\n",
      "Requirement already satisfied: protobuf>=3.9.2 in /opt/anaconda3/lib/python3.9/site-packages (from tensorflow) (3.19.4)\n",
      "Requirement already satisfied: wheel<1.0,>=0.23.0 in /opt/anaconda3/lib/python3.9/site-packages (from astunparse>=1.6.0->tensorflow) (0.37.0)\n",
      "Collecting tensorboard-data-server<0.7.0,>=0.6.0\n",
      "  Downloading tensorboard_data_server-0.6.1-py3-none-macosx_10_9_x86_64.whl (3.5 MB)\n",
      "\u001b[K     |████████████████████████████████| 3.5 MB 7.7 MB/s eta 0:00:01\n",
      "\u001b[?25hRequirement already satisfied: werkzeug>=0.11.15 in /opt/anaconda3/lib/python3.9/site-packages (from tensorboard<2.9,>=2.8->tensorflow) (2.0.2)\n",
      "Collecting markdown>=2.6.8\n",
      "  Downloading Markdown-3.3.6-py3-none-any.whl (97 kB)\n",
      "\u001b[K     |████████████████████████████████| 97 kB 4.4 MB/s eta 0:00:011\n",
      "\u001b[?25hCollecting google-auth<3,>=1.6.3\n",
      "  Downloading google_auth-2.6.3-py2.py3-none-any.whl (156 kB)\n",
      "\u001b[K     |████████████████████████████████| 156 kB 8.7 MB/s eta 0:00:01\n",
      "\u001b[?25hCollecting tensorboard-plugin-wit>=1.6.0\n",
      "  Downloading tensorboard_plugin_wit-1.8.1-py3-none-any.whl (781 kB)\n",
      "\u001b[K     |████████████████████████████████| 781 kB 10.8 MB/s eta 0:00:01\n",
      "\u001b[?25hCollecting google-auth-oauthlib<0.5,>=0.4.1\n",
      "  Downloading google_auth_oauthlib-0.4.6-py2.py3-none-any.whl (18 kB)\n",
      "Requirement already satisfied: requests<3,>=2.21.0 in /opt/anaconda3/lib/python3.9/site-packages (from tensorboard<2.9,>=2.8->tensorflow) (2.26.0)\n",
      "Collecting cachetools<6.0,>=2.0.0\n",
      "  Downloading cachetools-5.0.0-py3-none-any.whl (9.1 kB)\n",
      "Collecting rsa<5,>=3.1.4\n",
      "  Downloading rsa-4.8-py3-none-any.whl (39 kB)\n",
      "Collecting pyasn1-modules>=0.2.1\n",
      "  Downloading pyasn1_modules-0.2.8-py2.py3-none-any.whl (155 kB)\n",
      "\u001b[K     |████████████████████████████████| 155 kB 11.9 MB/s eta 0:00:01\n",
      "\u001b[?25hRequirement already satisfied: requests-oauthlib>=0.7.0 in /opt/anaconda3/lib/python3.9/site-packages (from google-auth-oauthlib<0.5,>=0.4.1->tensorboard<2.9,>=2.8->tensorflow) (1.3.1)\n",
      "Requirement already satisfied: importlib-metadata>=4.4 in /opt/anaconda3/lib/python3.9/site-packages (from markdown>=2.6.8->tensorboard<2.9,>=2.8->tensorflow) (4.8.1)\n",
      "Requirement already satisfied: zipp>=0.5 in /opt/anaconda3/lib/python3.9/site-packages (from importlib-metadata>=4.4->markdown>=2.6.8->tensorboard<2.9,>=2.8->tensorflow) (3.6.0)\n",
      "Collecting pyasn1<0.5.0,>=0.4.6\n",
      "  Downloading pyasn1-0.4.8-py2.py3-none-any.whl (77 kB)\n",
      "\u001b[K     |████████████████████████████████| 77 kB 6.6 MB/s  eta 0:00:01\n",
      "\u001b[?25hRequirement already satisfied: idna<4,>=2.5 in /opt/anaconda3/lib/python3.9/site-packages (from requests<3,>=2.21.0->tensorboard<2.9,>=2.8->tensorflow) (3.2)\n",
      "Requirement already satisfied: charset-normalizer~=2.0.0 in /opt/anaconda3/lib/python3.9/site-packages (from requests<3,>=2.21.0->tensorboard<2.9,>=2.8->tensorflow) (2.0.4)\n",
      "Requirement already satisfied: certifi>=2017.4.17 in /opt/anaconda3/lib/python3.9/site-packages (from requests<3,>=2.21.0->tensorboard<2.9,>=2.8->tensorflow) (2021.10.8)\n",
      "Requirement already satisfied: urllib3<1.27,>=1.21.1 in /opt/anaconda3/lib/python3.9/site-packages (from requests<3,>=2.21.0->tensorboard<2.9,>=2.8->tensorflow) (1.26.7)\n",
      "Requirement already satisfied: oauthlib>=3.0.0 in /opt/anaconda3/lib/python3.9/site-packages (from requests-oauthlib>=0.7.0->google-auth-oauthlib<0.5,>=0.4.1->tensorboard<2.9,>=2.8->tensorflow) (3.2.0)\n",
      "Building wheels for collected packages: termcolor\n",
      "  Building wheel for termcolor (setup.py) ... \u001b[?25ldone\n",
      "\u001b[?25h  Created wheel for termcolor: filename=termcolor-1.1.0-py3-none-any.whl size=4847 sha256=415d5bf11cf4a4c33c4733a259a507674c89f2c44d72914067ac5533dd8cc05c\n",
      "  Stored in directory: /Users/eapresident/Library/Caches/pip/wheels/b6/0d/90/0d1bbd99855f99cb2f6c2e5ff96f8023fad8ec367695f7d72d\n",
      "Successfully built termcolor\n",
      "Installing collected packages: pyasn1, rsa, pyasn1-modules, cachetools, google-auth, tensorboard-plugin-wit, tensorboard-data-server, markdown, grpcio, google-auth-oauthlib, absl-py, tf-estimator-nightly, termcolor, tensorflow-io-gcs-filesystem, tensorboard, opt-einsum, libclang, keras-preprocessing, keras, google-pasta, gast, flatbuffers, astunparse, tensorflow\n",
      "Successfully installed absl-py-1.0.0 astunparse-1.6.3 cachetools-5.0.0 flatbuffers-2.0 gast-0.5.3 google-auth-2.6.3 google-auth-oauthlib-0.4.6 google-pasta-0.2.0 grpcio-1.44.0 keras-2.8.0 keras-preprocessing-1.1.2 libclang-13.0.0 markdown-3.3.6 opt-einsum-3.3.0 pyasn1-0.4.8 pyasn1-modules-0.2.8 rsa-4.8 tensorboard-2.8.0 tensorboard-data-server-0.6.1 tensorboard-plugin-wit-1.8.1 tensorflow-2.8.0 tensorflow-io-gcs-filesystem-0.24.0 termcolor-1.1.0 tf-estimator-nightly-2.8.0.dev2021122109\n",
      "Requirement already satisfied: keras in /opt/anaconda3/lib/python3.9/site-packages (2.8.0)\n"
     ]
    }
   ],
   "source": [
    "!pip install tensorflow\n",
    "!pip install keras"
   ]
  },
  {
   "cell_type": "code",
   "execution_count": 19,
   "metadata": {},
   "outputs": [],
   "source": [
    "from keras.preprocessing.sequence import TimeseriesGenerator"
   ]
  },
  {
   "cell_type": "code",
   "execution_count": null,
   "metadata": {},
   "outputs": [],
   "source": [
    "#give training data, specify how big we want stacks to be "
   ]
  },
  {
   "cell_type": "code",
   "execution_count": 20,
   "metadata": {},
   "outputs": [],
   "source": [
    "train_sequences = TimeseriesGenerator(x_train, y_train, length = 3)"
   ]
  },
  {
   "cell_type": "code",
   "execution_count": 21,
   "metadata": {
    "collapsed": true,
    "jupyter": {
     "outputs_hidden": true
    },
    "tags": []
   },
   "outputs": [
    {
     "data": {
      "text/plain": [
       "[(array([[[ 0.00551738, -0.06866389,  0.03054953, -0.46991446],\n",
       "          [-0.29432972, -0.15389036, -0.22933031, -0.32844843],\n",
       "          [-0.02315059,  0.00891814, -0.10308813, -0.4426157 ]],\n",
       "  \n",
       "         [[-0.29432972, -0.15389036, -0.22933031, -0.32844843],\n",
       "          [-0.02315059,  0.00891814, -0.10308813, -0.4426157 ],\n",
       "          [-0.10552064, -0.33970516,  0.08703411,  0.31614895]],\n",
       "  \n",
       "         [[-0.02315059,  0.00891814, -0.10308813, -0.4426157 ],\n",
       "          [-0.10552064, -0.33970516,  0.08703411,  0.31614895],\n",
       "          [ 0.2896385 ,  0.1920264 , -0.31007663,  0.74845672]],\n",
       "  \n",
       "         ...,\n",
       "  \n",
       "         [[-0.46641156,  0.14479878, -0.10716923,  0.06597923],\n",
       "          [ 0.05615435, -0.09118257,  0.04285537, -0.26764953],\n",
       "          [-0.12249001,  0.15440238,  0.04255567, -0.10468266]],\n",
       "  \n",
       "         [[ 0.05615435, -0.09118257,  0.04285537, -0.26764953],\n",
       "          [-0.12249001,  0.15440238,  0.04255567, -0.10468266],\n",
       "          [ 0.92180353,  0.3489701 ,  0.29323829,  1.07409531]],\n",
       "  \n",
       "         [[-0.12249001,  0.15440238,  0.04255567, -0.10468266],\n",
       "          [ 0.92180353,  0.3489701 ,  0.29323829,  1.07409531],\n",
       "          [ 0.2287673 ,  0.46339706,  0.5143732 , -0.69872172]]]),\n",
       "  array([0, 1, 0, 1, 1, 0, 1, 0, 1, 1, 0, 0, 1, 1, 1, 0, 1, 1, 0, 0, 0, 1,\n",
       "         1, 1, 0, 0, 1, 0, 1, 0, 1, 1, 0, 1, 1, 0, 0, 0, 1, 0, 0, 0, 1, 0,\n",
       "         1, 0, 1, 0, 0, 1, 0, 1, 0, 1, 0, 1, 1, 1, 1, 1, 1, 1, 1, 1, 0, 0,\n",
       "         1, 1, 1, 0, 0, 0, 1, 1, 0, 1, 1, 1, 1, 0, 1, 1, 1, 0, 0, 0, 0, 1,\n",
       "         1, 0, 1, 1, 1, 1, 1, 1, 0, 0, 0, 0, 1, 0, 0, 0, 1, 0, 1, 0, 0, 0,\n",
       "         0, 1, 1, 0, 1, 0, 1, 0, 1, 0, 1, 1, 1, 0, 1, 1, 1, 0])),\n",
       " (array([[[ 0.92180353,  0.3489701 ,  0.29323829,  1.07409531],\n",
       "          [ 0.2287673 ,  0.46339706,  0.5143732 , -0.69872172],\n",
       "          [-0.14719424,  0.04279233,  0.12098306, -0.50594163]],\n",
       "  \n",
       "         [[ 0.2287673 ,  0.46339706,  0.5143732 , -0.69872172],\n",
       "          [-0.14719424,  0.04279233,  0.12098306, -0.50594163],\n",
       "          [-1.40933162, -1.65200899, -1.2175506 ,  4.00213237]],\n",
       "  \n",
       "         [[-0.14719424,  0.04279233,  0.12098306, -0.50594163],\n",
       "          [-1.40933162, -1.65200899, -1.2175506 ,  4.00213237],\n",
       "          [ 0.16025365,  0.24712686, -0.12292617, -1.28100253]],\n",
       "  \n",
       "         ...,\n",
       "  \n",
       "         [[ 0.82326217,  0.40958978,  0.33687578,  0.45605339],\n",
       "          [-0.12825986,  0.06139589,  0.29393917, -0.71811788],\n",
       "          [-1.21024731, -1.38764374, -1.21255672,  1.60773548]],\n",
       "  \n",
       "         [[-0.12825986,  0.06139589,  0.29393917, -0.71811788],\n",
       "          [-1.21024731, -1.38764374, -1.21255672,  1.60773548],\n",
       "          [-1.47878859, -2.3719609 , -0.98395531,  2.13737852]],\n",
       "  \n",
       "         [[-1.21024731, -1.38764374, -1.21255672,  1.60773548],\n",
       "          [-1.47878859, -2.3719609 , -0.98395531,  2.13737852],\n",
       "          [-1.55701647, -0.52671232, -1.17876648, -1.29504658]]]),\n",
       "  array([0, 1, 0, 1, 0, 1, 1, 1, 1, 0, 1, 1, 1, 1, 1, 0, 0, 0, 0, 0, 1, 0,\n",
       "         0, 1, 1, 1, 0, 0, 0, 1, 0, 0, 0, 0, 1, 1, 1, 0, 1, 0, 1, 1, 0, 0,\n",
       "         1, 0, 0, 1, 1, 0, 1, 0, 1, 1, 0, 0, 0, 1, 1, 0, 1, 1, 0, 0, 1, 0,\n",
       "         0, 1, 0, 0, 1, 1, 0, 0, 1, 0, 0, 1, 1, 1, 1, 1, 0, 0, 0, 1, 1, 1,\n",
       "         0, 0, 0, 1, 1, 0, 0, 1, 1, 1, 0, 0, 1, 0, 0, 0, 0, 0, 0, 1, 0, 0,\n",
       "         1, 0, 1, 1, 1, 0, 1, 1, 0, 1, 1, 1, 1, 0, 0, 0, 0, 0])),\n",
       " (array([[[-1.47878859, -2.3719609 , -0.98395531,  2.13737852],\n",
       "          [-1.55701647, -0.52671232, -1.17876648, -1.29504658],\n",
       "          [-0.29566689, -1.03974976, -0.42466428, -0.34842514]],\n",
       "  \n",
       "         [[-1.55701647, -0.52671232, -1.17876648, -1.29504658],\n",
       "          [-0.29566689, -1.03974976, -0.42466428, -0.34842514],\n",
       "          [-0.40885698,  0.31910744, -0.99511718, -0.55656043]],\n",
       "  \n",
       "         [[-0.29566689, -1.03974976, -0.42466428, -0.34842514],\n",
       "          [-0.40885698,  0.31910744, -0.99511718, -0.55656043],\n",
       "          [ 0.02047616,  0.23877669,  0.38081613, -0.18623459]],\n",
       "  \n",
       "         ...,\n",
       "  \n",
       "         [[-0.18080898,  0.56613034,  0.68798488, -0.70751312],\n",
       "          [-0.85042613, -1.66338004, -1.07293629,  0.95049769],\n",
       "          [ 0.31526117,  1.05213568, -0.0327471 , -0.10836905]],\n",
       "  \n",
       "         [[-0.85042613, -1.66338004, -1.07293629,  0.95049769],\n",
       "          [ 0.31526117,  1.05213568, -0.0327471 , -0.10836905],\n",
       "          [ 0.46571083,  0.29526345,  0.31656651, -0.48393079]],\n",
       "  \n",
       "         [[ 0.31526117,  1.05213568, -0.0327471 , -0.10836905],\n",
       "          [ 0.46571083,  0.29526345,  0.31656651, -0.48393079],\n",
       "          [-0.11784916, -1.1422278 , -0.97555167,  0.75034667]]]),\n",
       "  array([1, 1, 0, 1, 1, 1, 1, 1, 1, 1, 1, 1, 0, 0, 0, 1, 0, 0, 1, 0, 1, 0,\n",
       "         1, 0, 0, 0, 1, 1, 1, 1, 0, 0, 0, 1, 0, 1, 0, 0, 0, 1, 0, 0, 0, 1,\n",
       "         0, 1, 0, 1, 0, 1, 1, 1, 0, 0, 1, 1, 0, 1, 0, 1, 0, 1, 1, 1, 0, 0,\n",
       "         0, 1, 1, 1, 1, 1, 0, 1, 1, 0, 1, 1, 1, 1, 1, 0, 0, 1, 1, 1, 1, 1,\n",
       "         1, 1, 1, 1, 0, 0, 0, 0, 1, 0, 1, 0, 0, 1, 1, 1, 0, 1, 1, 0, 1, 1,\n",
       "         1, 1, 1, 0, 0, 0, 1, 0, 0, 1, 0, 1, 0, 0, 1, 1, 1, 0])),\n",
       " (array([[[ 4.65710833e-01,  2.95263451e-01,  3.16566509e-01,\n",
       "           -4.83930785e-01],\n",
       "          [-1.17849163e-01, -1.14222780e+00, -9.75551672e-01,\n",
       "            7.50346669e-01],\n",
       "          [ 1.67522001e-01, -1.24881619e-01,  1.48335955e+00,\n",
       "           -3.64897211e-03]],\n",
       "  \n",
       "         [[-1.17849163e-01, -1.14222780e+00, -9.75551672e-01,\n",
       "            7.50346669e-01],\n",
       "          [ 1.67522001e-01, -1.24881619e-01,  1.48335955e+00,\n",
       "           -3.64897211e-03],\n",
       "          [-8.31992666e-01,  4.78636248e-01, -1.17225138e+00,\n",
       "           -8.49230414e-01]],\n",
       "  \n",
       "         [[ 1.67522001e-01, -1.24881619e-01,  1.48335955e+00,\n",
       "           -3.64897211e-03],\n",
       "          [-8.31992666e-01,  4.78636248e-01, -1.17225138e+00,\n",
       "           -8.49230414e-01],\n",
       "          [-4.03263731e-01, -1.11258710e+00, -4.92413304e-01,\n",
       "            1.36329611e+00]],\n",
       "  \n",
       "         ...,\n",
       "  \n",
       "         [[ 1.16326364e-01,  7.59877698e-01,  6.35180212e-01,\n",
       "           -7.90746608e-01],\n",
       "          [-2.90930484e-01, -5.93442110e-01, -2.05718836e-01,\n",
       "            2.44737576e-04],\n",
       "          [-8.65567977e-01, -8.83232469e-01, -5.43075975e-01,\n",
       "           -1.33143296e-01]],\n",
       "  \n",
       "         [[-2.90930484e-01, -5.93442110e-01, -2.05718836e-01,\n",
       "            2.44737576e-04],\n",
       "          [-8.65567977e-01, -8.83232469e-01, -5.43075975e-01,\n",
       "           -1.33143296e-01],\n",
       "          [ 1.87514558e-01,  3.86174017e-01, -1.99956966e-01,\n",
       "            3.46366076e-01]],\n",
       "  \n",
       "         [[-8.65567977e-01, -8.83232469e-01, -5.43075975e-01,\n",
       "           -1.33143296e-01],\n",
       "          [ 1.87514558e-01,  3.86174017e-01, -1.99956966e-01,\n",
       "            3.46366076e-01],\n",
       "          [-8.18400142e-01, -1.35717469e+00, -4.04874643e-01,\n",
       "            2.69291470e+00]]]),\n",
       "  array([1, 0, 0, 1, 1, 1, 0, 0, 1, 1, 0, 0, 0, 0, 0, 1, 1, 0, 0, 0, 0, 1,\n",
       "         0, 1, 0, 0, 1, 0, 0, 0, 1, 0, 1, 1, 0, 0, 1, 0, 0, 0, 0, 1, 0, 1,\n",
       "         1, 1, 0, 1, 0, 1, 1, 1, 0, 0, 1, 1, 1, 1, 0, 1, 0, 1, 0, 0, 1, 1,\n",
       "         1, 1, 1, 1, 0, 1, 0, 1, 0, 1, 0, 1, 1, 0, 1, 1, 1, 1, 0, 1, 1, 0,\n",
       "         0, 0, 1, 1, 1, 1, 1, 1, 1, 0, 1, 1, 0, 0, 0, 1, 1, 1, 1, 1, 1, 1,\n",
       "         1, 1, 0, 1, 0, 0, 1, 1, 1, 1, 1, 1, 0, 0, 0, 1, 0, 1])),\n",
       " (array([[[ 0.18751456,  0.38617402, -0.19995697,  0.34636608],\n",
       "          [-0.81840014, -1.35717469, -0.40487464,  2.6929147 ],\n",
       "          [ 3.33356023,  2.69271538,  1.59383971,  0.87120834]],\n",
       "  \n",
       "         [[-0.81840014, -1.35717469, -0.40487464,  2.6929147 ],\n",
       "          [ 3.33356023,  2.69271538,  1.59383971,  0.87120834],\n",
       "          [-0.81119398, -0.37139888, -0.08794724, -1.46098409]],\n",
       "  \n",
       "         [[ 3.33356023,  2.69271538,  1.59383971,  0.87120834],\n",
       "          [-0.81119398, -0.37139888, -0.08794724, -1.46098409],\n",
       "          [-0.31170952,  0.46708985,  0.17069077, -1.0477078 ]],\n",
       "  \n",
       "         ...,\n",
       "  \n",
       "         [[ 0.28581273,  0.04946527,  0.41719149, -0.37202619],\n",
       "          [ 0.37176896,  0.15759356, -0.35336336,  0.00931345],\n",
       "          [ 0.50794152,  0.77962638,  0.79385142,  0.66699143]],\n",
       "  \n",
       "         [[ 0.37176896,  0.15759356, -0.35336336,  0.00931345],\n",
       "          [ 0.50794152,  0.77962638,  0.79385142,  0.66699143],\n",
       "          [ 0.02819269, -1.00316025,  0.23346933,  1.09417243]],\n",
       "  \n",
       "         [[ 0.50794152,  0.77962638,  0.79385142,  0.66699143],\n",
       "          [ 0.02819269, -1.00316025,  0.23346933,  1.09417243],\n",
       "          [-1.13054605, -0.39048299, -0.92040966, -0.48043332]]]),\n",
       "  array([0, 1, 0, 0, 1, 0, 0, 0, 1, 1, 0, 0, 0, 1, 0, 0, 0, 0, 0, 1, 0, 0,\n",
       "         1, 1, 1, 1, 1, 1, 0, 0, 0, 1, 1, 0, 1, 0, 0, 0, 1, 0, 0, 1, 1, 1,\n",
       "         0, 0, 1, 1, 0, 1, 1, 0, 0, 1, 0, 1, 1, 0, 0, 1, 1, 0, 1, 0, 0, 0,\n",
       "         1, 1, 1, 0, 0, 1, 0, 0, 1, 1, 1, 1, 0, 0, 1, 0, 1, 1, 0, 0, 1, 1,\n",
       "         0, 1, 1, 1, 0, 0, 1, 1, 1, 0, 0, 1, 0, 1, 0, 0, 1, 1, 0, 1, 1, 1,\n",
       "         0, 1, 1, 1, 0, 0, 0, 1, 1, 1, 0, 1, 1, 1, 1, 0, 0, 1])),\n",
       " (array([[[ 0.02819269, -1.00316025,  0.23346933,  1.09417243],\n",
       "          [-1.13054605, -0.39048299, -0.92040966, -0.48043332],\n",
       "          [ 0.83310721, -0.97885645,  0.42604953,  0.15687084]],\n",
       "  \n",
       "         [[-1.13054605, -0.39048299, -0.92040966, -0.48043332],\n",
       "          [ 0.83310721, -0.97885645,  0.42604953,  0.15687084],\n",
       "          [ 1.49673829,  2.65610099,  0.38473441,  0.07493268]],\n",
       "  \n",
       "         [[ 0.83310721, -0.97885645,  0.42604953,  0.15687084],\n",
       "          [ 1.49673829,  2.65610099,  0.38473441,  0.07493268],\n",
       "          [ 0.34944896,  1.27973342,  1.47589658, -0.96891367]],\n",
       "  \n",
       "         ...,\n",
       "  \n",
       "         [[ 0.69621733,  1.03327745, -0.13958142,  0.43713833],\n",
       "          [ 0.89162224,  0.77416388,  0.83611934,  0.71671144],\n",
       "          [ 0.79804467, -0.55785081, -0.71552608,  0.66715444]],\n",
       "  \n",
       "         [[ 0.89162224,  0.77416388,  0.83611934,  0.71671144],\n",
       "          [ 0.79804467, -0.55785081, -0.71552608,  0.66715444],\n",
       "          [-1.12711981,  0.00566658,  0.42946025, -1.30141836]],\n",
       "  \n",
       "         [[ 0.79804467, -0.55785081, -0.71552608,  0.66715444],\n",
       "          [-1.12711981,  0.00566658,  0.42946025, -1.30141836],\n",
       "          [ 1.3658139 ,  1.46908642,  0.93572045,  0.12735966]]]),\n",
       "  array([1, 1, 0, 1, 1, 1, 1, 0, 1, 0, 1, 1, 0, 0, 0, 0, 1, 0, 1, 0, 0, 0,\n",
       "         1, 1, 1, 0, 1, 1, 1, 1, 1, 1, 0, 1, 0, 1, 1, 1, 0, 1, 1, 1, 0, 1,\n",
       "         0, 1, 1, 1, 1, 0, 0, 1, 1, 0, 1, 1, 0, 0, 1, 1, 0, 0, 0, 1, 1, 1,\n",
       "         0, 1, 0, 1, 0, 1, 0, 1, 0, 0, 0, 0, 1, 0, 0, 1, 0, 1, 0, 0, 0, 1,\n",
       "         0, 0, 1, 0, 1, 0, 0, 0, 0, 1, 0, 1, 0, 1, 0, 0, 1, 0, 1, 0, 1, 1,\n",
       "         1, 1, 0, 1, 0, 0, 0, 1, 0, 1, 1, 0, 1, 1, 0, 1, 1, 1])),\n",
       " (array([[[-1.12711981,  0.00566658,  0.42946025, -1.30141836],\n",
       "          [ 1.3658139 ,  1.46908642,  0.93572045,  0.12735966],\n",
       "          [ 0.34592572,  0.73407831,  0.83278992, -0.2430162 ]],\n",
       "  \n",
       "         [[ 1.3658139 ,  1.46908642,  0.93572045,  0.12735966],\n",
       "          [ 0.34592572,  0.73407831,  0.83278992, -0.2430162 ],\n",
       "          [ 0.282964  ,  0.48253075,  0.37892355, -0.64192675]],\n",
       "  \n",
       "         [[ 0.34592572,  0.73407831,  0.83278992, -0.2430162 ],\n",
       "          [ 0.282964  ,  0.48253075,  0.37892355, -0.64192675],\n",
       "          [ 0.90310566,  0.33558933,  0.31893017,  0.27112739]],\n",
       "  \n",
       "         ...,\n",
       "  \n",
       "         [[ 0.67051227,  0.45677331, -1.2383029 , -0.10847741],\n",
       "          [-2.55850748, -2.26566303, -0.6589196 ,  0.63526053],\n",
       "          [-0.77280016, -0.28704352, -0.95269202, -1.06643107]],\n",
       "  \n",
       "         [[-2.55850748, -2.26566303, -0.6589196 ,  0.63526053],\n",
       "          [-0.77280016, -0.28704352, -0.95269202, -1.06643107],\n",
       "          [ 0.33870957,  0.63364476,  0.17253232, -0.46959087]],\n",
       "  \n",
       "         [[-0.77280016, -0.28704352, -0.95269202, -1.06643107],\n",
       "          [ 0.33870957,  0.63364476,  0.17253232, -0.46959087],\n",
       "          [ 2.06047903,  1.7348174 ,  1.95568917,  0.58947513]]]),\n",
       "  array([1, 1, 1, 0, 0, 1, 0, 1, 0, 1, 0, 1, 0, 1, 1, 0, 1, 1, 1, 0, 1, 1,\n",
       "         1, 1, 0, 1, 1, 1, 0, 1, 0, 1, 1, 0, 1, 0, 1, 1, 0, 0, 1, 0, 1, 1,\n",
       "         1, 0, 1, 1, 0, 0, 1, 0, 1, 0, 0, 1, 0, 1, 1, 1, 1, 1, 1, 1, 0, 1,\n",
       "         0, 1, 1, 0, 0, 1, 1, 1, 1, 1, 0, 1, 0, 0, 1, 1, 0, 0, 1, 0, 1, 0,\n",
       "         0, 1, 1, 0, 0, 0, 1, 1, 0, 1, 1, 1, 0, 1, 1, 0, 1, 0, 1, 0, 1, 1,\n",
       "         0, 1, 0, 0, 0, 1, 0, 0, 0, 1, 1, 0, 1, 0, 0, 1, 1, 1])),\n",
       " (array([[[ 0.33870957,  0.63364476,  0.17253232, -0.46959087],\n",
       "          [ 2.06047903,  1.7348174 ,  1.95568917,  0.58947513],\n",
       "          [ 1.94884063,  2.11387556,  1.58357623, -0.37017356]],\n",
       "  \n",
       "         [[ 2.06047903,  1.7348174 ,  1.95568917,  0.58947513],\n",
       "          [ 1.94884063,  2.11387556,  1.58357623, -0.37017356],\n",
       "          [-0.29429686, -0.43010624,  0.07773652, -0.39266384]],\n",
       "  \n",
       "         [[ 1.94884063,  2.11387556,  1.58357623, -0.37017356],\n",
       "          [-0.29429686, -0.43010624,  0.07773652, -0.39266384],\n",
       "          [ 1.2790636 , -0.12179968,  0.83892778,  0.75942485]],\n",
       "  \n",
       "         [[-0.29429686, -0.43010624,  0.07773652, -0.39266384],\n",
       "          [ 1.2790636 , -0.12179968,  0.83892778,  0.75942485],\n",
       "          [-2.19733504, -0.98807992, -2.12381892, -0.42467548]],\n",
       "  \n",
       "         [[ 1.2790636 , -0.12179968,  0.83892778,  0.75942485],\n",
       "          [-2.19733504, -0.98807992, -2.12381892, -0.42467548],\n",
       "          [ 0.92498427,  1.02165135,  0.62822989, -0.63124237]],\n",
       "  \n",
       "         [[-2.19733504, -0.98807992, -2.12381892, -0.42467548],\n",
       "          [ 0.92498427,  1.02165135,  0.62822989, -0.63124237],\n",
       "          [ 0.35068261,  0.91525188,  0.95399254, -0.35880736]],\n",
       "  \n",
       "         [[ 0.92498427,  1.02165135,  0.62822989, -0.63124237],\n",
       "          [ 0.35068261,  0.91525188,  0.95399254, -0.35880736],\n",
       "          [-0.50612578, -0.40671111, -0.15337993, -0.69031086]],\n",
       "  \n",
       "         [[ 0.35068261,  0.91525188,  0.95399254, -0.35880736],\n",
       "          [-0.50612578, -0.40671111, -0.15337993, -0.69031086],\n",
       "          [ 0.55568028,  0.04561915, -0.29523099,  0.15717433]],\n",
       "  \n",
       "         [[-0.50612578, -0.40671111, -0.15337993, -0.69031086],\n",
       "          [ 0.55568028,  0.04561915, -0.29523099,  0.15717433],\n",
       "          [-0.24365871,  0.29039342,  0.18532407, -0.62882364]],\n",
       "  \n",
       "         [[ 0.55568028,  0.04561915, -0.29523099,  0.15717433],\n",
       "          [-0.24365871,  0.29039342,  0.18532407, -0.62882364],\n",
       "          [-0.50079693, -0.52506512, -0.46995591, -0.07634938]],\n",
       "  \n",
       "         [[-0.24365871,  0.29039342,  0.18532407, -0.62882364],\n",
       "          [-0.50079693, -0.52506512, -0.46995591, -0.07634938],\n",
       "          [-0.45981482, -0.63514537, -0.50664251, -0.2229939 ]],\n",
       "  \n",
       "         [[-0.50079693, -0.52506512, -0.46995591, -0.07634938],\n",
       "          [-0.45981482, -0.63514537, -0.50664251, -0.2229939 ],\n",
       "          [-0.23143703,  0.1403439 ,  0.3661476 , -0.16574588]],\n",
       "  \n",
       "         [[-0.45981482, -0.63514537, -0.50664251, -0.2229939 ],\n",
       "          [-0.23143703,  0.1403439 ,  0.3661476 , -0.16574588],\n",
       "          [-0.65502424, -1.73313395, -0.6911926 ,  1.76668542]],\n",
       "  \n",
       "         [[-0.23143703,  0.1403439 ,  0.3661476 , -0.16574588],\n",
       "          [-0.65502424, -1.73313395, -0.6911926 ,  1.76668542],\n",
       "          [-0.9686749 , -0.64132282, -1.46791675, -0.43333952]],\n",
       "  \n",
       "         [[-0.65502424, -1.73313395, -0.6911926 ,  1.76668542],\n",
       "          [-0.9686749 , -0.64132282, -1.46791675, -0.43333952],\n",
       "          [ 0.3650308 ,  1.16779393,  0.63840428, -0.99890326]],\n",
       "  \n",
       "         [[-0.9686749 , -0.64132282, -1.46791675, -0.43333952],\n",
       "          [ 0.3650308 ,  1.16779393,  0.63840428, -0.99890326],\n",
       "          [ 0.28142316,  0.41393998,  0.36106696, -1.15818945]],\n",
       "  \n",
       "         [[ 0.3650308 ,  1.16779393,  0.63840428, -0.99890326],\n",
       "          [ 0.28142316,  0.41393998,  0.36106696, -1.15818945],\n",
       "          [ 1.64225536,  0.1931912 ,  0.09239913,  6.66641321]],\n",
       "  \n",
       "         [[ 0.28142316,  0.41393998,  0.36106696, -1.15818945],\n",
       "          [ 1.64225536,  0.1931912 ,  0.09239913,  6.66641321],\n",
       "          [ 1.11891916,  1.41255471,  1.64127127, -0.78585918]],\n",
       "  \n",
       "         [[ 1.64225536,  0.1931912 ,  0.09239913,  6.66641321],\n",
       "          [ 1.11891916,  1.41255471,  1.64127127, -0.78585918],\n",
       "          [-0.13640293,  0.31645579,  0.33712008, -0.9339875 ]],\n",
       "  \n",
       "         [[ 1.11891916,  1.41255471,  1.64127127, -0.78585918],\n",
       "          [-0.13640293,  0.31645579,  0.33712008, -0.9339875 ],\n",
       "          [ 0.10519047,  0.51239371,  0.53363074, -0.44031545]],\n",
       "  \n",
       "         [[-0.13640293,  0.31645579,  0.33712008, -0.9339875 ],\n",
       "          [ 0.10519047,  0.51239371,  0.53363074, -0.44031545],\n",
       "          [-0.52350752, -0.39263603, -0.44930913, -0.17116907]],\n",
       "  \n",
       "         [[ 0.10519047,  0.51239371,  0.53363074, -0.44031545],\n",
       "          [-0.52350752, -0.39263603, -0.44930913, -0.17116907],\n",
       "          [ 0.7244858 ,  0.24404109, -0.19623302,  0.13204258]],\n",
       "  \n",
       "         [[-0.52350752, -0.39263603, -0.44930913, -0.17116907],\n",
       "          [ 0.7244858 ,  0.24404109, -0.19623302,  0.13204258],\n",
       "          [ 0.10332278,  0.29123832,  0.76015206, -0.28209626]],\n",
       "  \n",
       "         [[ 0.7244858 ,  0.24404109, -0.19623302,  0.13204258],\n",
       "          [ 0.10332278,  0.29123832,  0.76015206, -0.28209626],\n",
       "          [ 0.36459303, -1.01183376, -0.01440178,  0.88828842]],\n",
       "  \n",
       "         [[ 0.10332278,  0.29123832,  0.76015206, -0.28209626],\n",
       "          [ 0.36459303, -1.01183376, -0.01440178,  0.88828842],\n",
       "          [-1.05436219, -0.46796342, -1.68978199, -0.90886536]],\n",
       "  \n",
       "         [[ 0.36459303, -1.01183376, -0.01440178,  0.88828842],\n",
       "          [-1.05436219, -0.46796342, -1.68978199, -0.90886536],\n",
       "          [-0.61285028,  0.09772424,  0.7190299 ,  0.0314891 ]],\n",
       "  \n",
       "         [[-1.05436219, -0.46796342, -1.68978199, -0.90886536],\n",
       "          [-0.61285028,  0.09772424,  0.7190299 ,  0.0314891 ],\n",
       "          [ 0.19186236,  0.36451497, -0.00931901, -0.37922566]],\n",
       "  \n",
       "         [[-0.61285028,  0.09772424,  0.7190299 ,  0.0314891 ],\n",
       "          [ 0.19186236,  0.36451497, -0.00931901, -0.37922566],\n",
       "          [ 2.0670459 ,  1.08009447,  0.62820471,  2.4078902 ]],\n",
       "  \n",
       "         [[ 0.19186236,  0.36451497, -0.00931901, -0.37922566],\n",
       "          [ 2.0670459 ,  1.08009447,  0.62820471,  2.4078902 ],\n",
       "          [ 0.12572995,  0.98538092,  1.15090999, -1.12134001]],\n",
       "  \n",
       "         [[ 2.0670459 ,  1.08009447,  0.62820471,  2.4078902 ],\n",
       "          [ 0.12572995,  0.98538092,  1.15090999, -1.12134001],\n",
       "          [ 0.46190017,  0.55473628,  0.50382501, -0.24955756]],\n",
       "  \n",
       "         [[ 0.12572995,  0.98538092,  1.15090999, -1.12134001],\n",
       "          [ 0.46190017,  0.55473628,  0.50382501, -0.24955756],\n",
       "          [-0.30558247, -0.90342855, -0.05527414,  2.54974792]],\n",
       "  \n",
       "         [[ 0.46190017,  0.55473628,  0.50382501, -0.24955756],\n",
       "          [-0.30558247, -0.90342855, -0.05527414,  2.54974792],\n",
       "          [-0.44675012, -1.24080542, -1.59968558, -1.10791078]],\n",
       "  \n",
       "         [[-0.30558247, -0.90342855, -0.05527414,  2.54974792],\n",
       "          [-0.44675012, -1.24080542, -1.59968558, -1.10791078],\n",
       "          [ 2.68980498,  2.65974798,  2.54611775,  0.87100346]],\n",
       "  \n",
       "         [[-0.44675012, -1.24080542, -1.59968558, -1.10791078],\n",
       "          [ 2.68980498,  2.65974798,  2.54611775,  0.87100346],\n",
       "          [-0.95012411,  0.39202195,  0.12962349, -1.38640333]],\n",
       "  \n",
       "         [[ 2.68980498,  2.65974798,  2.54611775,  0.87100346],\n",
       "          [-0.95012411,  0.39202195,  0.12962349, -1.38640333],\n",
       "          [ 0.36556391,  0.04952146, -0.39492382, -1.12637001]],\n",
       "  \n",
       "         [[-0.95012411,  0.39202195,  0.12962349, -1.38640333],\n",
       "          [ 0.36556391,  0.04952146, -0.39492382, -1.12637001],\n",
       "          [ 1.61026647,  0.92017806,  0.93389873,  3.13507823]],\n",
       "  \n",
       "         [[ 0.36556391,  0.04952146, -0.39492382, -1.12637001],\n",
       "          [ 1.61026647,  0.92017806,  0.93389873,  3.13507823],\n",
       "          [ 0.52805518,  0.2554875 ,  1.43025475, -0.21957237]],\n",
       "  \n",
       "         [[ 1.61026647,  0.92017806,  0.93389873,  3.13507823],\n",
       "          [ 0.52805518,  0.2554875 ,  1.43025475, -0.21957237],\n",
       "          [-1.26828612, -0.46645598, -0.96932362, -0.67474922]],\n",
       "  \n",
       "         [[ 0.52805518,  0.2554875 ,  1.43025475, -0.21957237],\n",
       "          [-1.26828612, -0.46645598, -0.96932362, -0.67474922],\n",
       "          [-0.62634329, -0.77221786, -0.62932455, -0.07632687]],\n",
       "  \n",
       "         [[-1.26828612, -0.46645598, -0.96932362, -0.67474922],\n",
       "          [-0.62634329, -0.77221786, -0.62932455, -0.07632687],\n",
       "          [-0.57927239, -2.14147598, -0.2864133 ,  1.00784596]],\n",
       "  \n",
       "         [[-0.62634329, -0.77221786, -0.62932455, -0.07632687],\n",
       "          [-0.57927239, -2.14147598, -0.2864133 ,  1.00784596],\n",
       "          [-0.90714995,  0.63561795, -1.80503954, -0.97363612]],\n",
       "  \n",
       "         [[-0.57927239, -2.14147598, -0.2864133 ,  1.00784596],\n",
       "          [-0.90714995,  0.63561795, -1.80503954, -0.97363612],\n",
       "          [-0.39521047, -0.95624557, -0.53043502,  1.37644633]],\n",
       "  \n",
       "         [[-0.90714995,  0.63561795, -1.80503954, -0.97363612],\n",
       "          [-0.39521047, -0.95624557, -0.53043502,  1.37644633],\n",
       "          [ 0.16963369,  0.55564955,  0.17104576, -0.90876064]],\n",
       "  \n",
       "         [[-0.39521047, -0.95624557, -0.53043502,  1.37644633],\n",
       "          [ 0.16963369,  0.55564955,  0.17104576, -0.90876064],\n",
       "          [ 0.35499885,  0.92853916,  1.50030528, -0.25252991]]]),\n",
       "  array([0, 0, 0, 1, 0, 1, 1, 0, 0, 1, 0, 0, 1, 1, 1, 1, 1, 1, 0, 0, 1, 1,\n",
       "         0, 1, 0, 0, 1, 0, 1, 0, 1, 1, 0, 1, 1, 0, 0, 0, 0, 1, 0, 1, 1, 0]))]"
      ]
     },
     "execution_count": 21,
     "metadata": {},
     "output_type": "execute_result"
    }
   ],
   "source": [
    "list(train_sequences) #get a stack of 3 days of inputs - use previous 3 days to predict the next "
   ]
  },
  {
   "cell_type": "code",
   "execution_count": 30,
   "metadata": {},
   "outputs": [],
   "source": [
    "test_sequences = TimeseriesGenerator(x_test, y_test, length = 3)"
   ]
  },
  {
   "cell_type": "code",
   "execution_count": null,
   "metadata": {},
   "outputs": [],
   "source": []
  },
  {
   "cell_type": "code",
   "execution_count": null,
   "metadata": {},
   "outputs": [],
   "source": [
    "#test sequences\n"
   ]
  },
  {
   "cell_type": "markdown",
   "metadata": {},
   "source": [
    "### Model with `SimpleRNN`\n",
    "--------\n",
    "\n",
    "- 1 `SimpleRNN` layer\n",
    "- 1 hidden `Dense` layer"
   ]
  },
  {
   "cell_type": "code",
   "execution_count": 25,
   "metadata": {},
   "outputs": [],
   "source": [
    "from keras.models import Sequential\n",
    "from keras.layers import SimpleRNN, LSTM, GRU, Dense #node with different behavior, use a different layer"
   ]
  },
  {
   "cell_type": "code",
   "execution_count": 27,
   "metadata": {},
   "outputs": [],
   "source": [
    "#build the network\n",
    "\n",
    "rnn_model = Sequential()\n",
    "rnn_model.add(SimpleRNN(8, input_shape = (3,4))) #hidden RNN\n",
    "#8 different rnn nodes on hidden layer\n",
    "#stacks of 3 featres with 4 columns \n",
    "\n",
    "rnn_model.add(Dense(20, activation = 'relu')) #hidden Dense \n",
    "rnn_model.add(Dense(1, activation = 'sigmoid')) #outplut layer -- binary classification\n",
    "\n",
    "              \n",
    "\n"
   ]
  },
  {
   "cell_type": "code",
   "execution_count": 28,
   "metadata": {},
   "outputs": [],
   "source": [
    "#compilation\n",
    "\n",
    "#bce = binary cross entropy = classification problem\n",
    "rnn_model.compile(loss = 'bce', metrics = ['acc'])"
   ]
  },
  {
   "cell_type": "code",
   "execution_count": 31,
   "metadata": {},
   "outputs": [
    {
     "name": "stdout",
     "output_type": "stream",
     "text": [
      "Epoch 1/30\n",
      "8/8 [==============================] - 2s 62ms/step - loss: 0.7072 - acc: 0.4915 - val_loss: 0.7013 - val_acc: 0.5096\n",
      "Epoch 2/30\n",
      "8/8 [==============================] - 0s 16ms/step - loss: 0.7008 - acc: 0.5032 - val_loss: 0.7001 - val_acc: 0.5096\n",
      "Epoch 3/30\n",
      "8/8 [==============================] - 0s 17ms/step - loss: 0.6979 - acc: 0.5181 - val_loss: 0.6996 - val_acc: 0.5096\n",
      "Epoch 4/30\n",
      "8/8 [==============================] - 0s 15ms/step - loss: 0.6957 - acc: 0.5223 - val_loss: 0.6995 - val_acc: 0.5032\n",
      "Epoch 5/30\n",
      "8/8 [==============================] - 0s 14ms/step - loss: 0.6941 - acc: 0.5191 - val_loss: 0.6996 - val_acc: 0.5064\n",
      "Epoch 6/30\n",
      "8/8 [==============================] - 0s 15ms/step - loss: 0.6928 - acc: 0.5255 - val_loss: 0.6997 - val_acc: 0.5000\n",
      "Epoch 7/30\n",
      "8/8 [==============================] - 0s 15ms/step - loss: 0.6916 - acc: 0.5181 - val_loss: 0.7000 - val_acc: 0.5000\n",
      "Epoch 8/30\n",
      "8/8 [==============================] - 0s 15ms/step - loss: 0.6907 - acc: 0.5277 - val_loss: 0.7003 - val_acc: 0.5064\n",
      "Epoch 9/30\n",
      "8/8 [==============================] - 0s 16ms/step - loss: 0.6899 - acc: 0.5319 - val_loss: 0.7009 - val_acc: 0.5256\n",
      "Epoch 10/30\n",
      "8/8 [==============================] - 0s 23ms/step - loss: 0.6890 - acc: 0.5351 - val_loss: 0.7015 - val_acc: 0.5192\n",
      "Epoch 11/30\n",
      "8/8 [==============================] - 0s 14ms/step - loss: 0.6882 - acc: 0.5351 - val_loss: 0.7021 - val_acc: 0.5128\n",
      "Epoch 12/30\n",
      "8/8 [==============================] - 0s 17ms/step - loss: 0.6876 - acc: 0.5372 - val_loss: 0.7026 - val_acc: 0.5160\n",
      "Epoch 13/30\n",
      "8/8 [==============================] - 0s 15ms/step - loss: 0.6872 - acc: 0.5457 - val_loss: 0.7033 - val_acc: 0.5128\n",
      "Epoch 14/30\n",
      "8/8 [==============================] - 0s 18ms/step - loss: 0.6866 - acc: 0.5489 - val_loss: 0.7041 - val_acc: 0.5096\n",
      "Epoch 15/30\n",
      "8/8 [==============================] - 0s 15ms/step - loss: 0.6862 - acc: 0.5447 - val_loss: 0.7046 - val_acc: 0.5128\n",
      "Epoch 16/30\n",
      "8/8 [==============================] - 0s 16ms/step - loss: 0.6859 - acc: 0.5468 - val_loss: 0.7051 - val_acc: 0.5032\n",
      "Epoch 17/30\n",
      "8/8 [==============================] - 0s 15ms/step - loss: 0.6854 - acc: 0.5362 - val_loss: 0.7058 - val_acc: 0.5064\n",
      "Epoch 18/30\n",
      "8/8 [==============================] - 0s 23ms/step - loss: 0.6852 - acc: 0.5447 - val_loss: 0.7063 - val_acc: 0.4968\n",
      "Epoch 19/30\n",
      "8/8 [==============================] - 0s 20ms/step - loss: 0.6848 - acc: 0.5426 - val_loss: 0.7069 - val_acc: 0.5000\n",
      "Epoch 20/30\n",
      "8/8 [==============================] - 0s 17ms/step - loss: 0.6845 - acc: 0.5457 - val_loss: 0.7073 - val_acc: 0.4936\n",
      "Epoch 21/30\n",
      "8/8 [==============================] - 0s 20ms/step - loss: 0.6842 - acc: 0.5511 - val_loss: 0.7076 - val_acc: 0.4968\n",
      "Epoch 22/30\n",
      "8/8 [==============================] - 0s 16ms/step - loss: 0.6838 - acc: 0.5596 - val_loss: 0.7080 - val_acc: 0.5000\n",
      "Epoch 23/30\n",
      "8/8 [==============================] - 0s 15ms/step - loss: 0.6834 - acc: 0.5553 - val_loss: 0.7082 - val_acc: 0.5000\n",
      "Epoch 24/30\n",
      "8/8 [==============================] - 0s 16ms/step - loss: 0.6830 - acc: 0.5553 - val_loss: 0.7087 - val_acc: 0.4936\n",
      "Epoch 25/30\n",
      "8/8 [==============================] - 0s 18ms/step - loss: 0.6827 - acc: 0.5638 - val_loss: 0.7089 - val_acc: 0.5000\n",
      "Epoch 26/30\n",
      "8/8 [==============================] - 0s 16ms/step - loss: 0.6825 - acc: 0.5649 - val_loss: 0.7093 - val_acc: 0.5032\n",
      "Epoch 27/30\n",
      "8/8 [==============================] - 0s 15ms/step - loss: 0.6821 - acc: 0.5617 - val_loss: 0.7097 - val_acc: 0.5064\n",
      "Epoch 28/30\n",
      "8/8 [==============================] - 0s 16ms/step - loss: 0.6819 - acc: 0.5670 - val_loss: 0.7099 - val_acc: 0.4936\n",
      "Epoch 29/30\n",
      "8/8 [==============================] - 0s 34ms/step - loss: 0.6815 - acc: 0.5628 - val_loss: 0.7101 - val_acc: 0.5000\n",
      "Epoch 30/30\n",
      "8/8 [==============================] - 0s 23ms/step - loss: 0.6811 - acc: 0.5628 - val_loss: 0.7105 - val_acc: 0.4968\n"
     ]
    }
   ],
   "source": [
    "#fit it - predicting whether will go up or down \n",
    "\n",
    "history = rnn_model.fit(train_sequences, validation_data = test_sequences,\n",
    "                       epochs= 30)"
   ]
  },
  {
   "cell_type": "code",
   "execution_count": null,
   "metadata": {},
   "outputs": [],
   "source": [
    "#loss?\n"
   ]
  },
  {
   "cell_type": "code",
   "execution_count": null,
   "metadata": {},
   "outputs": [],
   "source": []
  },
  {
   "cell_type": "markdown",
   "metadata": {
    "tags": []
   },
   "source": [
    "### The `LSTM` and `GRU` layers"
   ]
  },
  {
   "cell_type": "code",
   "execution_count": null,
   "metadata": {},
   "outputs": [],
   "source": [
    "#which performs better on data set - variations on a theme"
   ]
  },
  {
   "cell_type": "code",
   "execution_count": null,
   "metadata": {},
   "outputs": [],
   "source": [
    "#network with LSTM\n",
    "model2 = Sequential()\n",
    "model2.add(LSTM(16)) #deals with vanishing gradient problem \n",
    "model2.add(Dense(50, activation = 'relu'))\n",
    "model2.add(Dense(1, activation = 'sigmoid'))"
   ]
  },
  {
   "cell_type": "code",
   "execution_count": null,
   "metadata": {},
   "outputs": [],
   "source": [
    "#compile\n",
    "model2.compile(loss = 'bce', metrics = ['accuracy'])"
   ]
  },
  {
   "cell_type": "code",
   "execution_count": null,
   "metadata": {},
   "outputs": [],
   "source": [
    "#fit\n"
   ]
  },
  {
   "cell_type": "code",
   "execution_count": null,
   "metadata": {},
   "outputs": [],
   "source": [
    "#examine the loss\n",
    "plt.plot(history.history['loss'], label = 'Train')\n",
    "plt.plot(history.history['val_loss'], label = 'Val')\n",
    "plt.legend();"
   ]
  },
  {
   "cell_type": "code",
   "execution_count": null,
   "metadata": {},
   "outputs": [],
   "source": [
    "plt.plot(history.history['accuracy'], label = 'Train')\n",
    "plt.plot(history.history['val_accuracy'], label = 'Val')\n",
    "plt.legend();"
   ]
  },
  {
   "cell_type": "code",
   "execution_count": null,
   "metadata": {},
   "outputs": [],
   "source": [
    "#GRU layer\n",
    "model3 = Sequential()\n",
    "model3.add(GRU(16))\n",
    "model3.add(Dense(50, activation = 'relu'))\n",
    "model3.add(Dense(1, activation = 'sigmoid'))"
   ]
  },
  {
   "cell_type": "code",
   "execution_count": null,
   "metadata": {},
   "outputs": [],
   "source": [
    "#compile\n",
    "model3.compile(loss = 'bce', metrics = ['accuracy'])"
   ]
  },
  {
   "cell_type": "code",
   "execution_count": null,
   "metadata": {},
   "outputs": [],
   "source": [
    "#train_sequences.targets"
   ]
  },
  {
   "cell_type": "code",
   "execution_count": null,
   "metadata": {},
   "outputs": [],
   "source": [
    "#fit\n"
   ]
  },
  {
   "cell_type": "code",
   "execution_count": null,
   "metadata": {},
   "outputs": [],
   "source": [
    "#examine the loss\n"
   ]
  },
  {
   "cell_type": "code",
   "execution_count": null,
   "metadata": {},
   "outputs": [],
   "source": [
    "#stacking layers\n",
    "model4 = Sequential()\n",
    "model4.add(GRU(32, return_sequences = True))\n",
    "# model4.add(GRU(16, return_sequences = True))\n",
    "# model4.add(GRU(16, return_sequences = True))\n",
    "model4.add(GRU(16))\n",
    "model4.add(Dense(100, activation = 'relu'))\n",
    "model4.add(Dense(1, activation = 'sigmoid'))\n",
    "model4.compile(loss = 'bce', metrics = ['accuracy'])\n",
    "history = model4.fit(train_sequences, validation_data = test_sequences, epochs = 10)"
   ]
  },
  {
   "cell_type": "markdown",
   "metadata": {},
   "source": [
    "### Practice\n",
    "\n",
    "Use pandas datareader to access stock data for a ticker of interest.  Build and compare different sequential models using `GRU` layers.   "
   ]
  },
  {
   "cell_type": "code",
   "execution_count": null,
   "metadata": {},
   "outputs": [],
   "source": []
  },
  {
   "cell_type": "code",
   "execution_count": null,
   "metadata": {},
   "outputs": [],
   "source": []
  },
  {
   "cell_type": "code",
   "execution_count": null,
   "metadata": {},
   "outputs": [],
   "source": []
  },
  {
   "cell_type": "code",
   "execution_count": null,
   "metadata": {},
   "outputs": [],
   "source": []
  },
  {
   "cell_type": "code",
   "execution_count": null,
   "metadata": {},
   "outputs": [],
   "source": []
  },
  {
   "cell_type": "markdown",
   "metadata": {},
   "source": [
    "### Sequential Models for Text\n",
    "-------\n",
    "\n",
    "Now, we use the Keras `Tokenizer` to preprocess our spam data and feed it through different architectures of sequential network models."
   ]
  },
  {
   "cell_type": "code",
   "execution_count": null,
   "metadata": {},
   "outputs": [],
   "source": [
    "import pandas as pd\n",
    "import numpy as np"
   ]
  },
  {
   "cell_type": "code",
   "execution_count": null,
   "metadata": {},
   "outputs": [],
   "source": [
    "from keras.preprocessing.text import Tokenizer"
   ]
  },
  {
   "cell_type": "code",
   "execution_count": null,
   "metadata": {},
   "outputs": [],
   "source": [
    "spam = pd.read_csv('data/sms_spam.csv')"
   ]
  },
  {
   "cell_type": "code",
   "execution_count": null,
   "metadata": {},
   "outputs": [],
   "source": [
    "spam.head()"
   ]
  },
  {
   "cell_type": "markdown",
   "metadata": {},
   "source": [
    "### `Tokenizer`\n",
    "------\n",
    "Here, we set the limit to the number of words at 500, then fit the texts, and finally transform our text to sequences of integer values with the `.texts_to_sequences`.  To assure the same length we use the `pad_sequences` function.  "
   ]
  },
  {
   "cell_type": "code",
   "execution_count": null,
   "metadata": {},
   "outputs": [],
   "source": [
    "#create a tokenizer and specify the vocabulary\n",
    "tokenizer = Tokenizer(500)"
   ]
  },
  {
   "cell_type": "code",
   "execution_count": null,
   "metadata": {},
   "outputs": [],
   "source": [
    "#fit it on text\n",
    "tokenizer.fit_on_texts(spam['text'])"
   ]
  },
  {
   "cell_type": "code",
   "execution_count": null,
   "metadata": {},
   "outputs": [],
   "source": [
    "#generate sequences\n",
    "sequences = tokenizer.texts_to_sequences(spam['text'])"
   ]
  },
  {
   "cell_type": "code",
   "execution_count": null,
   "metadata": {},
   "outputs": [],
   "source": [
    "sequences[:3]"
   ]
  },
  {
   "cell_type": "code",
   "execution_count": null,
   "metadata": {},
   "outputs": [],
   "source": [
    "from keras.preprocessing.sequence import pad_sequences"
   ]
  },
  {
   "cell_type": "code",
   "execution_count": null,
   "metadata": {},
   "outputs": [],
   "source": [
    "#pad sequences to 100\n",
    "X = pad_sequences(sequences, maxlen = 100)"
   ]
  },
  {
   "cell_type": "code",
   "execution_count": null,
   "metadata": {},
   "outputs": [],
   "source": [
    "#take a peek\n",
    "X[0]"
   ]
  },
  {
   "cell_type": "code",
   "execution_count": null,
   "metadata": {},
   "outputs": [],
   "source": []
  },
  {
   "cell_type": "markdown",
   "metadata": {},
   "source": [
    "### Model\n",
    "-------"
   ]
  },
  {
   "cell_type": "code",
   "execution_count": null,
   "metadata": {},
   "outputs": [],
   "source": [
    "from keras.layers import Embedding"
   ]
  },
  {
   "cell_type": "code",
   "execution_count": null,
   "metadata": {},
   "outputs": [],
   "source": [
    "#sequential model\n",
    "text_model1 = Sequential()\n",
    "#embedding layer\n",
    "text_model1.add(Embedding(input_dim = tokenizer.num_words, output_dim = 64))\n",
    "#simple RNN\n",
    "text_model1.add(SimpleRNN(16))\n",
    "#dense layer\n",
    "text_model1.add(Dense(20, activation = 'relu'))\n",
    "#output\n",
    "text_model1.add(Dense(1, activation = 'sigmoid'))\n",
    "#compilation\n",
    "text_model1.compile(loss = 'bce', metrics = ['accuracy'])"
   ]
  },
  {
   "cell_type": "code",
   "execution_count": null,
   "metadata": {},
   "outputs": [],
   "source": [
    "#make y binary\n",
    "y = np.where(spam['type'] == 'ham', 0, 1)"
   ]
  },
  {
   "cell_type": "code",
   "execution_count": null,
   "metadata": {},
   "outputs": [],
   "source": [
    "#baseline?\n"
   ]
  },
  {
   "cell_type": "code",
   "execution_count": null,
   "metadata": {},
   "outputs": [],
   "source": [
    "#fit it\n"
   ]
  },
  {
   "cell_type": "code",
   "execution_count": null,
   "metadata": {},
   "outputs": [],
   "source": []
  },
  {
   "cell_type": "markdown",
   "metadata": {},
   "source": [
    "### Improving the Model\n",
    "-----\n",
    "\n",
    "- `LSTM` layers\n",
    "- `GRU` layers\n",
    "- `recurrent_dropout`\n",
    "- `dropout`\n",
    "- `Bidirectional` layers"
   ]
  },
  {
   "cell_type": "code",
   "execution_count": null,
   "metadata": {},
   "outputs": [],
   "source": [
    "# model = Sequential()\n",
    "# model.add(Embedding(input_dim = tokenizer.num_words, output_dim = 64))\n",
    "# model.add(GRU(16))\n",
    "# model.add(Dense(20, activation = 'relu'))\n",
    "# model.add(Dense(1, activation = 'sigmoid'))\n",
    "# model.compile(loss = 'bce', optimizer = 'adam', metrics = ['acc'])\n",
    "# model.fit(X, y, epochs = 10)"
   ]
  },
  {
   "cell_type": "code",
   "execution_count": null,
   "metadata": {},
   "outputs": [],
   "source": [
    "# model = Sequential()\n",
    "# model.add(Embedding(input_dim = tokenizer.num_words, output_dim = 64))\n",
    "# model.add(GRU(16, recurrent_dropout = 0.2))\n",
    "# model.add(Dense(20, activation = 'relu'))\n",
    "# model.add(Dense(1, activation = 'sigmoid'))\n",
    "# model.compile(loss = 'bce', optimizer = 'adam', metrics = ['acc'])\n",
    "# model.fit(X, y)"
   ]
  },
  {
   "cell_type": "code",
   "execution_count": null,
   "metadata": {},
   "outputs": [],
   "source": [
    "# model = Sequential()\n",
    "# model.add(Embedding(input_dim = tokenizer.num_words, output_dim = 64))\n",
    "# model.add(GRU(16, dropout = 0.2, recurrent_dropout = 0.2))\n",
    "# model.add(Dense(20, activation = 'relu'))\n",
    "# model.add(Dense(1, activation = 'sigmoid'))\n",
    "# model.compile(loss = 'bce', optimizer = 'adam', metrics = ['acc'])\n",
    "# model.fit(x_seq, y)"
   ]
  },
  {
   "cell_type": "code",
   "execution_count": null,
   "metadata": {},
   "outputs": [],
   "source": [
    "from keras.layers import Bidirectional"
   ]
  },
  {
   "cell_type": "code",
   "execution_count": null,
   "metadata": {},
   "outputs": [],
   "source": [
    "# model = Sequential()\n",
    "# model.add(Embedding(input_dim = tokenizer.num_words, output_dim = 64))\n",
    "# model.add(Bidirectional(GRU(16)))\n",
    "# model.add(Dense(20, activation = 'relu'))\n",
    "# model.add(Dense(1, activation = 'sigmoid'))\n",
    "# model.compile(loss = 'bce', optimizer = 'adam', metrics = ['acc'])\n",
    "# model.fit(x_seq, y)"
   ]
  },
  {
   "cell_type": "markdown",
   "metadata": {},
   "source": [
    "### Convolutional Networks in 1D\n",
    "--------"
   ]
  },
  {
   "cell_type": "code",
   "execution_count": null,
   "metadata": {},
   "outputs": [],
   "source": [
    "from keras.layers import Conv1D, MaxPooling1D"
   ]
  },
  {
   "cell_type": "code",
   "execution_count": null,
   "metadata": {},
   "outputs": [],
   "source": []
  },
  {
   "cell_type": "code",
   "execution_count": null,
   "metadata": {},
   "outputs": [],
   "source": []
  },
  {
   "cell_type": "code",
   "execution_count": null,
   "metadata": {},
   "outputs": [],
   "source": []
  },
  {
   "cell_type": "code",
   "execution_count": null,
   "metadata": {},
   "outputs": [],
   "source": []
  },
  {
   "cell_type": "code",
   "execution_count": null,
   "metadata": {},
   "outputs": [],
   "source": []
  }
 ],
 "metadata": {
  "kernelspec": {
   "display_name": "Python 3 (ipykernel)",
   "language": "python",
   "name": "python3"
  },
  "language_info": {
   "codemirror_mode": {
    "name": "ipython",
    "version": 3
   },
   "file_extension": ".py",
   "mimetype": "text/x-python",
   "name": "python",
   "nbconvert_exporter": "python",
   "pygments_lexer": "ipython3",
   "version": "3.9.7"
  },
  "widgets": {
   "application/vnd.jupyter.widget-state+json": {
    "state": {},
    "version_major": 2,
    "version_minor": 0
   }
  }
 },
 "nbformat": 4,
 "nbformat_minor": 4
}
