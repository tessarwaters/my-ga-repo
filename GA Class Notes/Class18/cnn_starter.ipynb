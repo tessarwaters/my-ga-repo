{
 "cells": [
  {
   "cell_type": "markdown",
   "metadata": {},
   "source": [
    "# Introduction to Computer Vision\n",
    "<center>\n",
    "    <img src = https://upload.wikimedia.org/wikipedia/commons/thumb/6/63/Typical_cnn.png/790px-Typical_cnn.png />\n",
    "</center>\n",
    "\n",
    "\n",
    "**OBJECTIVES**\n",
    "\n",
    "- Build Edge Detector from scratch\n",
    "- Understand and implement Convolutional operations with filter\n",
    "- Understand and implement Max Pooling \n",
    "- Use `keras` to implement a Convolutional Neural Network\n",
    "\n"
   ]
  },
  {
   "cell_type": "code",
   "execution_count": 1,
   "metadata": {},
   "outputs": [],
   "source": [
    "import numpy as np\n",
    "import matplotlib.pyplot as plt\n",
    "import seaborn as sns\n",
    "\n",
    "#import keras\n",
    "from tensorflow.keras.layers import Dense, Flatten\n",
    "from tensorflow.keras.models import Sequential\n",
    "from tensorflow.keras.wrappers.scikit_learn import KerasClassifier\n",
    "from tensorflow.keras.datasets import mnist\n",
    "from tensorflow.keras.utils import to_categorical"
   ]
  },
  {
   "cell_type": "markdown",
   "metadata": {},
   "source": [
    "### Building a Classic Neural Net for Images"
   ]
  },
  {
   "cell_type": "code",
   "execution_count": 2,
   "metadata": {},
   "outputs": [
    {
     "name": "stdout",
     "output_type": "stream",
     "text": [
      "Downloading data from https://storage.googleapis.com/tensorflow/tf-keras-datasets/mnist.npz\n",
      "11493376/11490434 [==============================] - 1s 0us/step\n",
      "11501568/11490434 [==============================] - 1s 0us/step\n"
     ]
    }
   ],
   "source": [
    "(x_train, y_train), (x_test, y_test) = mnist.load_data()"
   ]
  },
  {
   "cell_type": "code",
   "execution_count": 3,
   "metadata": {},
   "outputs": [
    {
     "data": {
      "text/plain": [
       "<matplotlib.image.AxesImage at 0x7f84ced5dc10>"
      ]
     },
     "execution_count": 3,
     "metadata": {},
     "output_type": "execute_result"
    },
    {
     "data": {
      "image/png": "[encoded data removed]",
      "text/plain": [
       "<Figure size 432x288 with 1 Axes>"
      ]
     },
     "metadata": {
      "needs_background": "light"
     },
     "output_type": "display_data"
    }
   ],
   "source": [
    "plt.imshow(x_train[0])"
   ]
  },
  {
   "cell_type": "code",
   "execution_count": 4,
   "metadata": {},
   "outputs": [
    {
     "data": {
      "text/plain": [
       "(28, 28)"
      ]
     },
     "execution_count": 4,
     "metadata": {},
     "output_type": "execute_result"
    }
   ],
   "source": [
    "x_train[0].shape"
   ]
  },
  {
   "cell_type": "code",
   "execution_count": 10,
   "metadata": {},
   "outputs": [],
   "source": [
    "digit_model1 = Sequential() #template for network\n",
    "digit_model1.add(Flatten()) #expects a stack of 3D things - make into 2D stack of things\n",
    "digit_model1.add(Dense(100, activation = 'relu')) #1 hidden layer with 100 nodes \n",
    "digit_model1.add(Dense(10, activation = 'softmax')) #output 10 nodes because we have 10 classes -- 'softmax' (multiclass)\n",
    "\n"
   ]
  },
  {
   "cell_type": "code",
   "execution_count": 11,
   "metadata": {},
   "outputs": [],
   "source": [
    "#compile!\n",
    "\n",
    "digit_model1.compile(loss = 'categorical_crossentropy', metrics = ['accuracy']) #loss for multi-class metric for classification\n"
   ]
  },
  {
   "cell_type": "code",
   "execution_count": 12,
   "metadata": {},
   "outputs": [],
   "source": [
    "###DATA PREP \n",
    "\n",
    "#scale our x \n",
    "x_train = x_train/255 #greyscale is a number between 0-255\n",
    "x_test = x_test/255\n",
    "\n",
    "#one hot encode our y \n",
    "y_train_ohe = to_categorical(y_train)\n",
    "y_test_ohe = to_categorical(y_test) \n"
   ]
  },
  {
   "cell_type": "code",
   "execution_count": 13,
   "metadata": {},
   "outputs": [
    {
     "name": "stdout",
     "output_type": "stream",
     "text": [
      "Epoch 1/20\n",
      "1875/1875 [==============================] - 7s 3ms/step - loss: 1.3290 - accuracy: 0.6852 - val_loss: 0.6730 - val_accuracy: 0.8414\n",
      "Epoch 2/20\n",
      "1875/1875 [==============================] - 6s 3ms/step - loss: 0.5342 - accuracy: 0.8630 - val_loss: 0.4257 - val_accuracy: 0.8869\n",
      "Epoch 3/20\n",
      "1875/1875 [==============================] - 7s 4ms/step - loss: 0.3994 - accuracy: 0.8908 - val_loss: 0.3559 - val_accuracy: 0.9017\n",
      "Epoch 4/20\n",
      "1875/1875 [==============================] - 8s 4ms/step - loss: 0.3505 - accuracy: 0.9010 - val_loss: 0.3238 - val_accuracy: 0.9075\n",
      "Epoch 5/20\n",
      "1875/1875 [==============================] - 7s 4ms/step - loss: 0.3242 - accuracy: 0.9070 - val_loss: 0.3058 - val_accuracy: 0.9123\n",
      "Epoch 6/20\n",
      "1875/1875 [==============================] - 6s 3ms/step - loss: 0.3075 - accuracy: 0.9114 - val_loss: 0.2931 - val_accuracy: 0.9152\n",
      "Epoch 7/20\n",
      "1875/1875 [==============================] - 7s 3ms/step - loss: 0.2947 - accuracy: 0.9151 - val_loss: 0.2813 - val_accuracy: 0.9172\n",
      "Epoch 8/20\n",
      "1875/1875 [==============================] - 8s 4ms/step - loss: 0.2846 - accuracy: 0.9178 - val_loss: 0.2724 - val_accuracy: 0.9227\n",
      "Epoch 9/20\n",
      "1875/1875 [==============================] - 7s 4ms/step - loss: 0.2757 - accuracy: 0.9204 - val_loss: 0.2668 - val_accuracy: 0.9240\n",
      "Epoch 10/20\n",
      "1875/1875 [==============================] - 7s 4ms/step - loss: 0.2681 - accuracy: 0.9223 - val_loss: 0.2589 - val_accuracy: 0.9258\n",
      "Epoch 11/20\n",
      "1875/1875 [==============================] - 7s 4ms/step - loss: 0.2611 - accuracy: 0.9247 - val_loss: 0.2547 - val_accuracy: 0.9272\n",
      "Epoch 12/20\n",
      "1875/1875 [==============================] - 7s 4ms/step - loss: 0.2543 - accuracy: 0.9273 - val_loss: 0.2478 - val_accuracy: 0.9282\n",
      "Epoch 13/20\n",
      "1875/1875 [==============================] - 7s 4ms/step - loss: 0.2482 - accuracy: 0.9288 - val_loss: 0.2412 - val_accuracy: 0.9302\n",
      "Epoch 14/20\n",
      "1875/1875 [==============================] - 7s 4ms/step - loss: 0.2415 - accuracy: 0.9310 - val_loss: 0.2369 - val_accuracy: 0.9320\n",
      "Epoch 15/20\n",
      "1875/1875 [==============================] - 7s 4ms/step - loss: 0.2357 - accuracy: 0.9326 - val_loss: 0.2304 - val_accuracy: 0.9340\n",
      "Epoch 16/20\n",
      "1875/1875 [==============================] - 7s 4ms/step - loss: 0.2296 - accuracy: 0.9338 - val_loss: 0.2263 - val_accuracy: 0.9350\n",
      "Epoch 17/20\n",
      "1875/1875 [==============================] - 7s 4ms/step - loss: 0.2235 - accuracy: 0.9365 - val_loss: 0.2228 - val_accuracy: 0.9361\n",
      "Epoch 18/20\n",
      "1875/1875 [==============================] - 7s 4ms/step - loss: 0.2182 - accuracy: 0.9377 - val_loss: 0.2173 - val_accuracy: 0.9370\n",
      "Epoch 19/20\n",
      "1875/1875 [==============================] - 7s 4ms/step - loss: 0.2129 - accuracy: 0.9396 - val_loss: 0.2091 - val_accuracy: 0.9400\n",
      "Epoch 20/20\n",
      "1875/1875 [==============================] - 8s 4ms/step - loss: 0.2074 - accuracy: 0.9414 - val_loss: 0.2057 - val_accuracy: 0.9393\n"
     ]
    }
   ],
   "source": [
    "history = digit_model1.fit(x_train, y_train_ohe, validation_data = (x_test, y_test_ohe),\n",
    "                 epochs = 20,\n",
    "                          ) "
   ]
  },
  {
   "cell_type": "code",
   "execution_count": null,
   "metadata": {},
   "outputs": [],
   "source": [
    "#higher than the 10% baseline - "
   ]
  },
  {
   "cell_type": "code",
   "execution_count": null,
   "metadata": {},
   "outputs": [],
   "source": [
    "# #use with scikitlearn\n",
    "### THIS IS A FUNCTION THAT BUILDS A NEWTWORK\n",
    "# def networker(layer_1_units = 22, layer_1_activation = 'relu'):\n",
    "#     model = Sequential()\n",
    "#     model.add(Flatten())\n",
    "#     model.add(Dense(layer_1_units, activation = layer_1_activation))\n",
    "#     model.add(Dense(10, activation = 'softmax'))\n",
    "\n",
    "#     model.compile(optimizer = 'adam', loss = 'categorical_crossentropy', metrics = ['acc'])\n",
    "#     return model\n",
    "\n",
    "# #Make the Classifier\n",
    "# kclass = KerasClassifier(build_fn=networker)\n",
    "\n",
    "# kclass.fit(train_images, train_labels)\n",
    "\n",
    "# from sklearn.pipeline import make_pipeline\n",
    "\n",
    "# from sklearn.model_selection import GridSearchCV\n",
    "\n",
    "# params = {'layer_1_units': [10, 20, 100],\n",
    "#          'layer_1_activation': ['relu', 'tanh']}\n",
    "\n",
    "# grid = GridSearchCV(kclass, param_grid=params)\n",
    "\n",
    "# grid.fit(train_images, train_labels)\n",
    "\n",
    "# grid.best_params_\n",
    "\n",
    "# grid.best_score_"
   ]
  },
  {
   "cell_type": "markdown",
   "metadata": {},
   "source": [
    "### Some Basic Image Work"
   ]
  },
  {
   "cell_type": "code",
   "execution_count": 14,
   "metadata": {},
   "outputs": [],
   "source": [
    "#create 5 by 5 image\n",
    "np.random.seed(22)\n",
    "im = np.random.randint(low = 1, high = 10, size = 25).reshape(5, 5)"
   ]
  },
  {
   "cell_type": "code",
   "execution_count": 15,
   "metadata": {},
   "outputs": [
    {
     "data": {
      "image/png": "[encoded data removed]",
      "text/plain": [
       "<Figure size 432x288 with 1 Axes>"
      ]
     },
     "metadata": {},
     "output_type": "display_data"
    }
   ],
   "source": [
    "#visualize\n",
    "sns.heatmap(im, annot = True, cmap = 'gray', cbar = False, square = True,\n",
    "           linewidth = 4, linecolor = 'black')\n",
    "plt.xticks([])\n",
    "plt.yticks([]);"
   ]
  },
  {
   "cell_type": "code",
   "execution_count": 16,
   "metadata": {},
   "outputs": [
    {
     "data": {
      "text/plain": [
       "array([[0., 0., 0.],\n",
       "       [0., 0., 0.],\n",
       "       [0., 0., 0.]])"
      ]
     },
     "execution_count": 16,
     "metadata": {},
     "output_type": "execute_result"
    }
   ],
   "source": [
    "#three by three filter - smaller grid\n",
    "f = np.zeros((3, 3))\n",
    "f"
   ]
  },
  {
   "cell_type": "code",
   "execution_count": 17,
   "metadata": {},
   "outputs": [
    {
     "data": {
      "text/plain": [
       "array([[ 1.,  0., -1.],\n",
       "       [ 1.,  0., -1.],\n",
       "       [ 1.,  0., -1.]])"
      ]
     },
     "execution_count": 17,
     "metadata": {},
     "output_type": "execute_result"
    }
   ],
   "source": [
    "f[:, 0] = 1\n",
    "f[:, -1] = -1\n",
    "f"
   ]
  },
  {
   "cell_type": "code",
   "execution_count": 18,
   "metadata": {},
   "outputs": [
    {
     "data": {
      "text/plain": [
       "<AxesSubplot:>"
      ]
     },
     "execution_count": 18,
     "metadata": {},
     "output_type": "execute_result"
    },
    {
     "data": {
      "image/png": "[encoded data removed]",
      "text/plain": [
       "<Figure size 432x288 with 2 Axes>"
      ]
     },
     "metadata": {
      "needs_background": "light"
     },
     "output_type": "display_data"
    }
   ],
   "source": [
    "#side by side images\n",
    "fig, ax = plt.subplots(1, 2)\n",
    "\n",
    "sns.heatmap(im, annot = True, cmap = 'gray', cbar = False, square = True,\n",
    "           linewidth = 4, linecolor = 'black', ax = ax[0])\n",
    "\n",
    "\n",
    "sns.heatmap(f, annot = True, cmap = 'gray', cbar = False, square = True,\n",
    "           linewidth = 4, linecolor = 'black', ax = ax[1])\n"
   ]
  },
  {
   "cell_type": "code",
   "execution_count": 19,
   "metadata": {},
   "outputs": [
    {
     "data": {
      "text/plain": [
       "array([[6, 5, 1],\n",
       "       [7, 5, 9],\n",
       "       [9, 8, 3]])"
      ]
     },
     "execution_count": 19,
     "metadata": {},
     "output_type": "execute_result"
    }
   ],
   "source": [
    "#select upper left corner of image\n",
    "im[:3, :3]"
   ]
  },
  {
   "cell_type": "code",
   "execution_count": 20,
   "metadata": {},
   "outputs": [
    {
     "data": {
      "text/plain": [
       "9.0"
      ]
     },
     "execution_count": 20,
     "metadata": {},
     "output_type": "execute_result"
    }
   ],
   "source": [
    "#convolve\n",
    "np.sum(im[:3, :3]*f)"
   ]
  },
  {
   "cell_type": "code",
   "execution_count": 21,
   "metadata": {},
   "outputs": [],
   "source": [
    "#What is this doing?\n",
    "output = np.zeros((3, 3))\n",
    "for row in range(3):\n",
    "    for col in range(3):\n",
    "        output[row, col] = np.sum(f*im[row: row + 3, col: col + 3])"
   ]
  },
  {
   "cell_type": "code",
   "execution_count": 22,
   "metadata": {},
   "outputs": [
    {
     "data": {
      "text/plain": [
       "array([[ 9., -1., -6.],\n",
       "       [ 7.,  1.,  1.],\n",
       "       [12.,  2., -9.]])"
      ]
     },
     "execution_count": 22,
     "metadata": {},
     "output_type": "execute_result"
    }
   ],
   "source": [
    "#examine output\n",
    "output"
   ]
  },
  {
   "cell_type": "markdown",
   "metadata": {},
   "source": [
    "### Detecting Edges"
   ]
  },
  {
   "cell_type": "code",
   "execution_count": 23,
   "metadata": {},
   "outputs": [
    {
     "data": {
      "text/plain": [
       "array([[0., 0., 0., 0., 0., 0., 0., 0., 0., 0.],\n",
       "       [0., 0., 0., 0., 0., 0., 0., 0., 0., 0.],\n",
       "       [0., 0., 0., 0., 0., 0., 0., 0., 0., 0.],\n",
       "       [0., 0., 0., 0., 0., 0., 0., 0., 0., 0.],\n",
       "       [0., 0., 0., 0., 0., 0., 0., 0., 0., 0.],\n",
       "       [0., 0., 0., 0., 0., 0., 0., 0., 0., 0.],\n",
       "       [0., 0., 0., 0., 0., 0., 0., 0., 0., 0.],\n",
       "       [0., 0., 0., 0., 0., 0., 0., 0., 0., 0.],\n",
       "       [0., 0., 0., 0., 0., 0., 0., 0., 0., 0.],\n",
       "       [0., 0., 0., 0., 0., 0., 0., 0., 0., 0.]])"
      ]
     },
     "execution_count": 23,
     "metadata": {},
     "output_type": "execute_result"
    }
   ],
   "source": [
    "#10 by 10 grid\n",
    "im2 = np.zeros((10, 10))\n",
    "im2"
   ]
  },
  {
   "cell_type": "code",
   "execution_count": 24,
   "metadata": {},
   "outputs": [],
   "source": [
    "#make first half 10\n",
    "im2[:, :5] = 10"
   ]
  },
  {
   "cell_type": "code",
   "execution_count": 25,
   "metadata": {},
   "outputs": [
    {
     "data": {
      "text/plain": [
       "<matplotlib.image.AxesImage at 0x7f84e8349160>"
      ]
     },
     "execution_count": 25,
     "metadata": {},
     "output_type": "execute_result"
    },
    {
     "data": {
      "image/png": "[encoded data removed]",
      "text/plain": [
       "<Figure size 432x288 with 1 Axes>"
      ]
     },
     "metadata": {
      "needs_background": "light"
     },
     "output_type": "display_data"
    }
   ],
   "source": [
    "#take a look\n",
    "plt.imshow(im2, cmap = 'gray')"
   ]
  },
  {
   "cell_type": "code",
   "execution_count": 26,
   "metadata": {},
   "outputs": [],
   "source": [
    "#convolutions\n",
    "output = np.zeros((8, 8))\n",
    "for row in range(8):\n",
    "    for col in range(8):\n",
    "        output[row, col] = np.sum(f * im2[row: row + 3, col: col + 3])"
   ]
  },
  {
   "cell_type": "code",
   "execution_count": 27,
   "metadata": {},
   "outputs": [
    {
     "data": {
      "text/plain": [
       "<matplotlib.image.AxesImage at 0x7f84c5e6d250>"
      ]
     },
     "execution_count": 27,
     "metadata": {},
     "output_type": "execute_result"
    },
    {
     "data": {
      "image/png": "[encoded data removed]",
      "text/plain": [
       "<Figure size 432x288 with 1 Axes>"
      ]
     },
     "metadata": {
      "needs_background": "light"
     },
     "output_type": "display_data"
    }
   ],
   "source": [
    "#take a look at result\n",
    "plt.imshow(output, cmap = 'gray')"
   ]
  },
  {
   "cell_type": "code",
   "execution_count": 28,
   "metadata": {},
   "outputs": [
    {
     "data": {
      "text/plain": [
       "array([[ 1.,  0., -1.],\n",
       "       [ 1.,  0., -1.],\n",
       "       [ 1.,  0., -1.]])"
      ]
     },
     "execution_count": 28,
     "metadata": {},
     "output_type": "execute_result"
    }
   ],
   "source": [
    "f"
   ]
  },
  {
   "cell_type": "markdown",
   "metadata": {},
   "source": [
    "### Edges in X-Rays\n",
    "\n",
    "**GOAL**: Formalize work from above in a class with a vertical and horizontal edge detector.  Your class should have a `.fit()` method that takes in an image and passes the edge detectors over it once, and a `.show` image that plots the image, vertical edges, and horizontal edges in a 1 x 3 grid."
   ]
  },
  {
   "cell_type": "code",
   "execution_count": null,
   "metadata": {},
   "outputs": [],
   "source": [
    "chest = plt.imread('images/person10_bacteria_43.jpeg')"
   ]
  },
  {
   "cell_type": "code",
   "execution_count": null,
   "metadata": {},
   "outputs": [],
   "source": [
    "plt.imshow(chest, cmap = 'gray')"
   ]
  },
  {
   "cell_type": "code",
   "execution_count": null,
   "metadata": {},
   "outputs": [],
   "source": [
    "rows = chest.shape[0] - 2\n",
    "cols = chest.shape[1] - 2\n",
    "\n",
    "output = np.zeros((rows, cols))\n",
    "for row in range(rows):\n",
    "    for col in range(cols):\n",
    "        output[row, col] = np.sum(f * chest[row: row + 3, col: col + 3])"
   ]
  },
  {
   "cell_type": "code",
   "execution_count": null,
   "metadata": {},
   "outputs": [],
   "source": [
    "plt.imshow(output, cmap = 'gray')"
   ]
  },
  {
   "cell_type": "markdown",
   "metadata": {},
   "source": [
    "### Max Pooling\n",
    "\n",
    "<center>\n",
    "<img src = https://computersciencewiki.org/images/8/8a/MaxpoolSample2.png />\n",
    "</center>"
   ]
  },
  {
   "cell_type": "markdown",
   "metadata": {},
   "source": [
    "- Selects maximum value from 2 x 2 square.  In the image above, we have a *stride* of 2.\n",
    "\n",
    "- Operation will follow convolution"
   ]
  },
  {
   "cell_type": "markdown",
   "metadata": {},
   "source": [
    "### Using keras"
   ]
  },
  {
   "cell_type": "code",
   "execution_count": 57,
   "metadata": {},
   "outputs": [],
   "source": [
    "from tensorflow.keras.layers import Flatten, Dense, Conv2D, MaxPool2D"
   ]
  },
  {
   "cell_type": "code",
   "execution_count": 58,
   "metadata": {},
   "outputs": [],
   "source": [
    "cnn_model = Sequential()\n",
    "#convolve and pool - extracting features \n",
    "cnn_model.add(Conv2D(16, (3,3), activation = 'relu'))\n",
    "cnn_model.add(MaxPool2D((2,2)))\n",
    "#flatten \n",
    "cnn_model.add(Flatten())\n",
    "#feed into regular network \n",
    "cnn_model.add(Dense(100, activation = 'relu')) \n",
    "cnn_model.add(Dense(10, activation = 'softmax')) #softmax is like the sigmoid function but for a higher degree - spits out probabilities\n"
   ]
  },
  {
   "cell_type": "code",
   "execution_count": 59,
   "metadata": {},
   "outputs": [],
   "source": [
    "#compile \n",
    "cnn_model.compile(loss = 'categorical_crossentropy', metrics = ['accuracy'])"
   ]
  },
  {
   "cell_type": "code",
   "execution_count": 69,
   "metadata": {},
   "outputs": [
    {
     "data": {
      "text/plain": [
       "(60000, 28, 28, 1)"
      ]
     },
     "execution_count": 69,
     "metadata": {},
     "output_type": "execute_result"
    }
   ],
   "source": [
    "x_train.shape"
   ]
  },
  {
   "cell_type": "code",
   "execution_count": 70,
   "metadata": {},
   "outputs": [
    {
     "data": {
      "text/plain": [
       "(10000, 28, 28, 1)"
      ]
     },
     "execution_count": 70,
     "metadata": {},
     "output_type": "execute_result"
    }
   ],
   "source": [
    "x_test.shape"
   ]
  },
  {
   "cell_type": "code",
   "execution_count": 33,
   "metadata": {},
   "outputs": [],
   "source": [
    "x_train = x_train.reshape(60_000, 28, 28, 1) #60,000 images, 28x28 dimensions\n",
    "x_test = x_test.reshape(10_000, 28, 28, 1)"
   ]
  },
  {
   "cell_type": "code",
   "execution_count": 34,
   "metadata": {},
   "outputs": [
    {
     "name": "stdout",
     "output_type": "stream",
     "text": [
      "Epoch 1/20\n",
      "1875/1875 [==============================] - 26s 14ms/step - loss: 1.0581 - accuracy: 0.7109 - val_loss: 0.4225 - val_accuracy: 0.8795\n",
      "Epoch 2/20\n",
      "1875/1875 [==============================] - 26s 14ms/step - loss: 0.3624 - accuracy: 0.8928 - val_loss: 0.3082 - val_accuracy: 0.9116\n",
      "Epoch 3/20\n",
      "1875/1875 [==============================] - 27s 14ms/step - loss: 0.2944 - accuracy: 0.9127 - val_loss: 0.2569 - val_accuracy: 0.9236\n",
      "Epoch 4/20\n",
      "1875/1875 [==============================] - 25s 13ms/step - loss: 0.2482 - accuracy: 0.9272 - val_loss: 0.2199 - val_accuracy: 0.9344\n",
      "Epoch 5/20\n",
      "1875/1875 [==============================] - 29s 15ms/step - loss: 0.2114 - accuracy: 0.9366 - val_loss: 0.1943 - val_accuracy: 0.9399\n",
      "Epoch 6/20\n",
      "1875/1875 [==============================] - 24s 13ms/step - loss: 0.1849 - accuracy: 0.9442 - val_loss: 0.1676 - val_accuracy: 0.9497\n",
      "Epoch 7/20\n",
      "1875/1875 [==============================] - 24s 13ms/step - loss: 0.1656 - accuracy: 0.9503 - val_loss: 0.1543 - val_accuracy: 0.9532\n",
      "Epoch 8/20\n",
      "1875/1875 [==============================] - 25s 13ms/step - loss: 0.1504 - accuracy: 0.9554 - val_loss: 0.1465 - val_accuracy: 0.9562\n",
      "Epoch 9/20\n",
      "1875/1875 [==============================] - 27s 14ms/step - loss: 0.1385 - accuracy: 0.9587 - val_loss: 0.1394 - val_accuracy: 0.9583\n",
      "Epoch 10/20\n",
      "1875/1875 [==============================] - 25s 13ms/step - loss: 0.1285 - accuracy: 0.9614 - val_loss: 0.1301 - val_accuracy: 0.9617\n",
      "Epoch 11/20\n",
      "1875/1875 [==============================] - 24s 13ms/step - loss: 0.1203 - accuracy: 0.9642 - val_loss: 0.1206 - val_accuracy: 0.9634\n",
      "Epoch 12/20\n",
      "1875/1875 [==============================] - 25s 13ms/step - loss: 0.1128 - accuracy: 0.9662 - val_loss: 0.1149 - val_accuracy: 0.9665\n",
      "Epoch 13/20\n",
      "1875/1875 [==============================] - 25s 13ms/step - loss: 0.1065 - accuracy: 0.9682 - val_loss: 0.1131 - val_accuracy: 0.9667\n",
      "Epoch 14/20\n",
      "1875/1875 [==============================] - 25s 13ms/step - loss: 0.1020 - accuracy: 0.9700 - val_loss: 0.1091 - val_accuracy: 0.9684\n",
      "Epoch 15/20\n",
      "1875/1875 [==============================] - 25s 13ms/step - loss: 0.0980 - accuracy: 0.9714 - val_loss: 0.1049 - val_accuracy: 0.9689\n",
      "Epoch 16/20\n",
      "1875/1875 [==============================] - 24s 13ms/step - loss: 0.0936 - accuracy: 0.9724 - val_loss: 0.1052 - val_accuracy: 0.9694\n",
      "Epoch 17/20\n",
      "1875/1875 [==============================] - 27s 14ms/step - loss: 0.0900 - accuracy: 0.9737 - val_loss: 0.0989 - val_accuracy: 0.9714\n",
      "Epoch 18/20\n",
      "1875/1875 [==============================] - 26s 14ms/step - loss: 0.0864 - accuracy: 0.9748 - val_loss: 0.0962 - val_accuracy: 0.9717\n",
      "Epoch 19/20\n",
      "1875/1875 [==============================] - 27s 14ms/step - loss: 0.0838 - accuracy: 0.9758 - val_loss: 0.0968 - val_accuracy: 0.9719\n",
      "Epoch 20/20\n",
      "1875/1875 [==============================] - 25s 13ms/step - loss: 0.0808 - accuracy: 0.9760 - val_loss: 0.0957 - val_accuracy: 0.9715\n"
     ]
    }
   ],
   "source": [
    "history = cnn_model.fit(x_train, y_train_ohe, validation_data = (x_test, y_test_ohe),\n",
    "                        epochs = 20)"
   ]
  },
  {
   "cell_type": "code",
   "execution_count": null,
   "metadata": {},
   "outputs": [],
   "source": []
  },
  {
   "cell_type": "code",
   "execution_count": null,
   "metadata": {},
   "outputs": [],
   "source": []
  },
  {
   "cell_type": "markdown",
   "metadata": {},
   "source": [
    "### Activity: Practice with `keras`\n",
    "\n",
    "Use the `fashion_mnist` data to construct and compare a standard Artificial Neural Network and one using Convolutions.  "
   ]
  },
  {
   "cell_type": "code",
   "execution_count": 61,
   "metadata": {},
   "outputs": [],
   "source": [
    "from keras.datasets import fashion_mnist"
   ]
  },
  {
   "cell_type": "code",
   "execution_count": 85,
   "metadata": {},
   "outputs": [],
   "source": [
    "(X_train, y_train), (X_test, y_test) = fashion_mnist.load_data()"
   ]
  },
  {
   "cell_type": "code",
   "execution_count": null,
   "metadata": {},
   "outputs": [],
   "source": [
    "#10 different fashion items - model to predict the item "
   ]
  },
  {
   "cell_type": "code",
   "execution_count": 63,
   "metadata": {},
   "outputs": [
    {
     "data": {
      "text/plain": [
       "<matplotlib.image.AxesImage at 0x7f843897c0a0>"
      ]
     },
     "execution_count": 63,
     "metadata": {},
     "output_type": "execute_result"
    },
    {
     "data": {
      "image/png": "[encoded data removed]",
      "text/plain": [
       "<Figure size 432x288 with 1 Axes>"
      ]
     },
     "metadata": {
      "needs_background": "light"
     },
     "output_type": "display_data"
    }
   ],
   "source": [
    "plt.imshow(X_train[8])"
   ]
  },
  {
   "cell_type": "code",
   "execution_count": 64,
   "metadata": {},
   "outputs": [],
   "source": [
    "X_train = np.divide(X_train, 255)\n",
    "X_test = np.divide(X_test, 255)"
   ]
  },
  {
   "cell_type": "code",
   "execution_count": 84,
   "metadata": {},
   "outputs": [],
   "source": [
    "y_train = to_categorical(y_train)\n",
    "y_test = to_categorical(y_test)"
   ]
  },
  {
   "cell_type": "code",
   "execution_count": 71,
   "metadata": {},
   "outputs": [
    {
     "data": {
      "text/plain": [
       "(60000, 28, 28)"
      ]
     },
     "execution_count": 71,
     "metadata": {},
     "output_type": "execute_result"
    }
   ],
   "source": [
    "X_train.shape"
   ]
  },
  {
   "cell_type": "code",
   "execution_count": 72,
   "metadata": {},
   "outputs": [
    {
     "data": {
      "text/plain": [
       "(10000, 28, 28)"
      ]
     },
     "execution_count": 72,
     "metadata": {},
     "output_type": "execute_result"
    }
   ],
   "source": [
    "X_test.shape"
   ]
  },
  {
   "cell_type": "code",
   "execution_count": 73,
   "metadata": {},
   "outputs": [],
   "source": [
    "#reshape \n",
    "\n",
    "X_train = x_train.reshape(60_000, 28, 28, 1) #60,000 images, 28x28 dimensions\n",
    "X_test = x_test.reshape(10_000, 28, 28, 1)\n"
   ]
  },
  {
   "cell_type": "code",
   "execution_count": 74,
   "metadata": {},
   "outputs": [],
   "source": [
    "cnn_model = Sequential()\n",
    "#convolve and pool - extracting features \n",
    "cnn_model.add(Conv2D(16, (3,3), activation = 'relu')) #16 different 3,3 filters \n",
    "cnn_model.add(MaxPool2D((2,2))) #making image less complicated by summarizing groups of pixels\n",
    "#flatten \n",
    "cnn_model.add(Flatten())\n",
    "#feed into regular network \n",
    "cnn_model.add(Dense(100, activation = 'relu')) \n",
    "cnn_model.add(Dense(10, activation = 'softmax')) #softmax is like the sigmoid function but for a higher degree - spits out probabilities"
   ]
  },
  {
   "cell_type": "code",
   "execution_count": 75,
   "metadata": {},
   "outputs": [],
   "source": [
    "#compile \n",
    "cnn_model.compile(loss = 'categorical_crossentropy', metrics = ['accuracy'])"
   ]
  },
  {
   "cell_type": "code",
   "execution_count": 76,
   "metadata": {},
   "outputs": [
    {
     "name": "stdout",
     "output_type": "stream",
     "text": [
      "Epoch 1/10\n",
      "1875/1875 [==============================] - 23s 12ms/step - loss: 0.9629 - accuracy: 0.7191 - val_loss: 0.3818 - val_accuracy: 0.8881\n",
      "Epoch 2/10\n",
      "1875/1875 [==============================] - 22s 12ms/step - loss: 0.3386 - accuracy: 0.8985 - val_loss: 0.2858 - val_accuracy: 0.9151\n",
      "Epoch 3/10\n",
      "1875/1875 [==============================] - 22s 12ms/step - loss: 0.2722 - accuracy: 0.9189 - val_loss: 0.2370 - val_accuracy: 0.9314\n",
      "Epoch 4/10\n",
      "1875/1875 [==============================] - 22s 12ms/step - loss: 0.2266 - accuracy: 0.9325 - val_loss: 0.2012 - val_accuracy: 0.9379\n",
      "Epoch 5/10\n",
      "1875/1875 [==============================] - 22s 12ms/step - loss: 0.1939 - accuracy: 0.9423 - val_loss: 0.1757 - val_accuracy: 0.9489\n",
      "Epoch 6/10\n",
      "1875/1875 [==============================] - 23s 12ms/step - loss: 0.1711 - accuracy: 0.9497 - val_loss: 0.1624 - val_accuracy: 0.9515\n",
      "Epoch 7/10\n",
      "1875/1875 [==============================] - 23s 12ms/step - loss: 0.1543 - accuracy: 0.9541 - val_loss: 0.1496 - val_accuracy: 0.9552\n",
      "Epoch 8/10\n",
      "1875/1875 [==============================] - 23s 12ms/step - loss: 0.1407 - accuracy: 0.9584 - val_loss: 0.1351 - val_accuracy: 0.9594\n",
      "Epoch 9/10\n",
      "1875/1875 [==============================] - 23s 12ms/step - loss: 0.1305 - accuracy: 0.9619 - val_loss: 0.1392 - val_accuracy: 0.9601\n",
      "Epoch 10/10\n",
      "1875/1875 [==============================] - 23s 12ms/step - loss: 0.1212 - accuracy: 0.9642 - val_loss: 0.1272 - val_accuracy: 0.9618\n"
     ]
    }
   ],
   "source": [
    "history = cnn_model.fit(X_train, y_train_ohe, validation_data = (X_test, y_test_ohe),\n",
    "                        epochs = 10)"
   ]
  },
  {
   "cell_type": "code",
   "execution_count": 77,
   "metadata": {},
   "outputs": [
    {
     "data": {
      "text/plain": [
       "array([[1.90302984e-07, 9.45960324e-13, 1.29465900e-06, ...,\n",
       "        9.99913335e-01, 4.54519181e-07, 5.63109154e-07],\n",
       "       [9.32215698e-06, 6.46998024e-06, 9.99949455e-01, ...,\n",
       "        4.79575794e-17, 1.34587538e-06, 2.17051769e-16],\n",
       "       [3.14549098e-08, 9.95813429e-01, 9.58120218e-04, ...,\n",
       "        3.56792909e-04, 1.78762095e-03, 6.50738639e-06],\n",
       "       ...,\n",
       "       [2.97524505e-10, 1.07071079e-11, 3.22168625e-10, ...,\n",
       "        8.26234918e-06, 1.08141794e-04, 2.30753329e-04],\n",
       "       [3.13680082e-09, 1.80480042e-09, 8.64493407e-11, ...,\n",
       "        1.27707992e-11, 2.98945379e-05, 1.21981952e-10],\n",
       "       [5.76766297e-08, 2.50122080e-13, 5.61511726e-09, ...,\n",
       "        1.68075189e-14, 1.26836508e-09, 1.34413817e-11]], dtype=float32)"
      ]
     },
     "execution_count": 77,
     "metadata": {},
     "output_type": "execute_result"
    }
   ],
   "source": [
    "cnn_model.predict(X_test) #gives back probabilities - want the largest "
   ]
  },
  {
   "cell_type": "code",
   "execution_count": 81,
   "metadata": {},
   "outputs": [],
   "source": [
    "y_test_preds = np.argmax(cnn_model.predict(X_test), axis = 1) #have to convert probabilities "
   ]
  },
  {
   "cell_type": "code",
   "execution_count": 88,
   "metadata": {},
   "outputs": [
    {
     "data": {
      "text/plain": [
       "array([0., 0., 1., 0., 0., 0., 0., 0., 0., 0.], dtype=float32)"
      ]
     },
     "execution_count": 88,
     "metadata": {},
     "output_type": "execute_result"
    }
   ],
   "source": [
    "cnn_model.predict(X_test)[0]"
   ]
  },
  {
   "cell_type": "code",
   "execution_count": 86,
   "metadata": {},
   "outputs": [
    {
     "data": {
      "text/plain": [
       "array([9, 2, 1, ..., 8, 1, 5], dtype=uint8)"
      ]
     },
     "execution_count": 86,
     "metadata": {},
     "output_type": "execute_result"
    }
   ],
   "source": [
    "y_test"
   ]
  },
  {
   "cell_type": "code",
   "execution_count": 87,
   "metadata": {},
   "outputs": [
    {
     "data": {
      "text/plain": [
       "array([False,  True,  True, ..., False, False, False])"
      ]
     },
     "execution_count": 87,
     "metadata": {},
     "output_type": "execute_result"
    }
   ],
   "source": [
    "y_test == y_test_preds"
   ]
  },
  {
   "cell_type": "code",
   "execution_count": 89,
   "metadata": {},
   "outputs": [
    {
     "data": {
      "text/plain": [
       "<matplotlib.image.AxesImage at 0x7f8437067700>"
      ]
     },
     "execution_count": 89,
     "metadata": {},
     "output_type": "execute_result"
    },
    {
     "data": {
      "image/png": "[encoded data removed]",
      "text/plain": [
       "<Figure size 432x288 with 1 Axes>"
      ]
     },
     "metadata": {
      "needs_background": "light"
     },
     "output_type": "display_data"
    }
   ],
   "source": [
    "plt.imshow(X_test[-1].reshape(28,28))"
   ]
  },
  {
   "cell_type": "code",
   "execution_count": null,
   "metadata": {},
   "outputs": [],
   "source": []
  }
 ],
 "metadata": {
  "kernelspec": {
   "display_name": "Python 3 (ipykernel)",
   "language": "python",
   "name": "python3"
  },
  "language_info": {
   "codemirror_mode": {
    "name": "ipython",
    "version": 3
   },
   "file_extension": ".py",
   "mimetype": "text/x-python",
   "name": "python",
   "nbconvert_exporter": "python",
   "pygments_lexer": "ipython3",
   "version": "3.9.7"
  },
  "widgets": {
   "application/vnd.jupyter.widget-state+json": {
    "state": {},
    "version_major": 2,
    "version_minor": 0
   }
  }
 },
 "nbformat": 4,
 "nbformat_minor": 4
}
