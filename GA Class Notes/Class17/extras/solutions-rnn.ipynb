{
 "cells": [
  {
   "cell_type": "markdown",
   "metadata": {},
   "source": [
    "<img src=\"http://imgur.com/1ZcRyrc.png\" style=\"float: left; margin: 20px; height: 55px\">\n",
    "\n",
    "# Neural Nets for Sequential Data\n",
    "\n",
    "-----\n",
    "**OBJECTIVES**\n",
    "\n",
    "- Explore Recurrent Architectures for sequential data\n",
    "- Explore Convolutional Architectures for sequential data\n",
    "- Use RNN's to model numeric time series data\n",
    "- Use RNN's and CNN's to model text data\n",
    "------"
   ]
  },
  {
   "cell_type": "markdown",
   "metadata": {},
   "source": [
    "## The Recurrent Node\n",
    "\n",
    "Compared to a convential neuron, our recurrent neuron will take in an output from the layer itself.  \n",
    "\n",
    "<center>\n",
    "   <img src = https://upload.wikimedia.org/wikipedia/commons/thumb/b/b5/Recurrent_neural_network_unfold.svg/440px-Recurrent_neural_network_unfold.svg.png />\n",
    "</center>\n",
    "\n"
   ]
  },
  {
   "cell_type": "markdown",
   "metadata": {},
   "source": [
    "### The Network Architecture\n",
    "\n",
    "```python\n",
    "state_t = 0\n",
    "for input_t in input_sequences:\n",
    "    output_t = tanh(W@input_t + U@state_t + b)\n",
    "    state_t = output_t\n",
    "```\n",
    "\n"
   ]
  },
  {
   "cell_type": "markdown",
   "metadata": {},
   "source": [
    "### A Basic Sequence of Stock Prices\n",
    "\n",
    "To begin, let's bring in stock data from yahoo using the `pandas_datareader`. "
   ]
  },
  {
   "cell_type": "code",
   "execution_count": 1,
   "metadata": {},
   "outputs": [],
   "source": [
    "import pandas_datareader as pdr\n",
    "from sklearn.model_selection import train_test_split"
   ]
  },
  {
   "cell_type": "code",
   "execution_count": 3,
   "metadata": {},
   "outputs": [],
   "source": [
    "#!pip install pandas_datareader"
   ]
  },
  {
   "cell_type": "code",
   "execution_count": 4,
   "metadata": {},
   "outputs": [],
   "source": [
    "#get apple stock\n",
    "aapl = pdr.get_data_yahoo('AAPL')"
   ]
  },
  {
   "cell_type": "code",
   "execution_count": 5,
   "metadata": {},
   "outputs": [
    {
     "data": {
      "text/html": [
       "<div>\n",
       "<style scoped>\n",
       "    .dataframe tbody tr th:only-of-type {\n",
       "        vertical-align: middle;\n",
       "    }\n",
       "\n",
       "    .dataframe tbody tr th {\n",
       "        vertical-align: top;\n",
       "    }\n",
       "\n",
       "    .dataframe thead th {\n",
       "        text-align: right;\n",
       "    }\n",
       "</style>\n",
       "<table border=\"1\" class=\"dataframe\">\n",
       "  <thead>\n",
       "    <tr style=\"text-align: right;\">\n",
       "      <th></th>\n",
       "      <th>High</th>\n",
       "      <th>Low</th>\n",
       "      <th>Open</th>\n",
       "      <th>Close</th>\n",
       "      <th>Volume</th>\n",
       "      <th>Adj Close</th>\n",
       "    </tr>\n",
       "    <tr>\n",
       "      <th>Date</th>\n",
       "      <th></th>\n",
       "      <th></th>\n",
       "      <th></th>\n",
       "      <th></th>\n",
       "      <th></th>\n",
       "      <th></th>\n",
       "    </tr>\n",
       "  </thead>\n",
       "  <tbody>\n",
       "    <tr>\n",
       "      <th>2016-02-08</th>\n",
       "      <td>23.924999</td>\n",
       "      <td>23.260000</td>\n",
       "      <td>23.282499</td>\n",
       "      <td>23.752501</td>\n",
       "      <td>216085600.0</td>\n",
       "      <td>22.125422</td>\n",
       "    </tr>\n",
       "    <tr>\n",
       "      <th>2016-02-09</th>\n",
       "      <td>23.985001</td>\n",
       "      <td>23.482500</td>\n",
       "      <td>23.572500</td>\n",
       "      <td>23.747499</td>\n",
       "      <td>177324800.0</td>\n",
       "      <td>22.120768</td>\n",
       "    </tr>\n",
       "    <tr>\n",
       "      <th>2016-02-10</th>\n",
       "      <td>24.087500</td>\n",
       "      <td>23.525000</td>\n",
       "      <td>23.980000</td>\n",
       "      <td>23.567499</td>\n",
       "      <td>169374400.0</td>\n",
       "      <td>21.953094</td>\n",
       "    </tr>\n",
       "    <tr>\n",
       "      <th>2016-02-11</th>\n",
       "      <td>23.680000</td>\n",
       "      <td>23.147499</td>\n",
       "      <td>23.447500</td>\n",
       "      <td>23.424999</td>\n",
       "      <td>200298800.0</td>\n",
       "      <td>21.820358</td>\n",
       "    </tr>\n",
       "    <tr>\n",
       "      <th>2016-02-12</th>\n",
       "      <td>23.625000</td>\n",
       "      <td>23.252501</td>\n",
       "      <td>23.547501</td>\n",
       "      <td>23.497499</td>\n",
       "      <td>161405600.0</td>\n",
       "      <td>21.887894</td>\n",
       "    </tr>\n",
       "  </tbody>\n",
       "</table>\n",
       "</div>"
      ],
      "text/plain": [
       "                 High        Low       Open      Close       Volume  Adj Close\n",
       "Date                                                                          \n",
       "2016-02-08  23.924999  23.260000  23.282499  23.752501  216085600.0  22.125422\n",
       "2016-02-09  23.985001  23.482500  23.572500  23.747499  177324800.0  22.120768\n",
       "2016-02-10  24.087500  23.525000  23.980000  23.567499  169374400.0  21.953094\n",
       "2016-02-11  23.680000  23.147499  23.447500  23.424999  200298800.0  21.820358\n",
       "2016-02-12  23.625000  23.252501  23.547501  23.497499  161405600.0  21.887894"
      ]
     },
     "execution_count": 5,
     "metadata": {},
     "output_type": "execute_result"
    }
   ],
   "source": [
    "#take a peek\n",
    "aapl.head()"
   ]
  },
  {
   "cell_type": "code",
   "execution_count": 6,
   "metadata": {},
   "outputs": [
    {
     "data": {
      "text/plain": [
       "<AxesSubplot:xlabel='Date'>"
      ]
     },
     "execution_count": 6,
     "metadata": {},
     "output_type": "execute_result"
    },
    {
     "data": {
      "image/png": "[encoded data removed]",
      "text/plain": [
       "<Figure size 432x288 with 1 Axes>"
      ]
     },
     "metadata": {
      "needs_background": "light"
     },
     "output_type": "display_data"
    }
   ],
   "source": [
    "#plot the adjusted close\n",
    "aapl['Adj Close'].plot()"
   ]
  },
  {
   "cell_type": "code",
   "execution_count": 8,
   "metadata": {},
   "outputs": [
    {
     "data": {
      "text/plain": [
       "<AxesSubplot:xlabel='Date'>"
      ]
     },
     "execution_count": 8,
     "metadata": {},
     "output_type": "execute_result"
    },
    {
     "data": {
      "image/png": "[encoded data removed]",
      "text/plain": [
       "<Figure size 432x288 with 1 Axes>"
      ]
     },
     "metadata": {
      "needs_background": "light"
     },
     "output_type": "display_data"
    }
   ],
   "source": [
    "#look at the percent change\n",
    "aapl['Adj Close'].pct_change().plot()"
   ]
  },
  {
   "cell_type": "code",
   "execution_count": 9,
   "metadata": {},
   "outputs": [
    {
     "data": {
      "text/html": [
       "<div>\n",
       "<style scoped>\n",
       "    .dataframe tbody tr th:only-of-type {\n",
       "        vertical-align: middle;\n",
       "    }\n",
       "\n",
       "    .dataframe tbody tr th {\n",
       "        vertical-align: top;\n",
       "    }\n",
       "\n",
       "    .dataframe thead th {\n",
       "        text-align: right;\n",
       "    }\n",
       "</style>\n",
       "<table border=\"1\" class=\"dataframe\">\n",
       "  <thead>\n",
       "    <tr style=\"text-align: right;\">\n",
       "      <th></th>\n",
       "      <th>High</th>\n",
       "      <th>Low</th>\n",
       "      <th>Open</th>\n",
       "      <th>Close</th>\n",
       "      <th>Volume</th>\n",
       "      <th>Adj Close</th>\n",
       "    </tr>\n",
       "    <tr>\n",
       "      <th>Date</th>\n",
       "      <th></th>\n",
       "      <th></th>\n",
       "      <th></th>\n",
       "      <th></th>\n",
       "      <th></th>\n",
       "      <th></th>\n",
       "    </tr>\n",
       "  </thead>\n",
       "  <tbody>\n",
       "    <tr>\n",
       "      <th>2016-02-08</th>\n",
       "      <td>NaN</td>\n",
       "      <td>NaN</td>\n",
       "      <td>NaN</td>\n",
       "      <td>NaN</td>\n",
       "      <td>NaN</td>\n",
       "      <td>NaN</td>\n",
       "    </tr>\n",
       "    <tr>\n",
       "      <th>2016-02-09</th>\n",
       "      <td>0.002508</td>\n",
       "      <td>0.009566</td>\n",
       "      <td>0.012456</td>\n",
       "      <td>-0.000211</td>\n",
       "      <td>-0.179377</td>\n",
       "      <td>-0.000210</td>\n",
       "    </tr>\n",
       "    <tr>\n",
       "      <th>2016-02-10</th>\n",
       "      <td>0.004273</td>\n",
       "      <td>0.001810</td>\n",
       "      <td>0.017287</td>\n",
       "      <td>-0.007580</td>\n",
       "      <td>-0.044835</td>\n",
       "      <td>-0.007580</td>\n",
       "    </tr>\n",
       "    <tr>\n",
       "      <th>2016-02-11</th>\n",
       "      <td>-0.016917</td>\n",
       "      <td>-0.016047</td>\n",
       "      <td>-0.022206</td>\n",
       "      <td>-0.006046</td>\n",
       "      <td>0.182580</td>\n",
       "      <td>-0.006046</td>\n",
       "    </tr>\n",
       "    <tr>\n",
       "      <th>2016-02-12</th>\n",
       "      <td>-0.002323</td>\n",
       "      <td>0.004536</td>\n",
       "      <td>0.004265</td>\n",
       "      <td>0.003095</td>\n",
       "      <td>-0.194176</td>\n",
       "      <td>0.003095</td>\n",
       "    </tr>\n",
       "  </tbody>\n",
       "</table>\n",
       "</div>"
      ],
      "text/plain": [
       "                High       Low      Open     Close    Volume  Adj Close\n",
       "Date                                                                   \n",
       "2016-02-08       NaN       NaN       NaN       NaN       NaN        NaN\n",
       "2016-02-09  0.002508  0.009566  0.012456 -0.000211 -0.179377  -0.000210\n",
       "2016-02-10  0.004273  0.001810  0.017287 -0.007580 -0.044835  -0.007580\n",
       "2016-02-11 -0.016917 -0.016047 -0.022206 -0.006046  0.182580  -0.006046\n",
       "2016-02-12 -0.002323  0.004536  0.004265  0.003095 -0.194176   0.003095"
      ]
     },
     "execution_count": 9,
     "metadata": {},
     "output_type": "execute_result"
    }
   ],
   "source": [
    "#determine X and y\n",
    "aapl = aapl.pct_change()\n",
    "aapl.head()"
   ]
  },
  {
   "cell_type": "code",
   "execution_count": 10,
   "metadata": {},
   "outputs": [],
   "source": [
    "#drop missing\n",
    "aapl.dropna(inplace = True)"
   ]
  },
  {
   "cell_type": "code",
   "execution_count": 12,
   "metadata": {},
   "outputs": [],
   "source": [
    "import numpy as np"
   ]
  },
  {
   "cell_type": "code",
   "execution_count": 13,
   "metadata": {},
   "outputs": [],
   "source": [
    "#train test split: no shuffle!\n",
    "aapl = aapl.pct_change()\n",
    "aapl.dropna(inplace = True)\n",
    "\n",
    "X = aapl[['High', 'Low', 'Open', 'Volume']]\n",
    "y = np.where(aapl['Close'] > 0, 1, 0)"
   ]
  },
  {
   "cell_type": "code",
   "execution_count": 14,
   "metadata": {},
   "outputs": [],
   "source": [
    "from sklearn.model_selection import train_test_split"
   ]
  },
  {
   "cell_type": "code",
   "execution_count": 15,
   "metadata": {},
   "outputs": [],
   "source": [
    "aapl = aapl.pct_change()\n",
    "aapl.dropna(inplace = True)\n",
    "\n",
    "X = aapl[['High', 'Low', 'Open', 'Volume']]\n",
    "y = np.where(aapl['Close'] > 0, 1, 0)\n",
    "X_train, X_test, y_train, y_test = train_test_split(X, y, shuffle = False)"
   ]
  },
  {
   "cell_type": "code",
   "execution_count": 16,
   "metadata": {},
   "outputs": [
    {
     "data": {
      "text/html": [
       "<div>\n",
       "<style scoped>\n",
       "    .dataframe tbody tr th:only-of-type {\n",
       "        vertical-align: middle;\n",
       "    }\n",
       "\n",
       "    .dataframe tbody tr th {\n",
       "        vertical-align: top;\n",
       "    }\n",
       "\n",
       "    .dataframe thead th {\n",
       "        text-align: right;\n",
       "    }\n",
       "</style>\n",
       "<table border=\"1\" class=\"dataframe\">\n",
       "  <thead>\n",
       "    <tr style=\"text-align: right;\">\n",
       "      <th></th>\n",
       "      <th>High</th>\n",
       "      <th>Low</th>\n",
       "      <th>Open</th>\n",
       "      <th>Volume</th>\n",
       "    </tr>\n",
       "    <tr>\n",
       "      <th>Date</th>\n",
       "      <th></th>\n",
       "      <th></th>\n",
       "      <th></th>\n",
       "      <th></th>\n",
       "    </tr>\n",
       "  </thead>\n",
       "  <tbody>\n",
       "    <tr>\n",
       "      <th>2016-02-09</th>\n",
       "      <td>0.002508</td>\n",
       "      <td>0.009566</td>\n",
       "      <td>0.012456</td>\n",
       "      <td>-0.179377</td>\n",
       "    </tr>\n",
       "    <tr>\n",
       "      <th>2016-02-10</th>\n",
       "      <td>0.004273</td>\n",
       "      <td>0.001810</td>\n",
       "      <td>0.017287</td>\n",
       "      <td>-0.044835</td>\n",
       "    </tr>\n",
       "    <tr>\n",
       "      <th>2016-02-11</th>\n",
       "      <td>-0.016917</td>\n",
       "      <td>-0.016047</td>\n",
       "      <td>-0.022206</td>\n",
       "      <td>0.182580</td>\n",
       "    </tr>\n",
       "    <tr>\n",
       "      <th>2016-02-12</th>\n",
       "      <td>-0.002323</td>\n",
       "      <td>0.004536</td>\n",
       "      <td>0.004265</td>\n",
       "      <td>-0.194176</td>\n",
       "    </tr>\n",
       "    <tr>\n",
       "      <th>2016-02-16</th>\n",
       "      <td>0.024868</td>\n",
       "      <td>0.017202</td>\n",
       "      <td>0.008812</td>\n",
       "      <td>0.215767</td>\n",
       "    </tr>\n",
       "  </tbody>\n",
       "</table>\n",
       "</div>"
      ],
      "text/plain": [
       "                High       Low      Open    Volume\n",
       "Date                                              \n",
       "2016-02-09  0.002508  0.009566  0.012456 -0.179377\n",
       "2016-02-10  0.004273  0.001810  0.017287 -0.044835\n",
       "2016-02-11 -0.016917 -0.016047 -0.022206  0.182580\n",
       "2016-02-12 -0.002323  0.004536  0.004265 -0.194176\n",
       "2016-02-16  0.024868  0.017202  0.008812  0.215767"
      ]
     },
     "execution_count": 16,
     "metadata": {},
     "output_type": "execute_result"
    }
   ],
   "source": [
    "X_train.head()"
   ]
  },
  {
   "cell_type": "markdown",
   "metadata": {},
   "source": [
    "### Scaling\n",
    "------\n",
    "\n",
    "Per usual we need to scale our data for the network."
   ]
  },
  {
   "cell_type": "code",
   "execution_count": 17,
   "metadata": {},
   "outputs": [],
   "source": [
    "from sklearn.preprocessing import StandardScaler"
   ]
  },
  {
   "cell_type": "code",
   "execution_count": 18,
   "metadata": {},
   "outputs": [],
   "source": [
    "#instantiate\n",
    "sscaler = StandardScaler()"
   ]
  },
  {
   "cell_type": "code",
   "execution_count": 19,
   "metadata": {},
   "outputs": [],
   "source": [
    "#fit and transform\n",
    "aapl = aapl.pct_change()\n",
    "aapl.dropna(inplace = True)\n",
    "\n",
    "X = aapl[['High', 'Low', 'Open', 'Volume']]\n",
    "y = np.where(aapl['Close'] > 0, 1, 0)\n",
    "X_train, X_test, y_train, y_test = train_test_split(X, y, shuffle = False)\n",
    "\n",
    "\n",
    "sscaler = StandardScaler()\n",
    "x_train = sscaler.fit_transform(X_train)\n",
    "x_test = sscaler.transform(X_test)"
   ]
  },
  {
   "cell_type": "code",
   "execution_count": 20,
   "metadata": {},
   "outputs": [
    {
     "data": {
      "text/plain": [
       "(942, 4)"
      ]
     },
     "execution_count": 20,
     "metadata": {},
     "output_type": "execute_result"
    }
   ],
   "source": [
    "x_train.shape"
   ]
  },
  {
   "cell_type": "markdown",
   "metadata": {},
   "source": [
    "### `TimeSeriesGenerator`\n",
    "-------\n",
    "This creates stacks of sequenced data of which we specify the length of the sequences desired."
   ]
  },
  {
   "cell_type": "code",
   "execution_count": 21,
   "metadata": {},
   "outputs": [],
   "source": [
    "from keras.preprocessing.sequence import TimeseriesGenerator"
   ]
  },
  {
   "cell_type": "code",
   "execution_count": 37,
   "metadata": {},
   "outputs": [],
   "source": [
    "train_sequences = TimeseriesGenerator(x_train, y_train, length = 3)"
   ]
  },
  {
   "cell_type": "code",
   "execution_count": 38,
   "metadata": {},
   "outputs": [],
   "source": [
    "batch_x, batch_y = train_sequences[0]"
   ]
  },
  {
   "cell_type": "code",
   "execution_count": 39,
   "metadata": {},
   "outputs": [
    {
     "data": {
      "text/plain": [
       "(128, 3, 4)"
      ]
     },
     "execution_count": 39,
     "metadata": {},
     "output_type": "execute_result"
    }
   ],
   "source": [
    "batch_x.shape"
   ]
  },
  {
   "cell_type": "code",
   "execution_count": 29,
   "metadata": {},
   "outputs": [],
   "source": [
    "test_sequences = TimeseriesGenerator(x_test, y_test, length = 3)"
   ]
  },
  {
   "cell_type": "markdown",
   "metadata": {},
   "source": [
    "### Model with `SimpleRNN`\n",
    "--------\n",
    "\n",
    "- 1 `SimpleRNN` layer\n",
    "- 1 hidden `Dense` layer"
   ]
  },
  {
   "cell_type": "code",
   "execution_count": 30,
   "metadata": {},
   "outputs": [],
   "source": [
    "from keras.models import Sequential\n",
    "from keras.layers import SimpleRNN, LSTM, GRU, Dense"
   ]
  },
  {
   "cell_type": "code",
   "execution_count": 36,
   "metadata": {},
   "outputs": [],
   "source": [
    "model = Sequential()\n",
    "model.add(SimpleRNN(8, input_shape = (3, 4)))\n",
    "model.add(Dense(20, activation = 'relu'))\n",
    "model.add(Dense(1, activation = 'sigmoid'))\n",
    "\n",
    "model.compile(loss = 'bce', optimizer = 'adam', metrics = ['acc'])\n",
    "\n",
    "history = model.fit(train_sequences, validation_data=test_sequences, \n",
    "                    epochs = 30, verbose = 0)\n",
    "\n",
    "import matplotlib.pyplot as plt\n",
    "\n",
    "plt.plot(history.history['acc'])\n",
    "plt.plot(history.history['val_acc'])"
   ]
  },
  {
   "cell_type": "code",
   "execution_count": null,
   "metadata": {},
   "outputs": [],
   "source": []
  },
  {
   "cell_type": "code",
   "execution_count": null,
   "metadata": {},
   "outputs": [],
   "source": []
  },
  {
   "cell_type": "code",
   "execution_count": null,
   "metadata": {},
   "outputs": [],
   "source": []
  },
  {
   "cell_type": "code",
   "execution_count": null,
   "metadata": {},
   "outputs": [],
   "source": []
  },
  {
   "cell_type": "code",
   "execution_count": null,
   "metadata": {},
   "outputs": [],
   "source": []
  },
  {
   "cell_type": "code",
   "execution_count": null,
   "metadata": {},
   "outputs": [],
   "source": []
  },
  {
   "cell_type": "markdown",
   "metadata": {},
   "source": [
    "### Sequential Models for Text\n",
    "-------\n",
    "\n",
    "Now, we use the Keras `Tokenizer` to preprocess our spam data and feed it through different architectures of sequential network models."
   ]
  },
  {
   "cell_type": "code",
   "execution_count": 43,
   "metadata": {},
   "outputs": [],
   "source": [
    "import pandas as pd\n",
    "import numpy as np"
   ]
  },
  {
   "cell_type": "code",
   "execution_count": 44,
   "metadata": {},
   "outputs": [],
   "source": [
    "from keras.preprocessing.text import Tokenizer"
   ]
  },
  {
   "cell_type": "code",
   "execution_count": 45,
   "metadata": {},
   "outputs": [
    {
     "data": {
      "text/html": [
       "<div>\n",
       "<style scoped>\n",
       "    .dataframe tbody tr th:only-of-type {\n",
       "        vertical-align: middle;\n",
       "    }\n",
       "\n",
       "    .dataframe tbody tr th {\n",
       "        vertical-align: top;\n",
       "    }\n",
       "\n",
       "    .dataframe thead th {\n",
       "        text-align: right;\n",
       "    }\n",
       "</style>\n",
       "<table border=\"1\" class=\"dataframe\">\n",
       "  <thead>\n",
       "    <tr style=\"text-align: right;\">\n",
       "      <th></th>\n",
       "      <th>type</th>\n",
       "      <th>text</th>\n",
       "    </tr>\n",
       "  </thead>\n",
       "  <tbody>\n",
       "    <tr>\n",
       "      <th>0</th>\n",
       "      <td>ham</td>\n",
       "      <td>Hope you are having a good week. Just checking in</td>\n",
       "    </tr>\n",
       "    <tr>\n",
       "      <th>1</th>\n",
       "      <td>ham</td>\n",
       "      <td>K..give back my thanks.</td>\n",
       "    </tr>\n",
       "    <tr>\n",
       "      <th>2</th>\n",
       "      <td>ham</td>\n",
       "      <td>Am also doing in cbe only. But have to pay.</td>\n",
       "    </tr>\n",
       "    <tr>\n",
       "      <th>3</th>\n",
       "      <td>spam</td>\n",
       "      <td>complimentary 4 STAR Ibiza Holiday or £10,000 ...</td>\n",
       "    </tr>\n",
       "    <tr>\n",
       "      <th>4</th>\n",
       "      <td>spam</td>\n",
       "      <td>okmail: Dear Dave this is your final notice to...</td>\n",
       "    </tr>\n",
       "  </tbody>\n",
       "</table>\n",
       "</div>"
      ],
      "text/plain": [
       "   type                                               text\n",
       "0   ham  Hope you are having a good week. Just checking in\n",
       "1   ham                            K..give back my thanks.\n",
       "2   ham        Am also doing in cbe only. But have to pay.\n",
       "3  spam  complimentary 4 STAR Ibiza Holiday or £10,000 ...\n",
       "4  spam  okmail: Dear Dave this is your final notice to..."
      ]
     },
     "execution_count": 45,
     "metadata": {},
     "output_type": "execute_result"
    }
   ],
   "source": [
    "spam = pd.read_csv('data/sms_spam.csv')\n",
    "spam.head()"
   ]
  },
  {
   "cell_type": "code",
   "execution_count": 46,
   "metadata": {},
   "outputs": [],
   "source": [
    "X = spam.text\n",
    "y = np.where(spam['type'] == 'spam', 1, 0)"
   ]
  },
  {
   "cell_type": "code",
   "execution_count": 47,
   "metadata": {},
   "outputs": [],
   "source": [
    "X_train, X_test, y_train, y_test = train_test_split(X, y, random_state = 22)"
   ]
  },
  {
   "cell_type": "code",
   "execution_count": null,
   "metadata": {},
   "outputs": [],
   "source": []
  },
  {
   "cell_type": "code",
   "execution_count": null,
   "metadata": {},
   "outputs": [],
   "source": []
  },
  {
   "cell_type": "markdown",
   "metadata": {},
   "source": [
    "### `Tokenizer`\n",
    "------\n",
    "Here, we set the limit to the number of words at 500, then fit the texts, and finally transform our text to sequences of integer values with the `.texts_to_sequences`.  To assure the same length we use the `pad_sequences` function.  "
   ]
  },
  {
   "cell_type": "code",
   "execution_count": 53,
   "metadata": {},
   "outputs": [],
   "source": [
    "tokenizer = Tokenizer(500)\n",
    "\n",
    "tokenizer.fit_on_texts(X_train)\n",
    "\n",
    "x_train = tokenizer.texts_to_sequences(X_train)\n",
    "x_test = tokenizer.texts_to_sequences(X_test)\n",
    "\n",
    "from keras.preprocessing.sequence import pad_sequences\n",
    "\n",
    "x_train = pad_sequences(x_train, maxlen = 100)\n",
    "x_test = pad_sequences(x_test, maxlen = 100)"
   ]
  },
  {
   "cell_type": "code",
   "execution_count": 54,
   "metadata": {},
   "outputs": [
    {
     "data": {
      "text/plain": [
       "array([[  0,   0,   0, ..., 350,   5, 179],\n",
       "       [  0,   0,   0, ..., 121,  14,   6],\n",
       "       [  0,   0,   0, ..., 251,  32,  57],\n",
       "       ...,\n",
       "       [  0,   0,   0, ...,  99, 323, 237],\n",
       "       [  0,   0,   0, ...,  42,   2,  20],\n",
       "       [  0,   0,   0, ..., 236, 267, 102]], dtype=int32)"
      ]
     },
     "execution_count": 54,
     "metadata": {},
     "output_type": "execute_result"
    }
   ],
   "source": [
    "x_train"
   ]
  },
  {
   "cell_type": "markdown",
   "metadata": {},
   "source": [
    "### Model!\n",
    "-------"
   ]
  },
  {
   "cell_type": "code",
   "execution_count": 55,
   "metadata": {},
   "outputs": [],
   "source": [
    "from keras.layers import Embedding"
   ]
  },
  {
   "cell_type": "code",
   "execution_count": 58,
   "metadata": {},
   "outputs": [],
   "source": [
    "model = Sequential()\n",
    "\n",
    "model.add(Embedding(input_dim = tokenizer.num_words, output_dim = 64))#creates embeddings\n",
    "\n",
    "\n",
    "model.add(SimpleRNN(16))\n",
    "model.add(Dense(20, activation = 'relu'))\n",
    "model.add(Dense(1, activation = 'sigmoid'))\n",
    "\n",
    "model.compile(loss = 'bce', metrics = ['accuracy'], optimizer = 'adam')\n",
    "\n",
    "history = model.fit(x_train, y_train, validation_data=(x_test, y_test), epochs = 10)"
   ]
  },
  {
   "cell_type": "markdown",
   "metadata": {},
   "source": [
    "### Improving the Model\n",
    "-----\n",
    "\n",
    "- `LSTM` layers\n",
    "- `GRU` layers\n",
    "- `recurrent_dropout`\n",
    "- `dropout`\n",
    "- `Bidirectional` layers"
   ]
  },
  {
   "cell_type": "code",
   "execution_count": 59,
   "metadata": {},
   "outputs": [
    {
     "name": "stdout",
     "output_type": "stream",
     "text": [
      "Epoch 1/10\n",
      "131/131 [==============================] - 3s 26ms/step - loss: 0.2724 - accuracy: 0.9026 - val_loss: 0.1222 - val_accuracy: 0.9691\n",
      "Epoch 2/10\n",
      "131/131 [==============================] - 3s 24ms/step - loss: 0.0659 - accuracy: 0.9825 - val_loss: 0.0742 - val_accuracy: 0.9799\n",
      "Epoch 3/10\n",
      "131/131 [==============================] - 3s 25ms/step - loss: 0.0396 - accuracy: 0.9882 - val_loss: 0.0665 - val_accuracy: 0.9827\n",
      "Epoch 4/10\n",
      "131/131 [==============================] - 3s 25ms/step - loss: 0.0318 - accuracy: 0.9909 - val_loss: 0.0664 - val_accuracy: 0.9806\n",
      "Epoch 5/10\n",
      "131/131 [==============================] - 3s 25ms/step - loss: 0.0239 - accuracy: 0.9938 - val_loss: 0.0758 - val_accuracy: 0.9813\n",
      "Epoch 6/10\n",
      "131/131 [==============================] - 3s 26ms/step - loss: 0.0215 - accuracy: 0.9928 - val_loss: 0.0841 - val_accuracy: 0.9791\n",
      "Epoch 7/10\n",
      "131/131 [==============================] - 3s 25ms/step - loss: 0.0189 - accuracy: 0.9952 - val_loss: 0.0887 - val_accuracy: 0.9799\n",
      "Epoch 8/10\n",
      "131/131 [==============================] - 3s 25ms/step - loss: 0.0146 - accuracy: 0.9966 - val_loss: 0.0930 - val_accuracy: 0.9777\n",
      "Epoch 9/10\n",
      "131/131 [==============================] - 3s 26ms/step - loss: 0.0120 - accuracy: 0.9971 - val_loss: 0.1020 - val_accuracy: 0.9777\n",
      "Epoch 10/10\n",
      "131/131 [==============================] - 3s 25ms/step - loss: 0.0145 - accuracy: 0.9954 - val_loss: 0.1031 - val_accuracy: 0.9748\n"
     ]
    }
   ],
   "source": [
    "model = Sequential()\n",
    "\n",
    "model.add(Embedding(input_dim = tokenizer.num_words, output_dim = 64))#creates embeddings\n",
    "\n",
    "\n",
    "model.add(GRU(16))\n",
    "model.add(Dense(20, activation = 'relu'))\n",
    "model.add(Dense(1, activation = 'sigmoid'))\n",
    "\n",
    "model.compile(loss = 'bce', metrics = ['accuracy'], optimizer = 'adam')\n",
    "\n",
    "history = model.fit(x_train, y_train, validation_data=(x_test, y_test), epochs = 10)"
   ]
  },
  {
   "cell_type": "code",
   "execution_count": 61,
   "metadata": {},
   "outputs": [
    {
     "name": "stdout",
     "output_type": "stream",
     "text": [
      "131/131 [==============================] - 10s 78ms/step - loss: 0.2600 - accuracy: 0.9189 - val_loss: 0.0949 - val_accuracy: 0.9741\n"
     ]
    }
   ],
   "source": [
    "model = Sequential()\n",
    "\n",
    "model.add(Embedding(input_dim = tokenizer.num_words, output_dim = 64))#creates embeddings\n",
    "\n",
    "\n",
    "model.add(GRU(16, return_sequences = True))\n",
    "model.add(GRU(16, return_sequences = True))\n",
    "model.add(GRU(16))\n",
    "model.add(Dense(20, activation = 'relu'))\n",
    "model.add(Dense(1, activation = 'sigmoid'))\n",
    "\n",
    "model.compile(loss = 'bce', metrics = ['accuracy'], optimizer = 'adam')\n",
    "\n",
    "history = model.fit(x_train, y_train, validation_data=(x_test, y_test), epochs = 1)"
   ]
  },
  {
   "cell_type": "code",
   "execution_count": 62,
   "metadata": {},
   "outputs": [
    {
     "name": "stdout",
     "output_type": "stream",
     "text": [
      "131/131 [==============================] - 13s 103ms/step - loss: 0.2709 - accuracy: 0.9201 - val_loss: 0.1007 - val_accuracy: 0.9719\n"
     ]
    }
   ],
   "source": [
    "model = Sequential()\n",
    "\n",
    "model.add(Embedding(input_dim = tokenizer.num_words, output_dim = 64))#creates embeddings\n",
    "\n",
    "\n",
    "model.add(GRU(16, return_sequences = True, dropout = 0.2, recurrent_dropout = 0.2))\n",
    "model.add(GRU(16, return_sequences = True))\n",
    "model.add(GRU(16))\n",
    "model.add(Dense(20, activation = 'relu'))\n",
    "model.add(Dense(1, activation = 'sigmoid'))\n",
    "\n",
    "model.compile(loss = 'bce', metrics = ['accuracy'], optimizer = 'adam')\n",
    "\n",
    "history = model.fit(x_train, y_train, validation_data=(x_test, y_test), epochs = 1)"
   ]
  },
  {
   "cell_type": "code",
   "execution_count": 63,
   "metadata": {},
   "outputs": [],
   "source": [
    "from keras.layers import Bidirectional"
   ]
  },
  {
   "cell_type": "code",
   "execution_count": 64,
   "metadata": {},
   "outputs": [
    {
     "name": "stdout",
     "output_type": "stream",
     "text": [
      "131/131 [==============================] - 4s 32ms/step - loss: 0.2762 - accuracy: 0.9110 - val_loss: 0.0904 - val_accuracy: 0.9748\n"
     ]
    }
   ],
   "source": [
    "model = Sequential()\n",
    "\n",
    "model.add(Embedding(input_dim = tokenizer.num_words, output_dim = 64))#creates embeddings\n",
    "\n",
    "model.add(Bidirectional(GRU(16)))\n",
    "model.add(Dense(20, activation = 'relu'))\n",
    "model.add(Dense(1, activation = 'sigmoid'))\n",
    "\n",
    "model.compile(loss = 'bce', metrics = ['accuracy'], optimizer = 'adam')\n",
    "\n",
    "history = model.fit(x_train, y_train, validation_data=(x_test, y_test), epochs = 1)"
   ]
  },
  {
   "cell_type": "markdown",
   "metadata": {},
   "source": [
    "### Convolutional Networks in 1D\n",
    "--------"
   ]
  },
  {
   "cell_type": "code",
   "execution_count": 65,
   "metadata": {},
   "outputs": [],
   "source": [
    "from keras.layers import Conv1D, MaxPooling1D, GlobalMaxPooling1D"
   ]
  },
  {
   "cell_type": "code",
   "execution_count": 66,
   "metadata": {},
   "outputs": [
    {
     "name": "stdout",
     "output_type": "stream",
     "text": [
      "131/131 [==============================] - 1s 8ms/step - loss: 0.3999 - accuracy: 0.8715 - val_loss: 0.3922 - val_accuracy: 0.8705\n"
     ]
    }
   ],
   "source": [
    "model = Sequential()\n",
    "\n",
    "model.add(Embedding(input_dim = tokenizer.num_words, output_dim = 64))#creates embeddings\n",
    "\n",
    "model.add(Conv1D(64, 10, activation = 'relu'))\n",
    "model.add(MaxPooling1D(4))\n",
    "model.add(Dense(20, activation = 'relu'))\n",
    "model.add(Dense(1, activation = 'sigmoid'))\n",
    "\n",
    "model.compile(loss = 'bce', metrics = ['accuracy'], optimizer = 'adam')\n",
    "\n",
    "history = model.fit(x_train, y_train, validation_data=(x_test, y_test), epochs = 1)"
   ]
  },
  {
   "cell_type": "code",
   "execution_count": 67,
   "metadata": {},
   "outputs": [
    {
     "name": "stdout",
     "output_type": "stream",
     "text": [
      "Epoch 1/10\n",
      "131/131 [==============================] - 2s 16ms/step - loss: 0.2744 - accuracy: 0.8971 - val_loss: 0.1341 - val_accuracy: 0.9676\n",
      "Epoch 2/10\n",
      "131/131 [==============================] - 2s 14ms/step - loss: 0.0793 - accuracy: 0.9791 - val_loss: 0.0797 - val_accuracy: 0.9755\n",
      "Epoch 3/10\n",
      "131/131 [==============================] - 2s 15ms/step - loss: 0.0527 - accuracy: 0.9882 - val_loss: 0.0798 - val_accuracy: 0.9777\n",
      "Epoch 4/10\n",
      "131/131 [==============================] - 2s 14ms/step - loss: 0.0426 - accuracy: 0.9914 - val_loss: 0.0820 - val_accuracy: 0.9784\n",
      "Epoch 5/10\n",
      "131/131 [==============================] - 2s 14ms/step - loss: 0.0309 - accuracy: 0.9942 - val_loss: 0.0868 - val_accuracy: 0.9777\n",
      "Epoch 6/10\n",
      "131/131 [==============================] - 2s 15ms/step - loss: 0.0288 - accuracy: 0.9938 - val_loss: 0.0816 - val_accuracy: 0.9806\n",
      "Epoch 7/10\n",
      "131/131 [==============================] - 2s 15ms/step - loss: 0.0202 - accuracy: 0.9962 - val_loss: 0.0818 - val_accuracy: 0.9784\n",
      "Epoch 8/10\n",
      "131/131 [==============================] - 2s 15ms/step - loss: 0.0180 - accuracy: 0.9964 - val_loss: 0.1006 - val_accuracy: 0.9777\n",
      "Epoch 9/10\n",
      "131/131 [==============================] - 2s 15ms/step - loss: 0.0188 - accuracy: 0.9954 - val_loss: 0.1064 - val_accuracy: 0.9763\n",
      "Epoch 10/10\n",
      "131/131 [==============================] - 2s 15ms/step - loss: 0.0150 - accuracy: 0.9966 - val_loss: 0.1201 - val_accuracy: 0.9763\n"
     ]
    }
   ],
   "source": [
    "model = Sequential()\n",
    "\n",
    "model.add(Embedding(input_dim = tokenizer.num_words, output_dim = 64))#creates embeddings\n",
    "\n",
    "\n",
    "model.add(Conv1D(64, 10, activation = 'relu'))\n",
    "model.add(MaxPooling1D(5))\n",
    "model.add(Conv1D(32, 7, activation = 'relu'))\n",
    "model.add(GRU(32, dropout = 0.2, recurrent_dropout = 0.2))\n",
    "model.add(Dense(20, activation = 'relu'))\n",
    "model.add(Dense(1, activation = 'sigmoid'))\n",
    "\n",
    "model.compile(loss = 'bce', metrics = ['accuracy'], optimizer = 'adam')\n",
    "\n",
    "history = model.fit(x_train, y_train, validation_data=(x_test, y_test), epochs = 10)"
   ]
  }
 ],
 "metadata": {
  "kernelspec": {
   "display_name": "Python 3",
   "language": "python",
   "name": "python3"
  },
  "language_info": {
   "codemirror_mode": {
    "name": "ipython",
    "version": 3
   },
   "file_extension": ".py",
   "mimetype": "text/x-python",
   "name": "python",
   "nbconvert_exporter": "python",
   "pygments_lexer": "ipython3",
   "version": "3.8.3"
  },
  "widgets": {
   "application/vnd.jupyter.widget-state+json": {
    "state": {},
    "version_major": 2,
    "version_minor": 0
   }
  }
 },
 "nbformat": 4,
 "nbformat_minor": 4
}
