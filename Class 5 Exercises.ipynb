{
 "cells": [
  {
   "cell_type": "markdown",
   "metadata": {},
   "source": [
    "<img src=\"http://imgur.com/1ZcRyrc.png\" style=\"float: left; margin: 20px; height: 55px\">\n",
    "\n",
    "## Python Data Visualization Exercises"
   ]
  },
  {
   "cell_type": "markdown",
   "metadata": {},
   "source": [
    "#### Import the usual data science libraries."
   ]
  },
  {
   "cell_type": "code",
   "execution_count": 2,
   "metadata": {},
   "outputs": [],
   "source": [
    "import numpy as np\n",
    "import pandas as pd \n",
    "import matplotlib.pyplot as plt"
   ]
  },
  {
   "cell_type": "markdown",
   "metadata": {},
   "source": [
    "#### Read the sports dataset (`./data/sports.csv`) into a DataFrame.\n",
    "\n",
    "The data is from [this source](https://news.gallup.com/poll/4735/sports.aspx#1) and contains information on the percent of people who say various sports are their favorite to watch."
   ]
  },
  {
   "cell_type": "code",
   "execution_count": 6,
   "metadata": {},
   "outputs": [],
   "source": [
    "sports = pd.read_csv('datasets/sports.csv')\n"
   ]
  },
  {
   "cell_type": "markdown",
   "metadata": {},
   "source": [
    "#### Take a peak and get basic information about the dataset"
   ]
  },
  {
   "cell_type": "code",
   "execution_count": 7,
   "metadata": {},
   "outputs": [
    {
     "data": {
      "text/html": [
       "<div>\n",
       "<style scoped>\n",
       "    .dataframe tbody tr th:only-of-type {\n",
       "        vertical-align: middle;\n",
       "    }\n",
       "\n",
       "    .dataframe tbody tr th {\n",
       "        vertical-align: top;\n",
       "    }\n",
       "\n",
       "    .dataframe thead th {\n",
       "        text-align: right;\n",
       "    }\n",
       "</style>\n",
       "<table border=\"1\" class=\"dataframe\">\n",
       "  <thead>\n",
       "    <tr style=\"text-align: right;\">\n",
       "      <th></th>\n",
       "      <th>Year</th>\n",
       "      <th>Football</th>\n",
       "      <th>Basketball</th>\n",
       "      <th>Baseball</th>\n",
       "      <th>Soccer</th>\n",
       "      <th>Ice hockey</th>\n",
       "      <th>Auto racing</th>\n",
       "      <th>Tennis</th>\n",
       "      <th>Golf</th>\n",
       "      <th>Volleyball</th>\n",
       "      <th>...</th>\n",
       "      <th>Ice/Figure skating</th>\n",
       "      <th>Rodeo</th>\n",
       "      <th>Track and field</th>\n",
       "      <th>Fishing</th>\n",
       "      <th>Swimming</th>\n",
       "      <th>Wrestling</th>\n",
       "      <th>Bowling</th>\n",
       "      <th>Other</th>\n",
       "      <th>None</th>\n",
       "      <th>No opinion</th>\n",
       "    </tr>\n",
       "  </thead>\n",
       "  <tbody>\n",
       "    <tr>\n",
       "      <th>0</th>\n",
       "      <td>2017</td>\n",
       "      <td>37</td>\n",
       "      <td>11</td>\n",
       "      <td>9</td>\n",
       "      <td>7</td>\n",
       "      <td>4</td>\n",
       "      <td>2</td>\n",
       "      <td>2</td>\n",
       "      <td>1</td>\n",
       "      <td>1</td>\n",
       "      <td>...</td>\n",
       "      <td>1</td>\n",
       "      <td>0</td>\n",
       "      <td>0</td>\n",
       "      <td>0</td>\n",
       "      <td>0</td>\n",
       "      <td>0</td>\n",
       "      <td>0</td>\n",
       "      <td>5</td>\n",
       "      <td>15</td>\n",
       "      <td>0</td>\n",
       "    </tr>\n",
       "    <tr>\n",
       "      <th>1</th>\n",
       "      <td>2013</td>\n",
       "      <td>39</td>\n",
       "      <td>12</td>\n",
       "      <td>14</td>\n",
       "      <td>4</td>\n",
       "      <td>3</td>\n",
       "      <td>2</td>\n",
       "      <td>3</td>\n",
       "      <td>2</td>\n",
       "      <td>0</td>\n",
       "      <td>...</td>\n",
       "      <td>1</td>\n",
       "      <td>0</td>\n",
       "      <td>1</td>\n",
       "      <td>1</td>\n",
       "      <td>0</td>\n",
       "      <td>0</td>\n",
       "      <td>0</td>\n",
       "      <td>4</td>\n",
       "      <td>11</td>\n",
       "      <td>0</td>\n",
       "    </tr>\n",
       "    <tr>\n",
       "      <th>2</th>\n",
       "      <td>2008</td>\n",
       "      <td>41</td>\n",
       "      <td>9</td>\n",
       "      <td>10</td>\n",
       "      <td>3</td>\n",
       "      <td>4</td>\n",
       "      <td>3</td>\n",
       "      <td>1</td>\n",
       "      <td>2</td>\n",
       "      <td>1</td>\n",
       "      <td>...</td>\n",
       "      <td>1</td>\n",
       "      <td>0</td>\n",
       "      <td>0</td>\n",
       "      <td>0</td>\n",
       "      <td>0</td>\n",
       "      <td>0</td>\n",
       "      <td>0</td>\n",
       "      <td>6</td>\n",
       "      <td>14</td>\n",
       "      <td>0</td>\n",
       "    </tr>\n",
       "    <tr>\n",
       "      <th>3</th>\n",
       "      <td>2007</td>\n",
       "      <td>43</td>\n",
       "      <td>11</td>\n",
       "      <td>13</td>\n",
       "      <td>2</td>\n",
       "      <td>4</td>\n",
       "      <td>3</td>\n",
       "      <td>1</td>\n",
       "      <td>2</td>\n",
       "      <td>0</td>\n",
       "      <td>...</td>\n",
       "      <td>2</td>\n",
       "      <td>0</td>\n",
       "      <td>0</td>\n",
       "      <td>0</td>\n",
       "      <td>0</td>\n",
       "      <td>1</td>\n",
       "      <td>0</td>\n",
       "      <td>3</td>\n",
       "      <td>12</td>\n",
       "      <td>1</td>\n",
       "    </tr>\n",
       "    <tr>\n",
       "      <th>4</th>\n",
       "      <td>2006</td>\n",
       "      <td>43</td>\n",
       "      <td>12</td>\n",
       "      <td>11</td>\n",
       "      <td>2</td>\n",
       "      <td>2</td>\n",
       "      <td>4</td>\n",
       "      <td>1</td>\n",
       "      <td>3</td>\n",
       "      <td>0</td>\n",
       "      <td>...</td>\n",
       "      <td>3</td>\n",
       "      <td>0</td>\n",
       "      <td>0</td>\n",
       "      <td>0</td>\n",
       "      <td>0</td>\n",
       "      <td>0</td>\n",
       "      <td>0</td>\n",
       "      <td>3</td>\n",
       "      <td>12</td>\n",
       "      <td>0</td>\n",
       "    </tr>\n",
       "  </tbody>\n",
       "</table>\n",
       "<p>5 rows × 23 columns</p>\n",
       "</div>"
      ],
      "text/plain": [
       "   Year  Football  Basketball  Baseball  Soccer  Ice hockey  Auto racing  \\\n",
       "0  2017        37          11         9       7           4            2   \n",
       "1  2013        39          12        14       4           3            2   \n",
       "2  2008        41           9        10       3           4            3   \n",
       "3  2007        43          11        13       2           4            3   \n",
       "4  2006        43          12        11       2           2            4   \n",
       "\n",
       "   Tennis  Golf  Volleyball  ...  Ice/Figure skating  Rodeo  Track and field  \\\n",
       "0       2     1           1  ...                   1      0                0   \n",
       "1       3     2           0  ...                   1      0                1   \n",
       "2       1     2           1  ...                   1      0                0   \n",
       "3       1     2           0  ...                   2      0                0   \n",
       "4       1     3           0  ...                   3      0                0   \n",
       "\n",
       "   Fishing  Swimming  Wrestling  Bowling  Other  None  No opinion  \n",
       "0        0         0          0        0      5    15           0  \n",
       "1        1         0          0        0      4    11           0  \n",
       "2        0         0          0        0      6    14           0  \n",
       "3        0         0          1        0      3    12           1  \n",
       "4        0         0          0        0      3    12           0  \n",
       "\n",
       "[5 rows x 23 columns]"
      ]
     },
     "execution_count": 7,
     "metadata": {},
     "output_type": "execute_result"
    }
   ],
   "source": [
    "sports.head()"
   ]
  },
  {
   "cell_type": "code",
   "execution_count": 8,
   "metadata": {},
   "outputs": [
    {
     "name": "stdout",
     "output_type": "stream",
     "text": [
      "<class 'pandas.core.frame.DataFrame'>\n",
      "RangeIndex: 7 entries, 0 to 6\n",
      "Data columns (total 23 columns):\n",
      " #   Column              Non-Null Count  Dtype\n",
      "---  ------              --------------  -----\n",
      " 0   Year                7 non-null      int64\n",
      " 1   Football            7 non-null      int64\n",
      " 2   Basketball          7 non-null      int64\n",
      " 3   Baseball            7 non-null      int64\n",
      " 4   Soccer              7 non-null      int64\n",
      " 5   Ice hockey          7 non-null      int64\n",
      " 6   Auto racing         7 non-null      int64\n",
      " 7   Tennis              7 non-null      int64\n",
      " 8   Golf                7 non-null      int64\n",
      " 9   Volleyball          7 non-null      int64\n",
      " 10  Boxing              7 non-null      int64\n",
      " 11  Gymnastics          7 non-null      int64\n",
      " 12  Motocross           7 non-null      int64\n",
      " 13  Ice/Figure skating  7 non-null      int64\n",
      " 14  Rodeo               7 non-null      int64\n",
      " 15  Track and field     7 non-null      int64\n",
      " 16  Fishing             7 non-null      int64\n",
      " 17  Swimming            7 non-null      int64\n",
      " 18  Wrestling           7 non-null      int64\n",
      " 19  Bowling             7 non-null      int64\n",
      " 20  Other               7 non-null      int64\n",
      " 21  None                7 non-null      int64\n",
      " 22  No opinion          7 non-null      int64\n",
      "dtypes: int64(23)\n",
      "memory usage: 1.4 KB\n"
     ]
    }
   ],
   "source": [
    "sports.info()"
   ]
  },
  {
   "cell_type": "code",
   "execution_count": 10,
   "metadata": {
    "scrolled": true
   },
   "outputs": [
    {
     "data": {
      "text/plain": [
       "0   1970-01-01 00:00:00.000002017\n",
       "1   1970-01-01 00:00:00.000002013\n",
       "2   1970-01-01 00:00:00.000002008\n",
       "3   1970-01-01 00:00:00.000002007\n",
       "4   1970-01-01 00:00:00.000002006\n",
       "5   1970-01-01 00:00:00.000002005\n",
       "6   1970-01-01 00:00:00.000002004\n",
       "Name: Year, dtype: datetime64[ns]"
      ]
     },
     "execution_count": 10,
     "metadata": {},
     "output_type": "execute_result"
    }
   ],
   "source": [
    "pd.to_datetime(sports['Year'])"
   ]
  },
  {
   "cell_type": "code",
   "execution_count": 22,
   "metadata": {
    "scrolled": true
   },
   "outputs": [
    {
     "data": {
      "text/plain": [
       "0    2017\n",
       "1    2013\n",
       "2    2008\n",
       "3    2007\n",
       "4    2006\n",
       "5    2005\n",
       "6    2004\n",
       "Name: Year, dtype: object"
      ]
     },
     "execution_count": 22,
     "metadata": {},
     "output_type": "execute_result"
    }
   ],
   "source": [
    "sports['Year'].apply(str)"
   ]
  },
  {
   "cell_type": "code",
   "execution_count": 25,
   "metadata": {},
   "outputs": [
    {
     "name": "stdout",
     "output_type": "stream",
     "text": [
      "<class 'pandas.core.frame.DataFrame'>\n",
      "RangeIndex: 7 entries, 0 to 6\n",
      "Data columns (total 23 columns):\n",
      " #   Column              Non-Null Count  Dtype\n",
      "---  ------              --------------  -----\n",
      " 0   Year                7 non-null      int64\n",
      " 1   Football            7 non-null      int64\n",
      " 2   Basketball          7 non-null      int64\n",
      " 3   Baseball            7 non-null      int64\n",
      " 4   Soccer              7 non-null      int64\n",
      " 5   Ice hockey          7 non-null      int64\n",
      " 6   Auto racing         7 non-null      int64\n",
      " 7   Tennis              7 non-null      int64\n",
      " 8   Golf                7 non-null      int64\n",
      " 9   Volleyball          7 non-null      int64\n",
      " 10  Boxing              7 non-null      int64\n",
      " 11  Gymnastics          7 non-null      int64\n",
      " 12  Motocross           7 non-null      int64\n",
      " 13  Ice/Figure skating  7 non-null      int64\n",
      " 14  Rodeo               7 non-null      int64\n",
      " 15  Track and field     7 non-null      int64\n",
      " 16  Fishing             7 non-null      int64\n",
      " 17  Swimming            7 non-null      int64\n",
      " 18  Wrestling           7 non-null      int64\n",
      " 19  Bowling             7 non-null      int64\n",
      " 20  Other               7 non-null      int64\n",
      " 21  None                7 non-null      int64\n",
      " 22  No opinion          7 non-null      int64\n",
      "dtypes: int64(23)\n",
      "memory usage: 1.4 KB\n"
     ]
    }
   ],
   "source": [
    "sports.info()"
   ]
  },
  {
   "cell_type": "markdown",
   "metadata": {},
   "source": [
    "#### Explore the dataset using visualizations"
   ]
  },
  {
   "cell_type": "code",
   "execution_count": 29,
   "metadata": {},
   "outputs": [
    {
     "data": {
      "text/plain": [
       "<BarContainer object of 7 artists>"
      ]
     },
     "execution_count": 29,
     "metadata": {},
     "output_type": "execute_result"
    },
    {
     "data": {
      "image/png": "[encoded data removed]",
      "text/plain": [
       "<Figure size 432x288 with 1 Axes>"
      ]
     },
     "metadata": {
      "needs_background": "light"
     },
     "output_type": "display_data"
    }
   ],
   "source": [
    "plt.bar(sports['Year'].apply(str), sports['Football'])"
   ]
  },
  {
   "cell_type": "code",
   "execution_count": 53,
   "metadata": {},
   "outputs": [
    {
     "data": {
      "image/png": "[encoded data removed]",
      "text/plain": [
       "<Figure size 432x288 with 1 Axes>"
      ]
     },
     "metadata": {
      "needs_background": "light"
     },
     "output_type": "display_data"
    }
   ],
   "source": [
    "plt.bar(sports['Year'].apply(str), sports['Football'], label = 'Football')\n",
    "plt.bar(sports['Year'].apply(str), sports['Basketball'], label = 'Basketball')\n",
    "plt.bar(sports['Year'].apply(str), sports['Baseball'], label = 'Baseball')\n",
    "plt.bar(sports['Year'].apply(str), sports['Ice hockey'], label = 'Ice Hockey')\n",
    "plt.bar(sports['Year'].apply(str), sports['Tennis'], label = 'Tennis')\n",
    "plt.bar(sports['Year'].apply(str), sports['Wrestling'], label = 'Wrestling')\n",
    "plt.bar(sports['Year'].apply(str), sports['Swimming'], label = 'Swimming')\n",
    "plt.bar(sports['Year'].apply(str), sports['Golf'], label = 'Golf')\n",
    "plt.bar(sports['Year'].apply(str), sports['Other'], label = 'Other')\n",
    "plt.xlabel('Years', fontsize = 16)\n",
    "plt.ylabel('% Favorite Sport', fontsize = 16)\n",
    "plt.title('Favorite Sports Per Year', fontsize = 16)\n",
    "plt.legend()\n",
    "plt.legend(bbox_to_anchor=(1.05, 1));\n",
    "\n",
    "\n",
    "\n",
    "\n",
    "\n",
    "\n"
   ]
  },
  {
   "cell_type": "code",
   "execution_count": 57,
   "metadata": {},
   "outputs": [
    {
     "data": {
      "text/plain": [
       "[<matplotlib.lines.Line2D at 0x7fdbb9977eb0>]"
      ]
     },
     "execution_count": 57,
     "metadata": {},
     "output_type": "execute_result"
    },
    {
     "data": {
      "image/png": "[encoded data removed]",
      "text/plain": [
       "<Figure size 432x288 with 1 Axes>"
      ]
     },
     "metadata": {
      "needs_background": "light"
     },
     "output_type": "display_data"
    }
   ],
   "source": [
    "plt.plot(sports['Year'], sports.drop(['Year', 'None'], axis = 1).sum(axis = 1))\n",
    "plt.plot(sports['Year'], sports['None'])       \n",
    "\n"
   ]
  },
  {
   "cell_type": "markdown",
   "metadata": {},
   "source": [
    "#### Create 3 visualizations for an external audience that you think show interesting/important relationships"
   ]
  },
  {
   "cell_type": "code",
   "execution_count": null,
   "metadata": {},
   "outputs": [],
   "source": []
  },
  {
   "cell_type": "code",
   "execution_count": null,
   "metadata": {},
   "outputs": [],
   "source": []
  },
  {
   "cell_type": "markdown",
   "metadata": {},
   "source": [
    "## More practice:\n",
    "\n",
    "Repeat with the drinks dataset."
   ]
  },
  {
   "cell_type": "code",
   "execution_count": null,
   "metadata": {},
   "outputs": [],
   "source": []
  },
  {
   "cell_type": "code",
   "execution_count": null,
   "metadata": {},
   "outputs": [],
   "source": [
    "drink_cols = ['country', 'beer', 'spirit', 'wine', 'liters', 'continent']\n",
    "url = './datasets/drinks.csv'\n",
    "\n",
    "drinks = pd.read_csv(url, header=0, names=drink_cols, na_filter=False)"
   ]
  },
  {
   "cell_type": "code",
   "execution_count": null,
   "metadata": {},
   "outputs": [],
   "source": []
  },
  {
   "cell_type": "code",
   "execution_count": null,
   "metadata": {},
   "outputs": [],
   "source": []
  },
  {
   "cell_type": "code",
   "execution_count": null,
   "metadata": {},
   "outputs": [],
   "source": []
  },
  {
   "cell_type": "markdown",
   "metadata": {},
   "source": [
    "For more practice, grab a dataset from [Kaggle](https://kaggle.com) and explore it with visualizations."
   ]
  },
  {
   "cell_type": "code",
   "execution_count": null,
   "metadata": {},
   "outputs": [],
   "source": []
  }
 ],
 "metadata": {
  "kernelspec": {
   "display_name": "Python 3 (ipykernel)",
   "language": "python",
   "name": "python3"
  },
  "language_info": {
   "codemirror_mode": {
    "name": "ipython",
    "version": 3
   },
   "file_extension": ".py",
   "mimetype": "text/x-python",
   "name": "python",
   "nbconvert_exporter": "python",
   "pygments_lexer": "ipython3",
   "version": "3.9.7"
  }
 },
 "nbformat": 4,
 "nbformat_minor": 4
}
